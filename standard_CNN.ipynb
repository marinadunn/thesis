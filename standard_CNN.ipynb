{
 "cells": [
  {
   "cell_type": "markdown",
   "id": "d6fe0f99",
   "metadata": {},
   "source": [
    "Created by Marina Dunn, Spring 2022\n",
    "\n",
    "**Resources used:**\n",
    "\n",
    "https://towardsdatascience.com/applied-deep-learning-part-4-convolutional-neural-networks-584bc134c1e2\n",
    "\n",
    "https://github.com/deepskies/deepmerge-public/blob/master/DeepMerge-noisy.ipynb\n",
    "\n",
    "https://towardsdatascience.com/convolutional-neural-networks-explained-9cc5188c4939\n",
    "\n",
    "https://towardsdatascience.com/cross-entropy-loss-function-f38c4ec8643e\n",
    "\n",
    "https://www.superdatascience.com/blogs/convolutional-neural-networks-cnn-softmax-crossentropy"
   ]
  },
  {
   "cell_type": "code",
   "execution_count": 3,
   "id": "f911effb",
   "metadata": {},
   "outputs": [],
   "source": [
    "# system level\n",
    "import os\n",
    "import codecs\n",
    "import sys\n",
    "import json\n",
    "import h5py\n",
    "import numpy as np\n",
    "from numpy import random\n",
    "from scipy import interp\n",
    "import pandas as pd\n",
    "pd.options.display.float_format = '{:,.2f}'.format\n",
    "pd.set_option('display.max_rows', 100)\n",
    "pd.set_option('display.max_columns', 200)\n",
    "import __future__\n",
    "import time\n",
    "from pathlib import Path\n",
    "from datetime import datetime\n",
    "import itertools\n",
    "import warnings\n",
    "warnings.filterwarnings(\"ignore\")\n",
    "\n",
    "# machine learning\n",
    "import tensorflow as tf\n",
    "#import tensorflow_probability as tfp\n",
    "from tensorflow.keras.models import Sequential, Model, model_from_json\n",
    "from tensorflow.keras.layers import BatchNormalization, Input, Flatten, Dense\n",
    "from tensorflow.keras.layers import GlobalAveragePooling2D, Activation, Dropout, Conv2D, MaxPooling2D\n",
    "from tensorflow.keras.losses import CategoricalCrossentropy\n",
    "from tensorflow.keras.optimizers import RMSprop, Adam\n",
    "from tensorflow.keras.regularizers import l2\n",
    "from tensorflow.keras.callbacks import Callback, ModelCheckpoint, EarlyStopping\n",
    "from tensorflow.keras.applications import VGG16\n",
    "from tensorflow.keras.utils import plot_model\n",
    "from tensorflow.keras.preprocessing.image import ImageDataGenerator, array_to_img, img_to_array, load_img\n",
    "import tensorflow_hub as hub\n",
    "from sklearn import metrics\n",
    "from sklearn.metrics import confusion_matrix, roc_curve, roc_auc_score, accuracy_score, classification_report\n",
    "from sklearn.metrics import precision_score, recall_score, f1_score, brier_score_loss\n",
    "\n",
    "# hyperparameter optimization\n",
    "from sklearn.model_selection import GridSearchCV\n",
    "from tensorflow.keras.wrappers.scikit_learn import KerasClassifier\n",
    "\n",
    "# plotting\n",
    "import matplotlib.pyplot as plt\n",
    "#import seaborn as sns\n",
    "import matplotlib.cm as cm\n",
    "from matplotlib.colors import LogNorm\n",
    "import matplotlib.patches as mpatches\n",
    "# Graphics in retina format are more sharp and legible\n",
    "%config InlineBackend.figure_format = 'retina'\n",
    "import matplotlib\n",
    "%matplotlib inline"
   ]
  },
  {
   "cell_type": "code",
   "execution_count": 70,
   "id": "f5215f9b",
   "metadata": {},
   "outputs": [],
   "source": [
    "#tf.config.run_functions_eagerly(False)"
   ]
  },
  {
   "cell_type": "markdown",
   "id": "25849359",
   "metadata": {},
   "source": [
    "### Load and define data"
   ]
  },
  {
   "cell_type": "code",
   "execution_count": 4,
   "id": "2f0a073d",
   "metadata": {},
   "outputs": [],
   "source": [
    "# Load year 1 train, test, validation image files\n",
    "X_train_1 = np.load('images_Y1_train.npy')\n",
    "X_test_1 = np.load('images_Y1_test.npy')\n",
    "X_valid_1 = np.load('images_Y1_valid.npy')"
   ]
  },
  {
   "cell_type": "code",
   "execution_count": 5,
   "id": "faa5188c",
   "metadata": {},
   "outputs": [],
   "source": [
    "# Load year 1, label small subset test files\n",
    "X_test_1_sub = np.load('images_Y1_test_150.npy')\n",
    "Y_test_sub = np.load('labels_test_150.npy')"
   ]
  },
  {
   "cell_type": "code",
   "execution_count": 6,
   "id": "121691e0",
   "metadata": {},
   "outputs": [],
   "source": [
    "# Load image label files\n",
    "Y_train = np.load('labels_train.npy')\n",
    "Y_test = np.load('labels_test.npy')\n",
    "Y_valid = np.load('labels_valid.npy')"
   ]
  },
  {
   "cell_type": "markdown",
   "id": "8fd31d1c",
   "metadata": {},
   "source": [
    "**Choosing batch size, epoch:**\n",
    "\n",
    "batch size: larger batch sizes result in faster progress in training, but don't always converge as fast. Smaller batch sizes train slower, but can converge faster. \n",
    "epoch: models improve with more epochs of training, to a point; will start to plateau in accuracy as they converge. "
   ]
  },
  {
   "cell_type": "code",
   "execution_count": 7,
   "id": "fa95586e",
   "metadata": {},
   "outputs": [],
   "source": [
    "# initial training variables for model 1\n",
    "# 70:10:20 for training:valid:test\n",
    "NUM_TRAIN = 23487 # num train images\n",
    "NUM_TEST = 6715 # num test images\n",
    "NUM_VALIDATION = 3355 # num validation images\n",
    "shuffle = True"
   ]
  },
  {
   "cell_type": "code",
   "execution_count": 8,
   "id": "bf53ea55",
   "metadata": {},
   "outputs": [],
   "source": [
    "# Shuffle data\n",
    "random.seed(5)\n",
    "idx = np.random.choice(len(X_train_1), size=len(X_train_1), replace=False)\n",
    "X_train_1 = X_train_1[idx]\n",
    "idx = np.random.choice(len(X_test_1), size=len(X_test_1), replace=False)\n",
    "X_test_1 = X_test_1[idx]\n",
    "idx = np.random.choice(len(X_valid_1), size=len(X_valid_1), replace=False)\n",
    "X_valid_1 = X_valid_1[idx]"
   ]
  },
  {
   "cell_type": "code",
   "execution_count": 9,
   "id": "f00ac5f2",
   "metadata": {},
   "outputs": [],
   "source": [
    "idx = np.random.choice(len(Y_train), size=len(Y_train), replace=False)\n",
    "Y_train = Y_train[idx]\n",
    "idx = np.random.choice(len(Y_test), size=len(Y_test), replace=False)\n",
    "Y_test = Y_test[idx]\n",
    "idx = np.random.choice(len(Y_valid), size=len(Y_valid), replace=False)\n",
    "Y_valid = Y_valid[idx]"
   ]
  },
  {
   "cell_type": "code",
   "execution_count": 10,
   "id": "11cc5718",
   "metadata": {},
   "outputs": [],
   "source": [
    "# cast data types as floats\n",
    "X_train_1 = X_train_1.astype('float32')\n",
    "X_test_1 = X_test_1.astype('float32')\n",
    "X_valid_1 = X_valid_1.astype('float32')\n",
    "X_test_1_sub = X_test_1_sub.astype('float32')"
   ]
  },
  {
   "cell_type": "code",
   "execution_count": 11,
   "id": "bd18931b",
   "metadata": {},
   "outputs": [
    {
     "name": "stdout",
     "output_type": "stream",
     "text": [
      "33557\n"
     ]
    }
   ],
   "source": [
    "# check data sizes\n",
    "NUM_TOTAL = NUM_TRAIN + NUM_TEST + NUM_VALIDATION\n",
    "print(NUM_TOTAL)\n",
    "assert NUM_TOTAL == len(X_train_1) + len(X_test_1) + len(X_valid_1), \"total training, test, validation samples not equal to total samples - exiting\"\n"
   ]
  },
  {
   "cell_type": "markdown",
   "id": "b52e6c93",
   "metadata": {},
   "source": [
    "### Exploratory Data Analysis"
   ]
  },
  {
   "cell_type": "code",
   "execution_count": 14,
   "id": "b3f6e22e",
   "metadata": {},
   "outputs": [],
   "source": [
    "# Y_train_df = pd.DataFrame(Y_train)\n",
    "# Y_test_df = pd.DataFrame(Y_test)\n",
    "# Y_valid_df = pd.DataFrame(Y_valid)"
   ]
  },
  {
   "cell_type": "code",
   "execution_count": 15,
   "id": "ec68bdc6",
   "metadata": {},
   "outputs": [],
   "source": [
    "#Y_train_df.info()\n",
    "#Y_test_df.info()\n",
    "#Y_valid_df.info()"
   ]
  },
  {
   "cell_type": "code",
   "execution_count": 16,
   "id": "f3285360",
   "metadata": {},
   "outputs": [],
   "source": [
    "#Y_train_df.value_counts()\n",
    "#Y_test_df.value_counts()\n",
    "#Y_valid_df.value_counts()"
   ]
  },
  {
   "cell_type": "code",
   "execution_count": 17,
   "id": "999e1fac",
   "metadata": {},
   "outputs": [],
   "source": [
    "#Y_train_df.describe()\n",
    "#Y_test_df.describe()\n",
    "#Y_valid_df.describe()"
   ]
  },
  {
   "cell_type": "markdown",
   "id": "060f73e6",
   "metadata": {},
   "source": [
    "Each image represents a series of pixels in a grid-like format with a value of brightness for each pixel."
   ]
  },
  {
   "cell_type": "code",
   "execution_count": 12,
   "id": "0e41c825",
   "metadata": {},
   "outputs": [
    {
     "name": "stdout",
     "output_type": "stream",
     "text": [
      "Data dimensions: \n",
      "Training Set:  (23487, 3, 100, 100) (23487, 3)\n",
      "Test Set:  (6715, 3, 100, 100) (6715, 3)\n",
      "Validation Set:  (3355, 3, 100, 100) (3355, 3)\n"
     ]
    }
   ],
   "source": [
    "print( \"Data dimensions: \")\n",
    "# training on year 1\n",
    "print( \"Training Set: \", np.shape(X_train_1), np.shape(Y_train)) # same for year 10\n",
    "print( \"Test Set: \", np.shape(X_test_1), np.shape(Y_test)) # same for year 10\n",
    "print( \"Validation Set: \", np.shape(X_valid_1), np.shape(Y_valid)) # same for year 10"
   ]
  },
  {
   "cell_type": "code",
   "execution_count": 15,
   "id": "264f40ae",
   "metadata": {},
   "outputs": [
    {
     "name": "stdout",
     "output_type": "stream",
     "text": [
      "Subset Test Set:  (150, 3, 100, 100)\n"
     ]
    }
   ],
   "source": [
    "print(\"Subset Test Set: \", np.shape(X_test_1_sub))"
   ]
  },
  {
   "cell_type": "markdown",
   "id": "0c3fc583",
   "metadata": {},
   "source": [
    "```\n",
    "Multi-Class Classification\n",
    "3 columns: spiral (or '0'), elliptical ('1'), or a galaxy merger ('2’) - (num_classes – 1)\n",
    "No null values, min:0, max:1\n",
    "\n",
    "(year 1)\n",
    "Training set details:\n",
    "• 23487 total images\n",
    "• 10017 Spiral galaxies (mean: 0.426491, std: 0.494577)\n",
    "• 5705 Elliptical galaxies (mean: 0.242900, std: 0.428844)\n",
    "• 7765 Merger galaxies (mean: 0.330608, std: 0.470442)\n",
    "• Memory usage: 550.6 KB\n",
    "\n",
    "Test set details:\n",
    "• 6715 total images\n",
    "• 2863 Spiral galaxies (mean: 0.426359, std: 0.494584)\n",
    "• 1631 Elliptical galaxies (mean: 0.242889, std: 0.428861)\n",
    "• 2221 Merger galaxies (mean: 0.330752, std: 0.470519)\n",
    "• Memory usage: 157.5 KB\n",
    "\n",
    "Validation set details:\n",
    "• 3355 total images\n",
    "• 1432 Spiral galaxies (mean: 0.426826, std: 0.494690)\n",
    "• 815 Elliptical galaxies (mean: 0.242921, std: 0.428912)\n",
    "• 1108 Merger galaxies (mean: 0.330253, std: 0.470374)\n",
    "• Memory usage: 78.8 KB\n",
    "```"
   ]
  },
  {
   "cell_type": "markdown",
   "id": "7b9a4bb8",
   "metadata": {},
   "source": [
    "# Build deterministic CNN model:\n",
    "First build a standard deterministic CNN classifier model as a baseline model. CNN/ConvNet typically uses ~3 convolution layers: a convolutional layer, a pooling layer, and a fully connected layer. The layer setup is such that simpler patterns are recognized first, then increasingly complex patterns thereafter.\n",
    "\n",
    "Perform series of convolution + pooling operations, then a number of fully connected layers. \n",
    "\n",
    "**Convolutional Layer:** Contains most of the network's main computational load. Performs dot product between kernel (matrix 1) and restricted portion of the receptive field (matrix 2). Forward pass. Creates an activation/feature map, or 2D representation of the image.\n",
    "\n",
    "**Pooling Layer:** provides summary statistic of nearby outputs at various network output locations. Pooling operation performed individually on every slice of activation map. Max pooling is most popular.\n",
    "\n",
    "**Fully Connected Layer:** helps map the representation b/w input and the output. Matrix multiplication, followed by a bias effect. Helps to learn non-linear combinations of features.\n",
    "\n",
    "#### Steps:\n",
    "\n",
    "1) Train\n",
    "\n",
    "2) Validate on a holdout set generated from the original training data\n",
    "\n",
    "3) Evaluate on the test data"
   ]
  },
  {
   "cell_type": "code",
   "execution_count": 14,
   "id": "462147a1",
   "metadata": {},
   "outputs": [
    {
     "name": "stdout",
     "output_type": "stream",
     "text": [
      "Tensorflow Version:  2.9.0\n"
     ]
    }
   ],
   "source": [
    "print(\"Tensorflow Version: \", tf.__version__)"
   ]
  },
  {
   "cell_type": "markdown",
   "id": "02dbddad",
   "metadata": {},
   "source": [
    "#### Defining CNN model architecture:\n",
    "\n",
    "##### Activation functions:\n",
    "\n",
    "**-Sigmoid:** σ(κ) = 1/(1+e¯κ), takes real-value number & “squashes” into a range 0-1\n",
    "\n",
    "**-ReLU/'relu':** Rectified Linear Unit, calculates ƒ(κ)=max (0,κ), or the activation is simply threshold at 0. More reliable + faster than sigmoid, tanh. More non-linearity gives more power to the model\n",
    "\n",
    "**-Softmax/Normalized Exponential:** converts a vector of numbers into a vector of probabilities, where the probabilities of each value are proportional to the relative scale of each value in the vector.\n",
    "\n",
    "##### Keras layers:\n",
    "\n",
    "**Convolution2D():** 2D convolution layer (e.g. spatial convolution over images). \n",
    "\n",
    "-args: activation (activation function to use), \n",
    "\n",
    "**MaxPooling2D():** Max pooling operation for 2D spatial data\n",
    "\n",
    "-args: pool_size (window size over which to take the maximum), strides (Specifies how far the pooling window moves for each pooling step; sliding size of the kernel), padding (''valid\"- no padding, or ''same\"- padding evenly to the left/right or up/down of the input such that output has the same height/width dimension as the input), data_format (ordering of the dimensions in the inputs)\n",
    "\n",
    "data_format='channels_first': \n",
    "\n",
    "input: 4D tensor with shape (batch_size, channels, rows, cols)\n",
    "output: 4D tensor with shape (batch_size, channels, pooled_rows, pooled_cols).\n",
    "\n",
    "**Dense():** regular densely-connected neural network layer (describes a layer of neurons)\n",
    "\n",
    "-args: activation (activation function to use), kernel_regularizer (regularizer function applied to the kernel weights matrix)\n",
    "\n",
    "##### Regularization\n",
    "**Dropout:** Most popular regularization technique, prevents overfitting. At each iteration, neuron temporarily “dropped” with probability 'p'. This neuron is resampled with 'p' at every training step, so will be active at next step. Typically ~0.5 or 50%. Can be applied to input or hidden layer nodes, but not output nodes. \n",
    "\n",
    "**Batch Normalization:** explicitly forces the activations throughout a network to take on a Gaussian distribution at the beginning of training, applying a transformation that maintains mean output close to 0 and output standard deviation close to 1. BatchNorm layer inserted immediately after fully connected layers, or convolutional layers, and before non-linearities. Significantly more robust to bad initialization.\n",
    "\n",
    "##### Keras Early stopping\n",
    "**Early stopping:** Early stopping call back function can be used to monitor either accuracy or loss, stopping when there's either a loss increment, or accuracy decrement. Should monitor the thing that is more sensitive, which is usually loss function- will start seeing signs of overfitting in loss earlier. \n",
    "\n",
    "##### Keras Optimizers:  \n",
    "**Adam:** implements the Adam algorithm; learning rate of 0.001. Stochastic gradient descent method based on adaptive estimation of 1st-order and 2nd-order moments. Very performant.\n",
    "\n",
    "##### Loss function: \n",
    "**Categorical Cross-entropy:** Computes the cross-entropy loss between the labels and predictions. Used when adjusting model weights during training. Categorical cross-entropy is used with 'softmax' activation for multi-class classification problem, i.e. when true label values are one-hot encoded for 3-class classification problem.\n",
    "\n",
    "**Sparse Categorical Cross-entropy:** Same as above, but does not require one-hot encoding. Used when there are many labels.\n",
    "\n",
    "##### Additional techniques to potentially look at:\n",
    "**Cross validation:** (i.e. k-fold), partition the original training data set into k equal subsets, each called a fold (named f1, f2, …, fk, for i = 1 to i = k). Keep the fold fi as the Validation set, and keep all the remaining k-1 folds in the Cross validation training set. Train model using the cross validation training set; calculate accuracy by validating predicted results against the validation set. Estimate accuracy of model by averaging the accuracies derived in all the k cases of cross validation. Helps reduce overfitting problem."
   ]
  },
  {
   "cell_type": "code",
   "execution_count": 15,
   "id": "09808d8f",
   "metadata": {},
   "outputs": [
    {
     "name": "stdout",
     "output_type": "stream",
     "text": [
      "['Spiral', 'Elliptical', 'Merger']\n"
     ]
    }
   ],
   "source": [
    "class_names = ['Spiral', 'Elliptical', 'Merger']\n",
    "NUM_CLASSES = len(class_names)\n",
    "print(class_names)"
   ]
  },
  {
   "cell_type": "code",
   "execution_count": 16,
   "id": "1390e38c",
   "metadata": {},
   "outputs": [],
   "source": [
    "base_dir = '/Users/marinadunn/Desktop/Grad_School/Research/'\n",
    "train_dir = os.path.join(base_dir, 'train')\n",
    "validation_dir = os.path.join(base_dir, 'validation')\n",
    "test_dir = os.path.join(base_dir, 'test')\n",
    "\n",
    "f_model = os.path.join(base_dir, \"model.json\") # model data (architecture)\n",
    "f_history = os.path.join(base_dir, \"history.json\") # training history \n",
    "f_weights = os.path.join(base_dir, \"weights.h5\") # model data (final weights)\n",
    "f_best_weights = os.path.join(base_dir, \"best_weights.h5\") # model data (best weights, give highest validation accuracy)"
   ]
  },
  {
   "cell_type": "markdown",
   "id": "13a94405",
   "metadata": {},
   "source": [
    "### Model 1"
   ]
  },
  {
   "cell_type": "code",
   "execution_count": 17,
   "id": "fa4304fd",
   "metadata": {},
   "outputs": [],
   "source": [
    "NUM_EPOCH = 100\n",
    "batch_size = 128"
   ]
  },
  {
   "cell_type": "code",
   "execution_count": 18,
   "id": "0c8f9034",
   "metadata": {},
   "outputs": [
    {
     "name": "stdout",
     "output_type": "stream",
     "text": [
      "Metal device set to: Apple M1\n"
     ]
    },
    {
     "name": "stderr",
     "output_type": "stream",
     "text": [
      "2022-05-28 18:45:08.568928: I tensorflow/core/common_runtime/pluggable_device/pluggable_device_factory.cc:305] Could not identify NUMA node of platform GPU ID 0, defaulting to 0. Your kernel may not have been built with NUMA support.\n",
      "2022-05-28 18:45:08.569388: I tensorflow/core/common_runtime/pluggable_device/pluggable_device_factory.cc:271] Created TensorFlow device (/job:localhost/replica:0/task:0/device:GPU:0 with 0 MB memory) -> physical PluggableDevice (device: 0, name: METAL, pci bus id: <undefined>)\n"
     ]
    }
   ],
   "source": [
    "# Defining model layers, build with the Functional API\n",
    "\n",
    "#(channels, rows, cols)\n",
    "input_shape = (3, 100, 100)\n",
    "\n",
    "# Constraints for layer 1\n",
    "# input: tensors of shape (color_channels, image_height, image_width), ignoring batch size\n",
    "x = Input(shape=input_shape)\n",
    "#For CNN: Convolution typically uses 3x3 windows, stride 1 & with padding. Will try 5x5 window first to attempt tp catch more features, but try multiple\n",
    "c0 = Conv2D(8, (5, 5), activation='relu', strides=(1, 1), padding='same', data_format='channels_first', name='conv_1')(x)\n",
    "# normalize input for first layer & also apply to each of the hidden layers\n",
    "b0 = BatchNormalization()(c0)\n",
    "#For CNN: pooling typically uses 2x2 windows, stride 2 & no padding\n",
    "d0 = MaxPooling2D(pool_size=(2, 2), strides=None, padding='valid', data_format='channels_first', name='maxpool_1')(b0)\n",
    "e0 = Dropout(0.5)(d0)\n",
    "\n",
    "# Constraints for layer 2\n",
    "c1 = Conv2D(16, (3, 3), activation='relu', strides=(1, 1), padding='same', data_format='channels_first', name='conv_2')(e0)\n",
    "b1 = BatchNormalization()(c1)\n",
    "d1 = MaxPooling2D(pool_size=(2, 2), strides=None, padding='valid', data_format='channels_first', name='maxpool_2')(b1)\n",
    "e1 = Dropout(0.5)(d1)\n",
    "\n",
    "# Constraints for layer 3\n",
    "c2 = Conv2D(32, (3, 3), activation='relu', strides=(1, 1), padding='same', data_format='channels_first', name='conv_3')(e1)\n",
    "b2 = BatchNormalization()(c2)\n",
    "d2 = MaxPooling2D(pool_size=(2, 2), strides=None, padding='valid', data_format='channels_first', name='maxpool_3')(b2)\n",
    "e2 = Dropout(0.5)(d2)\n",
    "\n",
    "#flatten (or unroll) the 3D output to 1D\n",
    "f = Flatten()(e2)\n",
    "\n",
    "# hidden layer\n",
    "# Dense layer: takes 1D vector as input, current output is a 3D tensor; start simple, then change unit to try to increase performance\n",
    "z0 = Dense(512, activation='relu', kernel_regularizer=l2(0.0001), name='dense_1')(f)\n",
    "z1 = Dense(256, activation='relu', kernel_regularizer=l2(0.0001), name='dense_2')(z0)\n",
    "# use L2 regulization: take sum of all params squared & add it w/ square difference of actual output & predictions\n",
    "# weights not sparse, will get much better accuracy than L1\n",
    "z2 = Dense(64, activation='relu', kernel_regularizer=l2(0.0001), name='dense_3')(z1)\n",
    "z3 = Dense(32, activation='relu', kernel_regularizer=l2(0.0001), name='dense_4')(z2)\n",
    "# output layer must create 3 output values, one for each class\n",
    "# use “softmax” activation function to ensure output values are in range 0-1 & may be used as predicted probabilities\n",
    "y = Dense(NUM_CLASSES, activation='softmax', name='output')(z3)\n",
    "\n",
    "model1 = Model(inputs=x, outputs=y)"
   ]
  },
  {
   "cell_type": "code",
   "execution_count": 19,
   "id": "89459ff9",
   "metadata": {},
   "outputs": [
    {
     "name": "stdout",
     "output_type": "stream",
     "text": [
      "Model: \"model\"\n",
      "_________________________________________________________________\n",
      " Layer (type)                Output Shape              Param #   \n",
      "=================================================================\n",
      " input_1 (InputLayer)        [(None, 3, 100, 100)]     0         \n",
      "                                                                 \n",
      " conv_1 (Conv2D)             (None, 8, 100, 100)       608       \n",
      "                                                                 \n",
      " batch_normalization (BatchN  (None, 8, 100, 100)      400       \n",
      " ormalization)                                                   \n",
      "                                                                 \n",
      " maxpool_1 (MaxPooling2D)    (None, 8, 50, 50)         0         \n",
      "                                                                 \n",
      " dropout (Dropout)           (None, 8, 50, 50)         0         \n",
      "                                                                 \n",
      " conv_2 (Conv2D)             (None, 16, 50, 50)        1168      \n",
      "                                                                 \n",
      " batch_normalization_1 (Batc  (None, 16, 50, 50)       200       \n",
      " hNormalization)                                                 \n",
      "                                                                 \n",
      " maxpool_2 (MaxPooling2D)    (None, 16, 25, 25)        0         \n",
      "                                                                 \n",
      " dropout_1 (Dropout)         (None, 16, 25, 25)        0         \n",
      "                                                                 \n",
      " conv_3 (Conv2D)             (None, 32, 25, 25)        4640      \n",
      "                                                                 \n",
      " batch_normalization_2 (Batc  (None, 32, 25, 25)       100       \n",
      " hNormalization)                                                 \n",
      "                                                                 \n",
      " maxpool_3 (MaxPooling2D)    (None, 32, 12, 12)        0         \n",
      "                                                                 \n",
      " dropout_2 (Dropout)         (None, 32, 12, 12)        0         \n",
      "                                                                 \n",
      " flatten (Flatten)           (None, 4608)              0         \n",
      "                                                                 \n",
      " dense_1 (Dense)             (None, 512)               2359808   \n",
      "                                                                 \n",
      " dense_2 (Dense)             (None, 256)               131328    \n",
      "                                                                 \n",
      " dense_3 (Dense)             (None, 64)                16448     \n",
      "                                                                 \n",
      " dense_4 (Dense)             (None, 32)                2080      \n",
      "                                                                 \n",
      " output (Dense)              (None, 3)                 99        \n",
      "                                                                 \n",
      "=================================================================\n",
      "Total params: 2,516,879\n",
      "Trainable params: 2,516,529\n",
      "Non-trainable params: 350\n",
      "_________________________________________________________________\n"
     ]
    }
   ],
   "source": [
    "# Compile Model\n",
    "optimizer = 'adam'\n",
    "metrics = ['accuracy']\n",
    "# Multi-Class Cross-Entropy Loss\n",
    "loss = 'categorical_crossentropy' \n",
    "model1.compile(loss=loss, optimizer=optimizer, metrics=metrics)\n",
    "model1.summary()"
   ]
  },
  {
   "cell_type": "code",
   "execution_count": 20,
   "id": "5c851560",
   "metadata": {},
   "outputs": [],
   "source": [
    "\"\"\"\n",
    "monitor: value to be monitored by the function: validation loss or validation accuracy\n",
    "mode: mode in which change in the quantity monitored should be observed: ‘min’, ‘max’, or ‘auto’. \n",
    "For loss, value is ‘min’. For accuracy, value is ‘max’. ‘auto’: monitors with auto suitable mode\n",
    "patience: number of epochs for the training to be continued after the first halt for any improvement in the model\n",
    "verbose: integer value- 0, 1 or 2, selects the way in which progress is displayed while training\n",
    "Verbose = 1: A bar depicting the progress of training is displayed\n",
    "\"\"\"\n",
    "\n",
    "es = [EarlyStopping(monitor='val_loss', mode='min', verbose=1, patience=50),\n",
    "# Save best weights in order to maximize validation accuracy, only saves when the model is considered the \"best\"\n",
    "     ModelCheckpoint(filepath=f_best_weights, monitor='val_acc', mode='max', verbose=1, save_best_only=True)] "
   ]
  },
  {
   "cell_type": "code",
   "execution_count": 127,
   "id": "3ddebdb3",
   "metadata": {},
   "outputs": [
    {
     "name": "stdout",
     "output_type": "stream",
     "text": [
      "You must install pydot (`pip install pydot`) and install graphviz (see instructions at https://graphviz.gitlab.io/download/) for plot_model/model_to_dot to work.\n"
     ]
    }
   ],
   "source": [
    "#plot_model(model1, \"model1_diagram.png\", show_shapes=True)"
   ]
  },
  {
   "cell_type": "code",
   "execution_count": null,
   "id": "e0cf3cf9",
   "metadata": {},
   "outputs": [
    {
     "name": "stdout",
     "output_type": "stream",
     "text": [
      "Epoch 1/100\n"
     ]
    }
   ],
   "source": [
    "# Train Model\n",
    "\n",
    "history = model1.fit(\n",
    "                    X_train_1, Y_train,\n",
    "                    batch_size=batch_size,\n",
    "                    epochs=NUM_EPOCH,\n",
    "                    validation_data=(X_valid_1, Y_valid),                \n",
    "                    shuffle=shuffle,\n",
    "                    verbose=True,\n",
    "                    callbacks=es\n",
    "            )"
   ]
  },
  {
   "cell_type": "code",
   "execution_count": 40,
   "id": "a6311a99",
   "metadata": {},
   "outputs": [],
   "source": [
    "# Save data\n",
    "model1.save_weights(f_weights, overwrite=True)\n",
    "open(f_model, 'w').write(model1.to_json())\n",
    "\n",
    "#Saving history for future use\n",
    "with open(f_history, 'w') as f:\n",
    "    json.dump(history.history, f)"
   ]
  },
  {
   "cell_type": "code",
   "execution_count": 111,
   "id": "5e7376f2",
   "metadata": {},
   "outputs": [
    {
     "name": "stderr",
     "output_type": "stream",
     "text": [
      "2022-05-10 21:03:38.054615: I tensorflow/core/grappler/optimizers/custom_graph_optimizer_registry.cc:113] Plugin optimizer for device_type GPU is enabled.\n",
      "2022-05-10 21:03:38.476137: I tensorflow/core/grappler/optimizers/custom_graph_optimizer_registry.cc:113] Plugin optimizer for device_type GPU is enabled.\n",
      "2022-05-10 21:03:38.636154: I tensorflow/core/grappler/optimizers/custom_graph_optimizer_registry.cc:113] Plugin optimizer for device_type GPU is enabled.\n"
     ]
    },
    {
     "name": "stdout",
     "output_type": "stream",
     "text": [
      "Loaded model from disk\n"
     ]
    }
   ],
   "source": [
    "#loading history\n",
    "path = f_history\n",
    "if os.path.exists(path): # reload history if it exists\n",
    "        with codecs.open(path, 'r', encoding='utf-8') as f:\n",
    "             n = json.loads(f.read())\n",
    "                \n",
    "#loading model\n",
    "json_file = open(f_model, 'r')\n",
    "loaded_model_json = json_file.read()\n",
    "json_file.close()\n",
    "loaded_model = model_from_json(loaded_model_json)\n",
    "\n",
    "\n",
    "# load best weights into new model\n",
    "loaded_model.load_weights(f_weights)\n",
    "print(\"Loaded model from disk\")"
   ]
  },
  {
   "cell_type": "code",
   "execution_count": 112,
   "id": "6482c878",
   "metadata": {},
   "outputs": [
    {
     "ename": "NameError",
     "evalue": "name 'loss' is not defined",
     "output_type": "error",
     "traceback": [
      "\u001b[0;31m---------------------------------------------------------------------------\u001b[0m",
      "\u001b[0;31mNameError\u001b[0m                                 Traceback (most recent call last)",
      "Input \u001b[0;32mIn [112]\u001b[0m, in \u001b[0;36m<cell line: 2>\u001b[0;34m()\u001b[0m\n\u001b[1;32m      1\u001b[0m \u001b[38;5;66;03m# Evaluate the model on test data\u001b[39;00m\n\u001b[0;32m----> 2\u001b[0m loaded_model\u001b[38;5;241m.\u001b[39mcompile(loss\u001b[38;5;241m=\u001b[39m\u001b[43mloss\u001b[49m, optimizer\u001b[38;5;241m=\u001b[39moptimizer, metrics\u001b[38;5;241m=\u001b[39mmetrics)\n\u001b[1;32m      3\u001b[0m score \u001b[38;5;241m=\u001b[39m loaded_model\u001b[38;5;241m.\u001b[39mevaluate(X_test_1, Y_test, verbose\u001b[38;5;241m=\u001b[39m\u001b[38;5;28;01mTrue\u001b[39;00m)\n\u001b[1;32m      4\u001b[0m \u001b[38;5;28mprint\u001b[39m(\u001b[38;5;124m\"\u001b[39m\u001b[38;5;132;01m%s\u001b[39;00m\u001b[38;5;124m: \u001b[39m\u001b[38;5;132;01m%.2f\u001b[39;00m\u001b[38;5;132;01m%%\u001b[39;00m\u001b[38;5;124m\"\u001b[39m \u001b[38;5;241m%\u001b[39m (loaded_model\u001b[38;5;241m.\u001b[39mmetrics_names[\u001b[38;5;241m1\u001b[39m], score[\u001b[38;5;241m1\u001b[39m]\u001b[38;5;241m*\u001b[39m\u001b[38;5;241m100\u001b[39m))\n",
      "\u001b[0;31mNameError\u001b[0m: name 'loss' is not defined"
     ]
    }
   ],
   "source": [
    "# Evaluate the model on test data\n",
    "loaded_model.compile(loss=loss, optimizer=optimizer, metrics=metrics)\n",
    "score = loaded_model.evaluate(X_test_1, Y_test, verbose=True)\n",
    "print(\"%s: %.2f%%\" % (loaded_model.metrics_names[1], score[1]*100))"
   ]
  },
  {
   "cell_type": "code",
   "execution_count": 45,
   "id": "697352fc",
   "metadata": {},
   "outputs": [
    {
     "name": "stdout",
     "output_type": "stream",
     "text": [
      "5/5 [==============================] - 0s 35ms/step - loss: 0.8892 - accuracy: 0.8333\n",
      "accuracy: 83.33%\n"
     ]
    }
   ],
   "source": [
    "# Evaluate the model on test smaller subset\n",
    "score = loaded_model.evaluate(X_test_1_sub, Y_test_sub, verbose=True)\n",
    "print(\"%s: %.2f%%\" % (loaded_model.metrics_names[1], score[1]*100))"
   ]
  },
  {
   "cell_type": "code",
   "execution_count": 29,
   "id": "1edc620a",
   "metadata": {},
   "outputs": [
    {
     "ename": "NameError",
     "evalue": "name 'history' is not defined",
     "output_type": "error",
     "traceback": [
      "\u001b[0;31m---------------------------------------------------------------------------\u001b[0m",
      "\u001b[0;31mNameError\u001b[0m                                 Traceback (most recent call last)",
      "Input \u001b[0;32mIn [29]\u001b[0m, in \u001b[0;36m<cell line: 4>\u001b[0;34m()\u001b[0m\n\u001b[1;32m      1\u001b[0m \u001b[38;5;66;03m# Visualize training results (Loss)\u001b[39;00m\n\u001b[1;32m      2\u001b[0m \n\u001b[1;32m      3\u001b[0m \u001b[38;5;66;03m# Accuracy\u001b[39;00m\n\u001b[0;32m----> 4\u001b[0m acc \u001b[38;5;241m=\u001b[39m \u001b[43mhistory\u001b[49m\u001b[38;5;241m.\u001b[39mhistory[\u001b[38;5;124m'\u001b[39m\u001b[38;5;124maccuracy\u001b[39m\u001b[38;5;124m'\u001b[39m]\n\u001b[1;32m      5\u001b[0m val_acc \u001b[38;5;241m=\u001b[39m history\u001b[38;5;241m.\u001b[39mhistory[\u001b[38;5;124m'\u001b[39m\u001b[38;5;124mval_accuracy\u001b[39m\u001b[38;5;124m'\u001b[39m]\n\u001b[1;32m      7\u001b[0m \u001b[38;5;66;03m# Loss\u001b[39;00m\n",
      "\u001b[0;31mNameError\u001b[0m: name 'history' is not defined"
     ]
    }
   ],
   "source": [
    "# Visualize training results (Loss)\n",
    "\n",
    "# Accuracy\n",
    "acc = history.history['accuracy']\n",
    "val_acc = history.history['val_accuracy']\n",
    "\n",
    "# Loss\n",
    "loss = history.history['loss']\n",
    "val_loss = history.history['val_loss']\n",
    "\n",
    "epochs = list(range(len(loss)))\n",
    "\n",
    "#plot\n",
    "figsize=(6,4)\n",
    "fig, axis1 = plt.subplots(figsize=figsize)\n",
    "\n",
    "plot1_lacc = axis1.plot(epochs, acc, 'navy', label='accuracy')\n",
    "plot1_val_lacc = axis1.plot(epochs, val_acc, 'deepskyblue', label=\"Validation Accuracy\")\n",
    "\n",
    "plot1_loss = axis1.plot(epochs, loss, 'red', label='loss')\n",
    "plot1_val_loss = axis1.plot(epochs, val_loss, 'lightsalmon', label=\"Validation Loss\")\n",
    "\n",
    "\n",
    "plots = plot1_loss + plot1_val_loss\n",
    "labs = [l.get_label() for l in plots]\n",
    "\n",
    "axis1.set_xlabel('Epoch')\n",
    "axis1.set_ylabel('Loss/Accuracy')\n",
    "plt.title(\"Model 1 Loss/Accuracy History (Year 1 Images)\")\n",
    "plt.tight_layout()\n",
    "axis1.legend(loc='lower left')"
   ]
  },
  {
   "cell_type": "markdown",
   "id": "e61c5976",
   "metadata": {},
   "source": [
    "Training loss continues to go down, but validation loss starts to go up at epoch 10. Starts overfitting at epoch 10. Look for additional normalization techniques."
   ]
  },
  {
   "cell_type": "code",
   "execution_count": 51,
   "id": "1292ed94",
   "metadata": {},
   "outputs": [],
   "source": [
    "# Evaluate for test set\n",
    "# predict\n",
    "prob = loaded_model.predict(X_test_1)\n",
    "pred = np.round(prob, 0).astype('int32')"
   ]
  },
  {
   "cell_type": "code",
   "execution_count": 57,
   "id": "0760976b",
   "metadata": {},
   "outputs": [
    {
     "name": "stdout",
     "output_type": "stream",
     "text": [
      "('              precision    recall  f1-score   support\\n'\n",
      " '\\n'\n",
      " '      Spiral       0.86      0.88      0.87      2863\\n'\n",
      " '  Elliptical       0.80      0.73      0.76      1631\\n'\n",
      " '      Merger       0.78      0.78      0.78      2221\\n'\n",
      " '\\n'\n",
      " '   micro avg       0.82      0.81      0.82      6715\\n'\n",
      " '   macro avg       0.82      0.80      0.81      6715\\n'\n",
      " 'weighted avg       0.82      0.81      0.82      6715\\n'\n",
      " ' samples avg       0.81      0.81      0.81      6715\\n')\n"
     ]
    }
   ],
   "source": [
    "# Classification report\n",
    "from pprint import pprint\n",
    "classification_metrics = classification_report(Y_test, pred, target_names=class_names)\n",
    "pprint(classification_metrics)"
   ]
  },
  {
   "cell_type": "code",
   "execution_count": 59,
   "id": "b6dae296",
   "metadata": {},
   "outputs": [],
   "source": [
    "categorical_test_labels = pd.DataFrame(Y_test).idxmax(axis=1)\n",
    "categorical_preds = pd.DataFrame(pred).idxmax(axis=1)\n",
    "confusion_matrix = confusion_matrix(categorical_test_labels, categorical_preds)\n",
    "\n",
    "def plot_confusion_matrix(cm, classes,\n",
    "   normalize=False,\n",
    "   title='Confusion matrix',\n",
    "   cmap=plt.cm.Blues):\n",
    "    plt.imshow(cm, interpolation='nearest', cmap=cmap)\n",
    "    plt.title(title)\n",
    "    plt.colorbar()\n",
    "    tick_marks = np.arange(len(classes))\n",
    "    plt.xticks(tick_marks, classes, rotation=45)\n",
    "    plt.yticks(tick_marks, classes)\n",
    " \n",
    "    fmt = '.2f' if normalize else 'd'\n",
    "    thresh = cm.max() / 2.\n",
    "    for i, j in itertools.product(range(cm.shape[0]), range(cm.shape[1])):\n",
    "        plt.text(j, i, format(cm[i, j], fmt), horizontalalignment=\"center\", \n",
    "                 color=\"white\" if cm[i, j] > thresh else \"black\")\n",
    " \n",
    "    plt.tight_layout()\n",
    "    plt.ylabel('True label')\n",
    "    plt.xlabel('Predicted label') "
   ]
  },
  {
   "cell_type": "code",
   "execution_count": 62,
   "id": "b06b1b7b",
   "metadata": {},
   "outputs": [
    {
     "data": {
      "image/png": "[encoded data removed]",
      "text/plain": [
       "<Figure size 432x288 with 2 Axes>"
      ]
     },
     "metadata": {
      "image/png": {
       "height": 293,
       "width": 346
      },
      "needs_background": "light"
     },
     "output_type": "display_data"
    }
   ],
   "source": [
    "plot_confusion_matrix(confusion_matrix, class_names)"
   ]
  },
  {
   "cell_type": "code",
   "execution_count": 74,
   "id": "22e543f9",
   "metadata": {},
   "outputs": [
    {
     "name": "stdout",
     "output_type": "stream",
     "text": [
      "Accuracy: 0.811914\n",
      "Precision (samples): 0.811914\n",
      "Recall (samples): 0.811914\n",
      "F1 score (samples): 0.811914\n",
      "Precision (micro): 0.821951\n",
      "Recall (micro): 0.811914\n",
      "F1 score (micro): 0.816901\n",
      "Precision (weighted): 0.821131\n",
      "Recall (weighted): 0.811914\n",
      "F1 score (weighted): 0.816085\n"
     ]
    }
   ],
   "source": [
    "labels = [0, 1, 2]\n",
    "# accuracy: (tp + tn) / (p + n)\n",
    "accuracy = accuracy_score(Y_test, pred)\n",
    "print('Accuracy: %f' % accuracy)\n",
    "\n",
    "# precision tp / (tp + fp)\n",
    "precision = precision_score(Y_test, pred, labels=labels, average='samples')\n",
    "print('Precision (samples): %f' % precision)\n",
    "\n",
    "# recall: tp / (tp + fn)\n",
    "recall = recall_score(Y_test, pred, labels=labels, average='samples')\n",
    "print('Recall (samples): %f' % recall)\n",
    "\n",
    "# precision tp / (tp + fp)\n",
    "precision = precision_score(Y_test, pred, labels=labels, average='micro')\n",
    "print('Precision (micro): %f' % precision)\n",
    "\n",
    "# precision tp / (tp + fp)\n",
    "precision = precision_score(Y_test, pred, labels=labels, average='weighted')\n",
    "print('Precision (weighted): %f' % precision)\n"
   ]
  },
  {
   "cell_type": "markdown",
   "id": "9937053d",
   "metadata": {},
   "source": [
    "### Model 2\n",
    "Changes:\n",
    "\n",
    "Increase dropout rates after first\n",
    "\n",
    "Lower batch size\n",
    "\n",
    "Increased the number of Conv2D layers by 2\n",
    "\n",
    "Add padding to Maxpool"
   ]
  },
  {
   "cell_type": "code",
   "execution_count": 21,
   "id": "90a6d8a0",
   "metadata": {},
   "outputs": [],
   "source": [
    "es = [EarlyStopping(monitor='val_loss', mode='min', verbose=1, patience=50),\n",
    "# Save best weights in order to maximize validation accuracy, only saves when the model is considered the \"best\"\n",
    "     ModelCheckpoint(filepath='model/best_weights', monitor='val_acc', mode='max', verbose=1, save_best_only=True)] "
   ]
  },
  {
   "cell_type": "code",
   "execution_count": 22,
   "id": "472a7e28",
   "metadata": {},
   "outputs": [
    {
     "name": "stdout",
     "output_type": "stream",
     "text": [
      "Model: \"model_1\"\n",
      "_________________________________________________________________\n",
      " Layer (type)                Output Shape              Param #   \n",
      "=================================================================\n",
      " input_2 (InputLayer)        [(None, 3, 100, 100)]     0         \n",
      "                                                                 \n",
      " conv_1 (Conv2D)             (None, 8, 100, 100)       608       \n",
      "                                                                 \n",
      " conv_2 (Conv2D)             (None, 8, 100, 100)       584       \n",
      "                                                                 \n",
      " batch_normalization_3 (Batc  (None, 8, 100, 100)      400       \n",
      " hNormalization)                                                 \n",
      "                                                                 \n",
      " maxpool_1 (MaxPooling2D)    (None, 8, 50, 50)         0         \n",
      "                                                                 \n",
      " dropout_3 (Dropout)         (None, 8, 50, 50)         0         \n",
      "                                                                 \n",
      " conv_3 (Conv2D)             (None, 16, 50, 50)        1168      \n",
      "                                                                 \n",
      " conv_4 (Conv2D)             (None, 16, 50, 50)        2320      \n",
      "                                                                 \n",
      " batch_normalization_4 (Batc  (None, 16, 50, 50)       200       \n",
      " hNormalization)                                                 \n",
      "                                                                 \n",
      " maxpool_2 (MaxPooling2D)    (None, 16, 25, 25)        0         \n",
      "                                                                 \n",
      " dropout_4 (Dropout)         (None, 16, 25, 25)        0         \n",
      "                                                                 \n",
      " conv_5 (Conv2D)             (None, 32, 25, 25)        4640      \n",
      "                                                                 \n",
      " batch_normalization_5 (Batc  (None, 32, 25, 25)       100       \n",
      " hNormalization)                                                 \n",
      "                                                                 \n",
      " maxpool_3 (MaxPooling2D)    (None, 32, 13, 13)        0         \n",
      "                                                                 \n",
      " dropout_5 (Dropout)         (None, 32, 13, 13)        0         \n",
      "                                                                 \n",
      " conv_6 (Conv2D)             (None, 64, 13, 13)        18496     \n",
      "                                                                 \n",
      " batch_normalization_6 (Batc  (None, 64, 13, 13)       52        \n",
      " hNormalization)                                                 \n",
      "                                                                 \n",
      " maxpool_4 (MaxPooling2D)    (None, 64, 7, 7)          0         \n",
      "                                                                 \n",
      " dropout_6 (Dropout)         (None, 64, 7, 7)          0         \n",
      "                                                                 \n",
      " flatten_1 (Flatten)         (None, 3136)              0         \n",
      "                                                                 \n",
      " dense_1 (Dense)             (None, 64)                200768    \n",
      "                                                                 \n",
      " dense_2 (Dense)             (None, 32)                2080      \n",
      "                                                                 \n",
      " output (Dense)              (None, 3)                 99        \n",
      "                                                                 \n",
      "=================================================================\n",
      "Total params: 231,515\n",
      "Trainable params: 231,139\n",
      "Non-trainable params: 376\n",
      "_________________________________________________________________\n"
     ]
    }
   ],
   "source": [
    "input_shape = (3, 100, 100)\n",
    "\n",
    "# Constraints for block 1\n",
    "inputs = Input(shape=input_shape)\n",
    "x = Conv2D(8, kernel_size=(5, 5), activation='relu', padding='same', data_format='channels_first', name='conv_1')(inputs)\n",
    "x = Conv2D(8, kernel_size=(3, 3), activation='relu', padding='same', data_format='channels_first', name='conv_2')(x)\n",
    "x = BatchNormalization()(x)\n",
    "x = MaxPooling2D(pool_size=(2, 2), strides=2, padding='same', data_format='channels_first', name='maxpool_1')(x)\n",
    "x = Dropout(rate=0.5)(x)\n",
    "\n",
    "# Constraints for block 2\n",
    "x = Conv2D(16, kernel_size=(3, 3), activation='relu', padding='same', data_format='channels_first', name='conv_3')(x)\n",
    "x = Conv2D(16, kernel_size=(3, 3), activation='relu', padding='same', data_format='channels_first', name='conv_4')(x)\n",
    "x = BatchNormalization()(x)\n",
    "x = MaxPooling2D(pool_size=(2, 2), strides=2, padding='same', data_format='channels_first', name='maxpool_2')(x)\n",
    "x = Dropout(rate=0.8)(x)\n",
    "\n",
    "# Constraints for block 3\n",
    "x = Conv2D(32, kernel_size=(3, 3), activation='relu', padding='same', data_format='channels_first', name='conv_5')(x)\n",
    "x = BatchNormalization()(x)\n",
    "x = MaxPooling2D(pool_size=(2, 2), strides=2, padding='same', data_format='channels_first', name='maxpool_3')(x)\n",
    "x = Dropout(rate=0.8)(x)\n",
    "\n",
    "# Constraints for block 4\n",
    "x = Conv2D(64, kernel_size=(3, 3), activation='relu', padding='same', data_format='channels_first', name='conv_6')(x)\n",
    "x = BatchNormalization()(x)\n",
    "x = MaxPooling2D(pool_size=(2, 2), strides=2, padding='same', data_format='channels_first', name='maxpool_4')(x)\n",
    "x = Dropout(rate=0.8)(x)\n",
    "\n",
    "# flatten (or unroll) the 3D output to 1D\n",
    "x = Flatten()(x)\n",
    "\n",
    "# hidden layers\n",
    "x = Dense(64, activation='relu', kernel_regularizer=l2(0.0001), name='dense_1')(x)\n",
    "x = Dense(32, activation='relu', kernel_regularizer=l2(0.0001), name='dense_2')(x)\n",
    "outputs = Dense(NUM_CLASSES, activation='softmax', name='output')(x)\n",
    "\n",
    "model2 = Model(inputs=inputs, outputs=outputs)\n",
    "\n",
    "# Compile model\n",
    "model2.compile( \n",
    "    optimizer='adam',\n",
    "    loss='categorical_crossentropy',\n",
    "    metrics=['accuracy']\n",
    "    )\n",
    "\n",
    "model2.summary()"
   ]
  },
  {
   "cell_type": "code",
   "execution_count": 25,
   "id": "7b89d8ac",
   "metadata": {},
   "outputs": [],
   "source": [
    "batch_size = 64\n",
    "NUM_EPOCH = 100"
   ]
  },
  {
   "cell_type": "code",
   "execution_count": null,
   "id": "6abca1ad",
   "metadata": {},
   "outputs": [
    {
     "name": "stdout",
     "output_type": "stream",
     "text": [
      "Epoch 1/100\n",
      "367/367 [==============================] - ETA: 0s - loss: 1.1071 - accuracy: 0.4157"
     ]
    },
    {
     "name": "stderr",
     "output_type": "stream",
     "text": [
      "2022-05-28 18:48:50.543230: I tensorflow/core/grappler/optimizers/custom_graph_optimizer_registry.cc:113] Plugin optimizer for device_type GPU is enabled.\n"
     ]
    },
    {
     "name": "stdout",
     "output_type": "stream",
     "text": [
      "WARNING:tensorflow:Can save best model only with val_acc available, skipping.\n",
      "367/367 [==============================] - 120s 325ms/step - loss: 1.1071 - accuracy: 0.4157 - val_loss: 1.0906 - val_accuracy: 0.4268\n",
      "Epoch 2/100\n",
      "367/367 [==============================] - ETA: 0s - loss: 1.0912 - accuracy: 0.4259WARNING:tensorflow:Can save best model only with val_acc available, skipping.\n",
      "367/367 [==============================] - 116s 316ms/step - loss: 1.0912 - accuracy: 0.4259 - val_loss: 1.0899 - val_accuracy: 0.4268\n",
      "Epoch 3/100\n",
      "367/367 [==============================] - ETA: 0s - loss: 1.0887 - accuracy: 0.4264WARNING:tensorflow:Can save best model only with val_acc available, skipping.\n",
      "367/367 [==============================] - 116s 315ms/step - loss: 1.0887 - accuracy: 0.4264 - val_loss: 1.0901 - val_accuracy: 0.4268\n",
      "Epoch 4/100\n",
      "367/367 [==============================] - ETA: 0s - loss: 1.0878 - accuracy: 0.4262WARNING:tensorflow:Can save best model only with val_acc available, skipping.\n",
      "367/367 [==============================] - 117s 317ms/step - loss: 1.0878 - accuracy: 0.4262 - val_loss: 1.0898 - val_accuracy: 0.4268\n",
      "Epoch 5/100\n",
      "367/367 [==============================] - ETA: 0s - loss: 1.0857 - accuracy: 0.4265WARNING:tensorflow:Can save best model only with val_acc available, skipping.\n",
      "367/367 [==============================] - 117s 319ms/step - loss: 1.0857 - accuracy: 0.4265 - val_loss: 1.0883 - val_accuracy: 0.4268\n",
      "Epoch 6/100\n",
      "367/367 [==============================] - ETA: 0s - loss: 1.0841 - accuracy: 0.4265WARNING:tensorflow:Can save best model only with val_acc available, skipping.\n",
      "367/367 [==============================] - 117s 320ms/step - loss: 1.0841 - accuracy: 0.4265 - val_loss: 1.0872 - val_accuracy: 0.4268\n",
      "Epoch 7/100\n",
      "367/367 [==============================] - ETA: 0s - loss: 1.0826 - accuracy: 0.4265WARNING:tensorflow:Can save best model only with val_acc available, skipping.\n",
      "367/367 [==============================] - 118s 321ms/step - loss: 1.0826 - accuracy: 0.4265 - val_loss: 1.0857 - val_accuracy: 0.4268\n",
      "Epoch 8/100\n",
      "367/367 [==============================] - ETA: 0s - loss: 1.0811 - accuracy: 0.4265WARNING:tensorflow:Can save best model only with val_acc available, skipping.\n",
      "367/367 [==============================] - 117s 319ms/step - loss: 1.0811 - accuracy: 0.4265 - val_loss: 1.0843 - val_accuracy: 0.4268\n",
      "Epoch 9/100\n",
      "367/367 [==============================] - ETA: 0s - loss: 1.0798 - accuracy: 0.4265WARNING:tensorflow:Can save best model only with val_acc available, skipping.\n",
      "367/367 [==============================] - 116s 317ms/step - loss: 1.0798 - accuracy: 0.4265 - val_loss: 1.0819 - val_accuracy: 0.4268\n",
      "Epoch 10/100\n",
      "367/367 [==============================] - ETA: 0s - loss: 1.0785 - accuracy: 0.4265WARNING:tensorflow:Can save best model only with val_acc available, skipping.\n",
      "367/367 [==============================] - 116s 315ms/step - loss: 1.0785 - accuracy: 0.4265 - val_loss: 1.0799 - val_accuracy: 0.4268\n",
      "Epoch 11/100\n",
      "367/367 [==============================] - ETA: 0s - loss: 1.0775 - accuracy: 0.4265WARNING:tensorflow:Can save best model only with val_acc available, skipping.\n",
      "367/367 [==============================] - 117s 320ms/step - loss: 1.0775 - accuracy: 0.4265 - val_loss: 1.0788 - val_accuracy: 0.4268\n",
      "Epoch 12/100\n",
      "367/367 [==============================] - ETA: 0s - loss: 1.0765 - accuracy: 0.4265WARNING:tensorflow:Can save best model only with val_acc available, skipping.\n",
      "367/367 [==============================] - 117s 318ms/step - loss: 1.0765 - accuracy: 0.4265 - val_loss: 1.0779 - val_accuracy: 0.4268\n",
      "Epoch 13/100\n",
      "367/367 [==============================] - ETA: 0s - loss: 1.0758 - accuracy: 0.4265WARNING:tensorflow:Can save best model only with val_acc available, skipping.\n",
      "367/367 [==============================] - 117s 319ms/step - loss: 1.0758 - accuracy: 0.4265 - val_loss: 1.0767 - val_accuracy: 0.4268\n",
      "Epoch 14/100\n",
      "367/367 [==============================] - ETA: 0s - loss: 1.0752 - accuracy: 0.4265WARNING:tensorflow:Can save best model only with val_acc available, skipping.\n",
      "367/367 [==============================] - 117s 320ms/step - loss: 1.0752 - accuracy: 0.4265 - val_loss: 1.0761 - val_accuracy: 0.4268\n",
      "Epoch 15/100\n",
      "367/367 [==============================] - ETA: 0s - loss: 1.0747 - accuracy: 0.4265WARNING:tensorflow:Can save best model only with val_acc available, skipping.\n",
      "367/367 [==============================] - 116s 317ms/step - loss: 1.0747 - accuracy: 0.4265 - val_loss: 1.0755 - val_accuracy: 0.4268\n",
      "Epoch 16/100\n",
      "367/367 [==============================] - ETA: 0s - loss: 1.0822 - accuracy: 0.4255WARNING:tensorflow:Can save best model only with val_acc available, skipping.\n",
      "367/367 [==============================] - 117s 319ms/step - loss: 1.0822 - accuracy: 0.4255 - val_loss: 1.0769 - val_accuracy: 0.4268\n",
      "Epoch 17/100\n",
      "367/367 [==============================] - ETA: 0s - loss: 1.0763 - accuracy: 0.4265WARNING:tensorflow:Can save best model only with val_acc available, skipping.\n",
      "367/367 [==============================] - 116s 315ms/step - loss: 1.0763 - accuracy: 0.4265 - val_loss: 1.0756 - val_accuracy: 0.4268\n",
      "Epoch 18/100\n",
      "367/367 [==============================] - ETA: 0s - loss: 1.0753 - accuracy: 0.4265WARNING:tensorflow:Can save best model only with val_acc available, skipping.\n",
      "367/367 [==============================] - 115s 313ms/step - loss: 1.0753 - accuracy: 0.4265 - val_loss: 1.0749 - val_accuracy: 0.4268\n",
      "Epoch 19/100\n",
      "367/367 [==============================] - ETA: 0s - loss: 1.0747 - accuracy: 0.4265WARNING:tensorflow:Can save best model only with val_acc available, skipping.\n",
      "367/367 [==============================] - 114s 311ms/step - loss: 1.0747 - accuracy: 0.4265 - val_loss: 1.0744 - val_accuracy: 0.4268\n",
      "Epoch 20/100\n",
      "367/367 [==============================] - ETA: 0s - loss: 1.0744 - accuracy: 0.4265WARNING:tensorflow:Can save best model only with val_acc available, skipping.\n",
      "367/367 [==============================] - 116s 316ms/step - loss: 1.0744 - accuracy: 0.4265 - val_loss: 1.0741 - val_accuracy: 0.4268\n",
      "Epoch 21/100\n",
      "367/367 [==============================] - ETA: 0s - loss: 1.0741 - accuracy: 0.4265WARNING:tensorflow:Can save best model only with val_acc available, skipping.\n",
      "367/367 [==============================] - 116s 317ms/step - loss: 1.0741 - accuracy: 0.4265 - val_loss: 1.0738 - val_accuracy: 0.4268\n",
      "Epoch 22/100\n",
      "367/367 [==============================] - ETA: 0s - loss: 1.0739 - accuracy: 0.4265WARNING:tensorflow:Can save best model only with val_acc available, skipping.\n",
      "367/367 [==============================] - 117s 319ms/step - loss: 1.0739 - accuracy: 0.4265 - val_loss: 1.0737 - val_accuracy: 0.4268\n",
      "Epoch 23/100\n",
      "367/367 [==============================] - ETA: 0s - loss: 1.0737 - accuracy: 0.4265WARNING:tensorflow:Can save best model only with val_acc available, skipping.\n",
      "367/367 [==============================] - 116s 315ms/step - loss: 1.0737 - accuracy: 0.4265 - val_loss: 1.0735 - val_accuracy: 0.4268\n",
      "Epoch 24/100\n",
      "367/367 [==============================] - ETA: 0s - loss: 1.0736 - accuracy: 0.4265WARNING:tensorflow:Can save best model only with val_acc available, skipping.\n",
      "367/367 [==============================] - 116s 317ms/step - loss: 1.0736 - accuracy: 0.4265 - val_loss: 1.0734 - val_accuracy: 0.4268\n",
      "Epoch 25/100\n",
      "367/367 [==============================] - ETA: 0s - loss: 1.0736 - accuracy: 0.4265WARNING:tensorflow:Can save best model only with val_acc available, skipping.\n",
      "367/367 [==============================] - 116s 316ms/step - loss: 1.0736 - accuracy: 0.4265 - val_loss: 1.0733 - val_accuracy: 0.4268\n",
      "Epoch 26/100\n",
      "367/367 [==============================] - ETA: 0s - loss: 1.0734 - accuracy: 0.4265WARNING:tensorflow:Can save best model only with val_acc available, skipping.\n",
      "367/367 [==============================] - 116s 317ms/step - loss: 1.0734 - accuracy: 0.4265 - val_loss: 1.0733 - val_accuracy: 0.4268\n",
      "Epoch 27/100\n",
      "367/367 [==============================] - ETA: 0s - loss: 1.0749 - accuracy: 0.4259WARNING:tensorflow:Can save best model only with val_acc available, skipping.\n",
      "367/367 [==============================] - 115s 314ms/step - loss: 1.0749 - accuracy: 0.4259 - val_loss: 1.0738 - val_accuracy: 0.4268\n",
      "Epoch 28/100\n",
      "367/367 [==============================] - ETA: 0s - loss: 1.0739 - accuracy: 0.4263WARNING:tensorflow:Can save best model only with val_acc available, skipping.\n",
      "367/367 [==============================] - 115s 314ms/step - loss: 1.0739 - accuracy: 0.4263 - val_loss: 1.0734 - val_accuracy: 0.4268\n",
      "Epoch 29/100\n",
      "367/367 [==============================] - ETA: 0s - loss: 1.0735 - accuracy: 0.4265WARNING:tensorflow:Can save best model only with val_acc available, skipping.\n",
      "367/367 [==============================] - 116s 316ms/step - loss: 1.0735 - accuracy: 0.4265 - val_loss: 1.0733 - val_accuracy: 0.4268\n",
      "Epoch 30/100\n",
      "367/367 [==============================] - ETA: 0s - loss: 1.0734 - accuracy: 0.4265WARNING:tensorflow:Can save best model only with val_acc available, skipping.\n",
      "367/367 [==============================] - 116s 316ms/step - loss: 1.0734 - accuracy: 0.4265 - val_loss: 1.0732 - val_accuracy: 0.4268\n",
      "Epoch 31/100\n",
      "367/367 [==============================] - ETA: 0s - loss: 1.0734 - accuracy: 0.4265WARNING:tensorflow:Can save best model only with val_acc available, skipping.\n",
      "367/367 [==============================] - 115s 314ms/step - loss: 1.0734 - accuracy: 0.4265 - val_loss: 1.0732 - val_accuracy: 0.4268\n",
      "Epoch 32/100\n",
      "367/367 [==============================] - ETA: 0s - loss: 1.0733 - accuracy: 0.4265WARNING:tensorflow:Can save best model only with val_acc available, skipping.\n",
      "367/367 [==============================] - 115s 313ms/step - loss: 1.0733 - accuracy: 0.4265 - val_loss: 1.0731 - val_accuracy: 0.4268\n",
      "Epoch 33/100\n",
      "367/367 [==============================] - ETA: 0s - loss: 1.0733 - accuracy: 0.4264WARNING:tensorflow:Can save best model only with val_acc available, skipping.\n",
      "367/367 [==============================] - 116s 316ms/step - loss: 1.0733 - accuracy: 0.4264 - val_loss: 1.0731 - val_accuracy: 0.4268\n",
      "Epoch 34/100\n",
      "367/367 [==============================] - ETA: 0s - loss: 1.0732 - accuracy: 0.4268WARNING:tensorflow:Can save best model only with val_acc available, skipping.\n",
      "367/367 [==============================] - 116s 316ms/step - loss: 1.0732 - accuracy: 0.4268 - val_loss: 1.0736 - val_accuracy: 0.4265\n",
      "Epoch 35/100\n",
      "367/367 [==============================] - ETA: 0s - loss: 1.0744 - accuracy: 0.4260WARNING:tensorflow:Can save best model only with val_acc available, skipping.\n",
      "367/367 [==============================] - 116s 315ms/step - loss: 1.0744 - accuracy: 0.4260 - val_loss: 1.0734 - val_accuracy: 0.4265\n",
      "Epoch 36/100\n",
      "367/367 [==============================] - ETA: 0s - loss: 1.0737 - accuracy: 0.4264WARNING:tensorflow:Can save best model only with val_acc available, skipping.\n",
      "367/367 [==============================] - 117s 319ms/step - loss: 1.0737 - accuracy: 0.4264 - val_loss: 1.0733 - val_accuracy: 0.4268\n",
      "Epoch 37/100\n",
      "367/367 [==============================] - ETA: 0s - loss: 1.0735 - accuracy: 0.4264WARNING:tensorflow:Can save best model only with val_acc available, skipping.\n",
      "367/367 [==============================] - 117s 320ms/step - loss: 1.0735 - accuracy: 0.4264 - val_loss: 1.0732 - val_accuracy: 0.4268\n",
      "Epoch 38/100\n",
      "367/367 [==============================] - ETA: 0s - loss: 1.0733 - accuracy: 0.4265WARNING:tensorflow:Can save best model only with val_acc available, skipping.\n",
      "367/367 [==============================] - 118s 322ms/step - loss: 1.0733 - accuracy: 0.4265 - val_loss: 1.0732 - val_accuracy: 0.4268\n",
      "Epoch 39/100\n",
      "367/367 [==============================] - ETA: 0s - loss: 1.0733 - accuracy: 0.4264WARNING:tensorflow:Can save best model only with val_acc available, skipping.\n",
      "367/367 [==============================] - 118s 322ms/step - loss: 1.0733 - accuracy: 0.4264 - val_loss: 1.0731 - val_accuracy: 0.4268\n",
      "Epoch 40/100\n",
      "367/367 [==============================] - ETA: 0s - loss: 1.0732 - accuracy: 0.4265WARNING:tensorflow:Can save best model only with val_acc available, skipping.\n",
      "367/367 [==============================] - 117s 319ms/step - loss: 1.0732 - accuracy: 0.4265 - val_loss: 1.0731 - val_accuracy: 0.4268\n",
      "Epoch 41/100\n",
      "367/367 [==============================] - ETA: 0s - loss: 1.0733 - accuracy: 0.4265WARNING:tensorflow:Can save best model only with val_acc available, skipping.\n",
      "367/367 [==============================] - 116s 317ms/step - loss: 1.0733 - accuracy: 0.4265 - val_loss: 1.0731 - val_accuracy: 0.4268\n",
      "Epoch 42/100\n",
      "308/367 [========================>.....] - ETA: 18s - loss: 1.0723 - accuracy: 0.4295"
     ]
    }
   ],
   "source": [
    "history =  model2.fit(X_train_1, Y_train,\n",
    "                    batch_size=batch_size,\n",
    "                    epochs=NUM_EPOCH,\n",
    "                    validation_data=(X_valid_1, Y_valid),\n",
    "                    shuffle=True,\n",
    "                    verbose=True,\n",
    "                    callbacks=es\n",
    "            )"
   ]
  },
  {
   "cell_type": "code",
   "execution_count": null,
   "id": "576b5edf",
   "metadata": {},
   "outputs": [],
   "source": [
    "#plot_model(model, \"model_diagram.png\", show_shapes=True)"
   ]
  },
  {
   "cell_type": "code",
   "execution_count": null,
   "id": "8cdcf99f",
   "metadata": {},
   "outputs": [],
   "source": [
    "# Evaluate the model on test data\n",
    "test_score = model2.evaluate(X_test_1, Y_test, verbose=True)\n",
    "print(\"%s: %.2f%%\" % (model2.metrics_names[1], test_score[1]*100))"
   ]
  },
  {
   "cell_type": "code",
   "execution_count": null,
   "id": "96978cf0",
   "metadata": {},
   "outputs": [],
   "source": [
    "# Evaluate the model on test smaller subset\n",
    "test_sub_score = model2.evaluate(X_test_1_sub, Y_test_sub, verbose=True)\n",
    "print(\"%s: %.2f%%\" % (model2.metrics_names[1], test_sub_score[1]*100))"
   ]
  },
  {
   "cell_type": "code",
   "execution_count": null,
   "id": "a09edc61",
   "metadata": {},
   "outputs": [],
   "source": [
    "# Evaluate for test set\n",
    "# predict\n",
    "prob = model2.predict(X_test_1)\n",
    "pred = np.round(prob, 0).astype('int32')"
   ]
  },
  {
   "cell_type": "code",
   "execution_count": null,
   "id": "1e49176f",
   "metadata": {},
   "outputs": [],
   "source": [
    "labels = [0, 1, 2]\n",
    "# accuracy: (tp + tn) / (p + n)\n",
    "accuracy = accuracy_score(Y_test, pred)\n",
    "print('Accuracy: %f' % accuracy)\n",
    "\n",
    "# precision tp / (tp + fp)\n",
    "precision = precision_score(Y_test, pred, labels=labels, average='samples')\n",
    "print('Precision (samples): %f' % precision)\n",
    "\n",
    "# recall: tp / (tp + fn)\n",
    "recall = recall_score(Y_test, pred, labels=labels, average='samples')\n",
    "print('Recall (samples): %f' % recall)\n",
    "\n",
    "# precision tp / (tp + fp)\n",
    "precision = precision_score(Y_test, pred, labels=labels, average='micro')\n",
    "print('Precision (micro): %f' % precision)\n",
    "\n",
    "# recall: tp / (tp + fn)\n",
    "recall = recall_score(Y_test, pred, labels=labels, average='micro')\n",
    "print('Recall (micro): %f' % recall)\n",
    "\n",
    "# precision tp / (tp + fp)\n",
    "precision = precision_score(Y_test, pred, labels=labels, average='weighted')\n",
    "print('Precision (weighted): %f' % precision)\n",
    "\n",
    "# recall: tp / (tp + fn)\n",
    "recall = recall_score(Y_test, pred, labels=labels, average='weighted')\n",
    "print('Recall (weighted): %f' % recall)"
   ]
  },
  {
   "cell_type": "code",
   "execution_count": null,
   "id": "a2218637",
   "metadata": {},
   "outputs": [],
   "source": [
    "# Visualize training results (Loss)\n",
    "\n",
    "# Accuracy\n",
    "acc = history.history['accuracy']\n",
    "val_acc = history.history['val_accuracy']\n",
    "\n",
    "# Loss\n",
    "loss = history.history['loss']\n",
    "val_loss = history.history['val_loss']\n",
    "\n",
    "epochs = list(range(len(loss)))\n",
    "\n",
    "#plot\n",
    "figsize=(6,4)\n",
    "fig, axis1 = plt.subplots(figsize=figsize)\n",
    "\n",
    "plot1_lacc = axis1.plot(epochs, acc, 'navy', label='accuracy')\n",
    "plot1_val_lacc = axis1.plot(epochs, val_acc, 'deepskyblue', label=\"Validation Accuracy\")\n",
    "\n",
    "plot1_loss = axis1.plot(epochs, loss, 'red', label='loss')\n",
    "plot1_val_loss = axis1.plot(epochs, val_loss, 'lightsalmon', label=\"Validation Loss\")\n",
    "\n",
    "\n",
    "plots = plot1_loss + plot1_val_loss\n",
    "labs = [l.get_label() for l in plots]\n",
    "\n",
    "axis1.set_xlabel('Epoch')\n",
    "axis1.set_ylabel('Loss/Accuracy')\n",
    "plt.title(\"Model 2 Loss/Accuracy History (Year 1 Images)\")\n",
    "plt.tight_layout()\n",
    "axis1.legend(loc='lower left')"
   ]
  },
  {
   "cell_type": "code",
   "execution_count": null,
   "id": "36ecd968",
   "metadata": {},
   "outputs": [],
   "source": [
    "# Classification report\n",
    "classification_metrics = classification_report(Y_test, pred, target_names=class_names)\n",
    "pprint(classification_metrics)"
   ]
  },
  {
   "cell_type": "code",
   "execution_count": null,
   "id": "0face2b3",
   "metadata": {},
   "outputs": [],
   "source": [
    "categorical_test_labels = pd.DataFrame(Y_test).idxmax(axis=1)\n",
    "categorical_preds = pd.DataFrame(pred).idxmax(axis=1)\n",
    "confusion_matrix = confusion_matrix(categorical_test_labels, categorical_preds)\n",
    "\n",
    "def plot_confusion_matrix(cm, classes,\n",
    "   normalize=False,\n",
    "   title='Confusion matrix',\n",
    "   cmap=plt.cm.Blues):\n",
    "    plt.imshow(cm, interpolation='nearest', cmap=cmap)\n",
    "    plt.title(title)\n",
    "    plt.colorbar()\n",
    "    tick_marks = np.arange(len(classes))\n",
    "    plt.xticks(tick_marks, classes, rotation=45)\n",
    "    plt.yticks(tick_marks, classes)\n",
    " \n",
    "    fmt = '.2f' if normalize else 'd'\n",
    "    thresh = cm.max() / 2.\n",
    "    for i, j in itertools.product(range(cm.shape[0]), range(cm.shape[1])):\n",
    "        plt.text(j, i, format(cm[i, j], fmt), horizontalalignment=\"center\", \n",
    "                 color=\"white\" if cm[i, j] > thresh else \"black\")\n",
    " \n",
    "    plt.tight_layout()\n",
    "    plt.ylabel('True label')\n",
    "    plt.xlabel('Predicted label') "
   ]
  },
  {
   "cell_type": "code",
   "execution_count": null,
   "id": "e10915a2",
   "metadata": {},
   "outputs": [],
   "source": [
    "plot_confusion_matrix(confusion_matrix, class_names)"
   ]
  },
  {
   "cell_type": "code",
   "execution_count": null,
   "id": "80669aaf",
   "metadata": {},
   "outputs": [],
   "source": [
    "# # Save model data if improved accuracy\n",
    "# model2.save_weights(f_weights, overwrite=True)\n",
    "# open(f_model, 'w').write(model2.to_json())\n",
    "\n",
    "# #Saving history for future use\n",
    "# with open(f_history, 'w') as f:\n",
    "#     json.dump(history.history, f)"
   ]
  },
  {
   "cell_type": "code",
   "execution_count": null,
   "id": "03ea0888",
   "metadata": {},
   "outputs": [],
   "source": [
    "# #loading history\n",
    "# path = base_dir + 'model/history.json'\n",
    "# if os.path.exists(path): # reload history if it exists\n",
    "#         with codecs.open(path, 'r', encoding='utf-8') as f:\n",
    "#              n = json.loads(f.read())\n",
    "                \n",
    "# #loading model\n",
    "# json_file = open(f_model, 'r')\n",
    "# loaded_model_json = json_file.read()\n",
    "# json_file.close()\n",
    "# loaded_model = model_from_json(loaded_model_json)\n",
    "\n",
    "\n",
    "# # load best weights into new model\n",
    "# loaded_model.load_weights(f_best_weights)\n",
    "# print(\"Loaded model from disk\")"
   ]
  },
  {
   "cell_type": "markdown",
   "id": "227c14c1",
   "metadata": {},
   "source": [
    "### Model 3\n",
    "Changes:\n",
    "\n",
    "Add data augmentation\n",
    "\n",
    "Go back to smaller dropout rate\n",
    "\n",
    "Increase Conv2D filter size"
   ]
  },
  {
   "cell_type": "code",
   "execution_count": null,
   "id": "b25ce797-091a-4fd0-8fe9-ed7dd35d8fcf",
   "metadata": {},
   "outputs": [],
   "source": [
    "input_shape = (3, 100, 100)\n",
    "\n",
    "# Constraints for block 1\n",
    "inputs = Input(shape=input_shape)\n",
    "x = Conv2D(64, kernel_size=(5, 5), activation='relu', padding='same', data_format='channels_first', name='conv_1')(inputs)\n",
    "x = Conv2D(64, kernel_size=(3, 3), activation='relu', padding='same', data_format='channels_first', name='conv_2')(x)\n",
    "x = BatchNormalization()(x)\n",
    "x = MaxPooling2D(pool_size=(2, 2), strides=2, padding='same', data_format='channels_first', name='maxpool_1')(x)\n",
    "x = Dropout(rate=0.5)(x)\n",
    "\n",
    "# Constraints for block 2\n",
    "x = Conv2D(128, kernel_size=(3, 3), activation='relu', padding='same', data_format='channels_first', name='conv_3')(x)\n",
    "x = Conv2D(128, kernel_size=(3, 3), activation='relu', padding='same', data_format='channels_first', name='conv_4')(x)\n",
    "x = BatchNormalization()(x)\n",
    "x = MaxPooling2D(pool_size=(2, 2), strides=2, padding='same', data_format='channels_first', name='maxpool_2')(x)\n",
    "x = Dropout(rate=0.8)(x)\n",
    "\n",
    "# Constraints for block 3\n",
    "x = Conv2D(256, kernel_size=(3, 3), activation='relu', padding='same', data_format='channels_first', name='conv_5')(x)\n",
    "x = BatchNormalization()(x)\n",
    "x = MaxPooling2D(pool_size=(2, 2), strides=2, padding='same', data_format='channels_first', name='maxpool_3')(x)\n",
    "x = Dropout(rate=0.8)(x)\n",
    "\n",
    "# Constraints for block 4\n",
    "x = Conv2D(512, kernel_size=(3, 3), activation='relu', padding='same', data_format='channels_first', name='conv_6')(x)\n",
    "x = BatchNormalization()(x)\n",
    "x = MaxPooling2D(pool_size=(2, 2), strides=2, padding='same', data_format='channels_first', name='maxpool_4')(x)\n",
    "x = Dropout(rate=0.8)(x)\n",
    "\n",
    "# flatten (or unroll) the 3D output to 1D\n",
    "x = Flatten()(x)\n",
    "\n",
    "# hidden layers\n",
    "x = Dense(64, activation='relu', kernel_regularizer=l2(0.0001), name='dense_1')(x)\n",
    "x = Dense(32, activation='relu', kernel_regularizer=l2(0.0001), name='dense_2')(x)\n",
    "outputs = Dense(NUM_CLASSES, activation='softmax', name='output')(x)\n",
    "\n",
    "model3 = Model(inputs=inputs, outputs=outputs)\n",
    "\n",
    "# Compile model\n",
    "model3.compile( \n",
    "    optimizer='adam',\n",
    "    loss='categorical_crossentropy',\n",
    "    metrics=['accuracy']\n",
    "    )\n",
    "\n",
    "model3.summary()"
   ]
  },
  {
   "cell_type": "code",
   "execution_count": null,
   "id": "c942725e-42c1-4a91-8e14-c14177bb7766",
   "metadata": {},
   "outputs": [],
   "source": [
    "image_gen_train = ImageDataGenerator(\n",
    "      rescale=1./255,\n",
    "      rotation_range=90,\n",
    "      width_shift_range=0.2,               \n",
    "      height_shift_range=0.2,\n",
    "      shear_range=0.2,\n",
    "      zoom_range=0.2,\n",
    "      vertical_flip = True,\n",
    "      horizontal_flip=True,\n",
    "      fill_mode='nearest')"
   ]
  },
  {
   "cell_type": "code",
   "execution_count": null,
   "id": "1e834cd1-40f2-4b5c-8b5d-3242e2b30d85",
   "metadata": {},
   "outputs": [],
   "source": [
    "image_gen_test = ImageDataGenerator(\n",
    "      rescale=1./255)"
   ]
  },
  {
   "cell_type": "code",
   "execution_count": null,
   "id": "0f63a441-4ab8-4620-b20f-f85b67a2fd3f",
   "metadata": {},
   "outputs": [],
   "source": [
    "image_gen_train.fit(X_train_1)"
   ]
  },
  {
   "cell_type": "code",
   "execution_count": null,
   "id": "7c8a7e47",
   "metadata": {},
   "outputs": [],
   "source": [
    "es = [EarlyStopping(monitor='val_loss', mode='min', verbose=1, patience=50),\n",
    "ModelCheckpoint(filepath='model/best_weights', monitor='val_acc', mode='max', verbose=1, save_best_only=True)] "
   ]
  },
  {
   "cell_type": "code",
   "execution_count": null,
   "id": "420012bb-640b-4e6f-aba7-ad0d28c08d15",
   "metadata": {},
   "outputs": [],
   "source": [
    "batch_size = 64\n",
    "NUM_EPOCH = 100"
   ]
  },
  {
   "cell_type": "code",
   "execution_count": null,
   "id": "ada64ed0-31ff-4041-9e38-6a655d2430e1",
   "metadata": {},
   "outputs": [],
   "source": [
    "# Train model 3 on batches with data augmentation\n",
    "history =  model3.fit(image_gen_train.flow(X_train_1, Y_train),\n",
    "                    batch_size=batch_size,\n",
    "                    epochs=NUM_EPOCH,\n",
    "                    validation_data=image_gen_test.flow(X_valid_1, Y_valid),\n",
    "                    shuffle=True,\n",
    "                    verbose=True,\n",
    "                    callbacks=es\n",
    "            )"
   ]
  },
  {
   "cell_type": "code",
   "execution_count": null,
   "id": "95048680",
   "metadata": {},
   "outputs": [],
   "source": [
    "# Evaluate the model on test data\n",
    "score = model3.evaluate(X_test_1, Y_test, verbose=True)\n",
    "print(\"%s: %.2f%%\" % (model3.metrics_names[1], score[1]*100))"
   ]
  },
  {
   "cell_type": "code",
   "execution_count": null,
   "id": "feed126f",
   "metadata": {},
   "outputs": [],
   "source": [
    "# Evaluate the model on test smaller subset\n",
    "score = model3.evaluate(X_test_1_sub, Y_test_sub, verbose=True)\n",
    "print(\"%s: %.2f%%\" % (model3.metrics_names[1], score[1]*100))"
   ]
  },
  {
   "cell_type": "markdown",
   "id": "6532be68",
   "metadata": {},
   "source": [
    "## Visualizing Feature/Activation Maps"
   ]
  },
  {
   "cell_type": "markdown",
   "id": "679d1a05",
   "metadata": {},
   "source": [
    "#### Visualize for Final Model"
   ]
  },
  {
   "cell_type": "code",
   "execution_count": null,
   "id": "5c01894e",
   "metadata": {},
   "outputs": [],
   "source": [
    "# Extracts the outputs of all layers except the input layer\n",
    "layer_outputs = [layer.output for layer in loaded_model.layers[1:]] \n",
    "# Creates a model that will return these outputs, given the model input\n",
    "activation_model = models.Model(inputs=loaded_model.input, outputs=layer_outputs) \n",
    "\n",
    "# returns the values of the layer activations in original model\n",
    "# Returns a list of Numpy arrays: one array per layer activation\n",
    "activations = activation_model.predict(X_test_1) "
   ]
  },
  {
   "cell_type": "code",
   "execution_count": null,
   "id": "b529ed15",
   "metadata": {},
   "outputs": [],
   "source": [
    "# activation maps for all 8 filters in the first convolutional layer\n",
    "fig1=plt.figure(figsize=(10,1.5))  \n",
    "for i in range(8):\n",
    "    plt.subplot(1, 8, i + 1)\n",
    "    layer_activation = activations[0]\n",
    "    plt.imshow(layer_activation[1649, i, :, :], cmap='viridis', aspect='auto')\n",
    "    plt.axis(\"off\")\n",
    "    plt.subplots_adjust(hspace=0, wspace=0)\n",
    "\n",
    "# activation maps for all 16 filters in the second convolutional layer    \n",
    "fig2=plt.figure(figsize=(10,3))  \n",
    "for i in range(16):\n",
    "    plt.subplot(2, 8, i + 1)\n",
    "    layer_activation = activations[4]\n",
    "    plt.imshow(layer_activation[1649, i, :, :], cmap='viridis', aspect='auto')\n",
    "    plt.axis(\"off\")\n",
    "    plt.subplots_adjust(hspace=0, wspace=0)\n",
    "    \n",
    "# activation maps for all 32 filters in the third convolutional layer\n",
    "fig3=plt.figure(figsize=(10,6))  \n",
    "for i in range(32):\n",
    "    plt.subplot(4, 8, i + 1)\n",
    "    layer_activation = activations[8]\n",
    "    plt.imshow(layer_activation[1649, i, :, :], cmap='viridis', aspect='auto')\n",
    "    plt.axis(\"off\")\n",
    "    plt.subplots_adjust(hspace=0, wspace=0)"
   ]
  },
  {
   "cell_type": "markdown",
   "id": "ca8ba588",
   "metadata": {},
   "source": [
    "## Visualizing Example images"
   ]
  },
  {
   "cell_type": "code",
   "execution_count": null,
   "id": "e7493ce1",
   "metadata": {},
   "outputs": [],
   "source": [
    "# Example Images\n",
    "prob = loaded_model.predict(X_test_1)\n",
    "pred = np.round(prob, 0).astype('int32')\n",
    "\n",
    "for i in range(len(Y_test)):\n",
    "    if (Y_test[i] == 1 and pred[i,0] == 1): # and other Y_test vs pred combinations TP=(1,1), FP=(0,1), TN=(0,0), FN=(1,0)\n",
    "        print (i)\n",
    "        print(Y_test[i],pred[i])\n",
    "        "
   ]
  },
  {
   "cell_type": "code",
   "execution_count": null,
   "id": "f11ba988",
   "metadata": {},
   "outputs": [],
   "source": [
    "#print output probabilities for the chosen TP, FP, TN, FN examples\n",
    "\n",
    "# print(prob[84],prob[1370],prob[2031],prob[3003]) # TP examples\n",
    "# print(prob[560],prob[1228],prob[2878],prob[3026]) # FP examples\n",
    "# print(prob[564],prob[1056],prob[2083],prob[3063]) # TN examples\n",
    "# print(prob[465],prob[1546],prob[2241],prob[3037]) # FN examples"
   ]
  },
  {
   "cell_type": "code",
   "execution_count": null,
   "id": "e04fef89",
   "metadata": {},
   "outputs": [],
   "source": [
    "# plot examples\n",
    "tp1 = X_test_1[84,1]\n",
    "tp2 = X_test_1[1370,1]\n",
    "tp3 = X_test_1[2031,1]\n",
    "tp4 = X_test_1[3003,1]\n",
    "\n",
    "fp1 = X_test_1[560,1]\n",
    "fp2 = X_test_1[1228,1]\n",
    "fp3 = X_test_1[2878,1]\n",
    "fp4 = X_test_1[3026,1]\n",
    "\n",
    "tn1 = X_test_1[564,1]\n",
    "tn2 = X_test_1[1056,1]\n",
    "tn3 = X_test_1[2083,1]\n",
    "tn4 = X_test_1[3063,1]\n",
    "\n",
    "fn1 = X_test_1[465,1]\n",
    "fn2 = X_test_1[1546,1]\n",
    "fn3 = X_test_1[2241,1]\n",
    "fn4 = X_test_1[3037,1]\n",
    "\n",
    "examples = [tp1, tp2, tp3, tp4, fp1, fp2, fp3, fp4, tn1, tn2, tn3, tn4, fn1, fn2, fn3, fn4]\n",
    "\n",
    "fig1=plt.figure(figsize=(8,8))\n",
    "\n",
    "for i, image in enumerate(examples):\n",
    "    fig1.suptitle('From top row to bottom: TP, FP, TN, FN', fontsize=20)\n",
    "    plt.subplot(4, 4, i + 1)\n",
    "    plt.axis(\"off\")\n",
    "    plt.imshow(image, aspect='auto', cmap='viridis')\n",
    "plt.subplots_adjust(hspace=0, wspace=0)\n",
    "plt.show()"
   ]
  },
  {
   "cell_type": "markdown",
   "id": "0de2da41",
   "metadata": {},
   "source": [
    "### Fine Tuning - Transfer Learning with year 10 data"
   ]
  },
  {
   "cell_type": "code",
   "execution_count": 57,
   "id": "47fe8469",
   "metadata": {},
   "outputs": [],
   "source": [
    "# Load year 10 train, test, validation image files\n",
    "X_train_10 = np.load('images_Y10_train.npy')\n",
    "X_test_10 = np.load('images_Y10_test.npy')\n",
    "X_valid_10 = np.load('images_Y10_valid.npy')\n",
    "X_test_10_sub = np.load('images_Y10_test_150.npy')"
   ]
  },
  {
   "cell_type": "code",
   "execution_count": 8,
   "id": "c10bb56c-8295-4fc2-99c2-7a1e82aff4b0",
   "metadata": {},
   "outputs": [],
   "source": [
    "# Shuffle data\n",
    "random.seed(5)\n",
    "idx = np.random.choice(len(X_train_10), size=len(X_train_10), replace=False)\n",
    "X_train_10 = X_train_10[idx]\n",
    "idx = np.random.choice(len(X_test_10), size=len(X_test_10), replace=False)\n",
    "X_test_10 = X_test_10[idx]\n",
    "idx = np.random.choice(len(X_valid_10), size=len(X_valid_10), replace=False)\n",
    "X_valid_10 = X_valid_10[idx]\n",
    "idx = np.random.choice(len(X_test_10_sub), size=len(X_test_10_sub), replace=False)\n",
    "X_test_10_sub = X_test_10_sub[idx]"
   ]
  },
  {
   "cell_type": "code",
   "execution_count": null,
   "id": "0c0ea416-b9af-4b47-baff-0415f7e65142",
   "metadata": {},
   "outputs": [],
   "source": [
    "# cast data types as floats\n",
    "X_train_10 = X_train_10.astype('float32')\n",
    "X_test_10 = X_test_10.astype('float32')\n",
    "X_valid_10 = X_valid_10.astype('float32')\n",
    "X_test_10_sub = X_test_10_sub.astype('float32')"
   ]
  },
  {
   "cell_type": "code",
   "execution_count": null,
   "id": "a2033f84",
   "metadata": {},
   "outputs": [],
   "source": [
    "# Evaluate the model on year 10 test data\n",
    "score = loaded_model.evaluate(X_test_10, Y_test, verbose=True)\n",
    "print(\"%s: %.2f%%\" % (model2.metrics_names[1], score[1]*100))"
   ]
  },
  {
   "cell_type": "code",
   "execution_count": null,
   "id": "7aae45ca",
   "metadata": {},
   "outputs": [],
   "source": [
    "print(\"Building model with\", loaded_model)\n",
    "\n",
    "# Initialize the Pretrained Model\n",
    "feature_extractor = model2()"
   ]
  },
  {
   "cell_type": "code",
   "execution_count": null,
   "id": "e9cb0986",
   "metadata": {},
   "outputs": [],
   "source": [
    "# Set the input layer\n",
    "input_shape = (3, 100, 100)\n",
    "x = Input(shape=input_shape)\n",
    "\n",
    "# Set the feature extractor layer\n",
    "x = feature_extractor(input_, training=False) # use pre-define weights, not random\n",
    "\n",
    "# Set the pooling layer\n",
    "d0 = GlobalAveragePooling2D()(x)\n",
    "\n",
    "b0 = Dropout(0.5)(c0)\n",
    "\n",
    "# Set the final layer with sigmoid activation function\n",
    "y = Dense(3, activation='softmax', kernel_regularizer=l2(0.0001))(b0)\n",
    "\n",
    "model = Model(inputs=x, outputs=y)\n",
    "model.compile(loss=loss, optimizer=optimizer, metrics=metrics)\n",
    "model.summary()"
   ]
  },
  {
   "cell_type": "code",
   "execution_count": null,
   "id": "1aae9c7b",
   "metadata": {},
   "outputs": [],
   "source": [
    "# Train Model with year 1 data on year 10 data\n",
    "\n",
    "history = model.fit(\n",
    "                    X_train_1, Y_train,\n",
    "                    batch_size=batch_size,\n",
    "                    epochs=NUM_EPOCH,\n",
    "                    validation_data=(X_valid_1, Y_valid),                \n",
    "                    shuffle=shuffle,\n",
    "                    verbose=True,\n",
    "                    callbacks=es\n",
    "            )"
   ]
  },
  {
   "cell_type": "markdown",
   "id": "1cc1f804",
   "metadata": {},
   "source": [
    "# Probabilistic Bayesian CNN model\n",
    "Add probabilistic layer to end of model"
   ]
  },
  {
   "cell_type": "code",
   "execution_count": null,
   "id": "aafcbae2",
   "metadata": {},
   "outputs": [],
   "source": [
    "tfd = tfp.distributions\n",
    "tfpl = tfp.layers\n",
    "from tensorflow_probability.layers import OneHotCategorical"
   ]
  },
  {
   "cell_type": "code",
   "execution_count": null,
   "id": "b6be883a",
   "metadata": {},
   "outputs": [],
   "source": [
    "# negative log-likelihood loss function of each y_true sample given predicted distribution y_pred\n",
    "def nll(y_true, y_pred):\n",
    "    return -y_pred.log_prob(y_true)"
   ]
  },
  {
   "cell_type": "code",
   "execution_count": null,
   "id": "b6247d3d",
   "metadata": {},
   "outputs": [],
   "source": [
    "# define probabalistic model architecture\n",
    "data_shape = np.shape(X_1_data)\n",
    "input_shape = (3, 100, 100)\n",
    "dtype = tf.float32\n",
    "\n",
    "bnn_model = Sequential([\n",
    "        Conv2D(kernel_size=(5, 5), filters=8, activation='relu', padding='VALID', input_shape=input_shape),\n",
    "        MaxPooling2D(pool_size=(6, 6)),\n",
    "        Flatten(),\n",
    "        Dense(tfpl.OneHotCategorical.params_size(10)),\n",
    "        tfpl.OneHotCategorical(10, convert_to_tensor_fn=tfd.Distribution.mode)\n",
    "    ])"
   ]
  },
  {
   "cell_type": "code",
   "execution_count": null,
   "id": "016b8e86",
   "metadata": {},
   "outputs": [],
   "source": [
    "# Compile Model\n",
    "optimizer = 'adam'\n",
    "metrics = ['accuracy']\n",
    "bnn_model.compile(loss=nll, optimizer=optimizer, metrics=metrics)\n",
    "probabilistic_model = bnn_model"
   ]
  },
  {
   "cell_type": "code",
   "execution_count": null,
   "id": "5e1ac92d",
   "metadata": {},
   "outputs": [],
   "source": [
    "probabilistic_model.summary()"
   ]
  },
  {
   "cell_type": "code",
   "execution_count": null,
   "id": "aa3cd142",
   "metadata": {},
   "outputs": [],
   "source": [
    "# Train the probabalistic model\n",
    "NUM_EPOCH = 100\n",
    "batch_size = 16\n",
    "probabilistic_model.fit(X_train_1, Y_train,\n",
    "                    batch_size=batch_size,\n",
    "                    epochs=NUM_EPOCH,\n",
    "                    validation_data=(X_valid_1, Y_valid),                \n",
    "                    shuffle=shuffle,\n",
    "                    verbose=True,\n",
    "                    callbacks=es\n",
    "            )"
   ]
  },
  {
   "cell_type": "code",
   "execution_count": null,
   "id": "25b09b9c",
   "metadata": {},
   "outputs": [],
   "source": [
    "# Evaluate the model on test data\n",
    "score = probabilistic_model.evaluate(X_test_1, Y_test, verbose=True)\n",
    "print(\"%s: %.2f%%\" % (probabilistic_model.metrics_names[1], score[1]*100))\n"
   ]
  },
  {
   "cell_type": "code",
   "execution_count": null,
   "id": "7df1a60a",
   "metadata": {},
   "outputs": [],
   "source": [
    "# Evaluate the model on test smaller subset\n",
    "score = probabilistic_model.evaluate(X_test_1_sub, Y_test_sub, verbose=True)\n",
    "print(\"%s: %.2f%%\" % (probabilistic_model.metrics_names[1], score[1]*100))"
   ]
  },
  {
   "cell_type": "code",
   "execution_count": null,
   "id": "0a78f398",
   "metadata": {},
   "outputs": [],
   "source": [
    "# make plots of probabilities that the model estimates"
   ]
  },
  {
   "cell_type": "code",
   "execution_count": null,
   "id": "3f1b00db",
   "metadata": {},
   "outputs": [],
   "source": [
    "# For Reparameterization Layers\n",
    "def custom_normal_prior(dtype, shape, name, trainable, add_variable_fn):\n",
    "    distribution = tfd.Normal(loc = 0.1 * tf.ones(shape, dtype),\n",
    "                              scale = 1.5 * tf.ones(shape, dtype))\n",
    "    batch_ndims = tf.size(distribution.batch_shape_tensor())\n",
    "    \n",
    "    distribution = tfd.Independent(distribution,\n",
    "                                   reinterpreted_batch_ndims = batch_ndims)\n",
    "    return distribution\n",
    "    \n",
    "def laplace_prior(dtype, shape, name, trainable, add_variable_fn):\n",
    "    distribution = tfd.Laplace(loc = tf.zeros(shape, dtype),\n",
    "                               scale = tf.ones(shape, dtype))\n",
    "    batch_ndims = tf.size(distribution.batch_shape_tensor())\n",
    "    \n",
    "    distribution = tfd.Independent(distribution,\n",
    "                                   reinterpreted_batch_ndims = batch_ndims)\n",
    "    return distribution "
   ]
  },
  {
   "cell_type": "code",
   "execution_count": null,
   "id": "bdce6786",
   "metadata": {},
   "outputs": [],
   "source": [
    "\n",
    "dtype = tf.float32\n",
    "distribution = tfd.Normal(loc = tf.zeros(shape, dtype),\n",
    "                            scale = tf.ones(shape, dtype))\n",
    "\n",
    "for i in range(len(shape) + 1):\n",
    "    print('reinterpreted_batch_ndims: %d:' %(i))\n",
    "    independent_dist = tfd.Independent(distribution,\n",
    "                                       reinterpreted_batch_ndims = i)\n",
    "    samples = independent_dist.sample()\n",
    "    print('batch_shape: {}' \n",
    "          ' event_shape: {}' \n",
    "          ' Sample shape: {}'.format(independent_dist._batch_shape(),\n",
    "                                    independent_dist._event_shape(),\n",
    "                                    samples.shape))\n",
    "    print('Samples:', samples.numpy(), '\\n')"
   ]
  },
  {
   "cell_type": "code",
   "execution_count": null,
   "id": "bb7bacaf",
   "metadata": {},
   "outputs": [],
   "source": [
    "# divergence_fn: function for the KL-Approximation\n",
    "# Monte Carlo approximation of the KL Divergence\n",
    "def approximate_kl(q, p, q_tensor):\n",
    "    return tf.reduce_mean(q.log_prob(q_tensor) - p.log_prob(q_tensor))\n",
    "\n",
    "total_samples = 60000\n",
    "divergence_fn = lambda q, p, q_tensor : approximate_kl(q, p, q_tensor) / total_samples"
   ]
  },
  {
   "cell_type": "code",
   "execution_count": null,
   "id": "c7564dce",
   "metadata": {},
   "outputs": [],
   "source": [
    "def conv_reparameterization_layer(filters, kernel_size, activation):\n",
    "    # For simplicity, we use default prior and posterior.\n",
    "    # In the next parts, we will use custom mixture prior and posteriors.\n",
    "    return tfpl.Convolution2DReparameterization(\n",
    "            filters = filters,\n",
    "            kernel_size = kernel_size,\n",
    "            activation = activation, \n",
    "            padding = 'same',\n",
    "            kernel_posterior_fn = tfpl.default_mean_field_normal_fn(is_singular=False),\n",
    "            kernel_prior_fn = tfpl.default_multivariate_normal_fn,\n",
    "            \n",
    "            bias_prior_fn = tfpl.default_multivariate_normal_fn,\n",
    "            bias_posterior_fn = tfpl.default_mean_field_normal_fn(is_singular=False),\n",
    "            \n",
    "            kernel_divergence_fn = divergence_fn,\n",
    "            bias_divergence_fn = divergence_fn)"
   ]
  },
  {
   "cell_type": "code",
   "execution_count": null,
   "id": "557dcd60",
   "metadata": {},
   "outputs": [],
   "source": [
    "bayesian_cnn = tf.keras.Sequential([\n",
    "    InputLayer((28, 28, 1)),\n",
    "    \n",
    "    conv_reparameterization_layer(16, 3, 'relu'),\n",
    "    MaxPooling2D(2),\n",
    "    \n",
    "    conv_reparameterization_layer(32, 3, 'relu'),\n",
    "    MaxPooling2D(2),\n",
    "\n",
    "    conv_reparameterization_layer(64, 3, 'relu'),\n",
    "    MaxPooling2D(2),\n",
    "\n",
    "    conv_reparameterization_layer(128, 3, 'relu'),\n",
    "    GlobalMaxPooling2D(),\n",
    "    \n",
    "    tfpl.DenseReparameterization(\n",
    "        units = tfpl.OneHotCategorical.params_size(10), activation = None,\n",
    "        kernel_posterior_fn = tfpl.default_mean_field_normal_fn(is_singular=False),\n",
    "        kernel_prior_fn = tfpl.default_multivariate_normal_fn,\n",
    "        \n",
    "        bias_prior_fn = tfpl.default_multivariate_normal_fn,\n",
    "        bias_posterior_fn = tfpl.default_mean_field_normal_fn(is_singular=False),\n",
    "        \n",
    "        kernel_divergence_fn = divergence_fn,\n",
    "        bias_divergence_fn = divergence_fn),\n",
    "    # Output is a distribution object (OneHotCategorical)\n",
    "    tfpl.OneHotCategorical(10)\n",
    "])\n",
    "\n",
    "def nll(y_true, y_pred):\n",
    "    return -y_pred.log_prob(y_true)\n",
    "\n",
    "bayesian_cnn.compile(loss=nll,\n",
    "              optimizer='adam',\n",
    "              metrics=['accuracy'])\n",
    "\n",
    "bayesian_cnn.summary()"
   ]
  },
  {
   "cell_type": "code",
   "execution_count": null,
   "id": "78260c16",
   "metadata": {},
   "outputs": [],
   "source": [
    "# Look at probabilistic model predictions: probabilities the model assigns to each \n",
    "# class instead of its single prediction\n",
    "\n",
    "def analyse_model_prediction(data, true_labels, model, image_num, run_ensemble=False):\n",
    "    if run_ensemble:\n",
    "        ensemble_size = 200\n",
    "    else:\n",
    "        ensemble_size = 1\n",
    "    image = data[image_num]\n",
    "    true_label = true_labels[image_num, 0]\n",
    "    predicted_probabilities = np.empty(shape=(ensemble_size, 10))\n",
    "    for i in range(ensemble_size):\n",
    "        predicted_probabilities[i] = model(image[np.newaxis, :]).mean().numpy()[0]\n",
    "    model_prediction = model(image[np.newaxis, :])\n",
    "    fig, (ax1, ax2) = plt.subplots(nrows=1, ncols=2, figsize=(10, 2),\n",
    "                                   gridspec_kw={'width_ratios': [2, 4]})\n",
    "    \n",
    "    # Show the image and the true label\n",
    "    ax1.imshow(image[..., 0], cmap='gray')\n",
    "    ax1.axis('off')\n",
    "    ax1.set_title('True label: {}'.format(str(true_label)))\n",
    "    \n",
    "    # Show a 95% prediction interval of model predicted probabilities\n",
    "    pct_2p5 = np.array([np.percentile(predicted_probabilities[:, i], 2.5) for i in range(10)])\n",
    "    pct_97p5 = np.array([np.percentile(predicted_probabilities[:, i], 97.5) for i in range(10)])    \n",
    "    bar = ax2.bar(np.arange(10), pct_97p5, color='red')\n",
    "    bar[int(true_label)].set_color('green')\n",
    "    ax2.bar(np.arange(10), pct_2p5-0.02, color='white', linewidth=1, edgecolor='white')\n",
    "    ax2.set_xticks(np.arange(10))\n",
    "    ax2.set_ylim([0, 1])\n",
    "    ax2.set_ylabel('Probability')\n",
    "    ax2.set_title('Model estimated probabilities')\n",
    "    plt.show()"
   ]
  }
 ],
 "metadata": {
  "kernelspec": {
   "display_name": "Python (research_env)",
   "language": "python",
   "name": "research_env"
  },
  "language_info": {
   "codemirror_mode": {
    "name": "ipython",
    "version": 3
   },
   "file_extension": ".py",
   "mimetype": "text/x-python",
   "name": "python",
   "nbconvert_exporter": "python",
   "pygments_lexer": "ipython3",
   "version": "3.10.4"
  },
  "widgets": {
   "application/vnd.jupyter.widget-state+json": {
    "state": {},
    "version_major": 2,
    "version_minor": 0
   }
  }
 },
 "nbformat": 4,
 "nbformat_minor": 5
}
