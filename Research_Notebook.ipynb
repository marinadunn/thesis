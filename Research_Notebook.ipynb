{
 "cells": [
  {
   "cell_type": "markdown",
   "id": "d6fe0f99",
   "metadata": {},
   "source": [
    "Created by Marina Dunn, Spring 2022\n",
    "\n",
    "**Resources used:**\n",
    "\n",
    "https://towardsdatascience.com/applied-deep-learning-part-4-convolutional-neural-networks-584bc134c1e2\n",
    "\n",
    "https://github.com/deepskies/deepmerge-public/blob/master/DeepMerge-noisy.ipynb\n",
    "\n",
    "https://towardsdatascience.com/convolutional-neural-networks-explained-9cc5188c4939\n",
    "\n",
    "https://towardsdatascience.com/cross-entropy-loss-function-f38c4ec8643e\n",
    "\n",
    "https://www.superdatascience.com/blogs/convolutional-neural-networks-cnn-softmax-crossentropy"
   ]
  },
  {
   "cell_type": "code",
   "execution_count": null,
   "id": "f911effb",
   "metadata": {},
   "outputs": [],
   "source": [
    "# system level\n",
    "import os\n",
    "import codecs\n",
    "import sys\n",
    "import json\n",
    "import h5py\n",
    "import numpy as np\n",
    "from numpy import random\n",
    "from scipy import interp\n",
    "import pandas as pd\n",
    "pd.options.display.float_format = '{:,.2f}'.format\n",
    "pd.set_option('display.max_rows', 100)\n",
    "pd.set_option('display.max_columns', 200)\n",
    "from __future__ import print_function\n",
    "import time\n",
    "from pathlib import Path\n",
    "from datetime import datetime\n",
    "import warnings\n",
    "warnings.filterwarnings(\"ignore\")\n",
    "\n",
    "# machine learning\n",
    "import tensorflow as tf\n",
    "import tensorflow_probability as tfp\n",
    "from tensorflow.keras.models import Sequential, Model, model_from_json\n",
    "from tensorflow.keras.layers import BatchNormalization, Input, Flatten, RandomFlip, Dense\n",
    "from tensorflow.keras.layers import RandomRotation, Activation, Dropout, Conv2D, MaxPooling2D\n",
    "from tensorflow.keras.losses import SparseCategoricalCrossentropy, CategoricalCrossentropy\n",
    "from tensorflow.keras.optimizers import RMSprop, Adam\n",
    "from tensorflow.keras.regularizers import l2\n",
    "from tensorflow.keras.callbacks import Callback, ModelCheckpoint, EarlyStopping\n",
    "from keras.preprocessing.image import ImageDataGenerator, array_to_img, img_to_array, load_img\n",
    "from tensorflow.keras.applications import VGG16\n",
    "#from keras.utils import np_utils\n",
    "from keras.preprocessing import image\n",
    "from keras.utils.np_utils import to_categorical\n",
    "from tensorflow.keras.preprocessing.image import ImageDataGenerator, array_to_img, img_to_array, load_img\n",
    "\n",
    "from sklearn import metrics\n",
    "from sklearn.metrics import confusion_matrix, roc_curve, roc_auc_score, accuracy_score, classification_report\n",
    "from sklearn.metrics import precision_score, recall_score, f1_score, brier_score_loss\n",
    "from sklearn.model_selection import cross_val_score, KFold\n",
    "\n",
    "# plotting\n",
    "import matplotlib.pyplot as plt\n",
    "import seaborn as sns\n",
    "import matplotlib.cm as cm\n",
    "from matplotlib.colors import LogNorm\n",
    "import matplotlib.patches as mpatches\n",
    "# Graphics in retina format are more sharp and legible\n",
    "%config InlineBackend.figure_format = 'retina'\n",
    "import matplotlib\n",
    "%matplotlib inline"
   ]
  },
  {
   "cell_type": "code",
   "execution_count": 21,
   "id": "f5215f9b",
   "metadata": {},
   "outputs": [],
   "source": [
    "tf.config.run_functions_eagerly(True)"
   ]
  },
  {
   "cell_type": "markdown",
   "id": "25849359",
   "metadata": {},
   "source": [
    "### Load and define data"
   ]
  },
  {
   "cell_type": "code",
   "execution_count": 6,
   "id": "2f0a073d",
   "metadata": {},
   "outputs": [],
   "source": [
    "# Load year 1 train, test, validation image files\n",
    "X_train_1 = np.load('images_Y1_train.npy')\n",
    "X_test_1 = np.load('images_Y1_test.npy')\n",
    "X_valid_1 = np.load('images_Y1_valid.npy')"
   ]
  },
  {
   "cell_type": "code",
   "execution_count": 7,
   "id": "47fe8469",
   "metadata": {},
   "outputs": [],
   "source": [
    "# Load year 10 train, test, validation image files\n",
    "X_train_10 = np.load('images_Y10_train.npy')\n",
    "X_test_10 = np.load('images_Y10_test.npy')\n",
    "X_valid_10 = np.load('images_Y10_valid.npy')"
   ]
  },
  {
   "cell_type": "code",
   "execution_count": 8,
   "id": "faa5188c",
   "metadata": {},
   "outputs": [],
   "source": [
    "# Load year 1 and 10, label small subset test files\n",
    "X_test_1_sub = np.load('images_Y1_test_150.npy')\n",
    "X_test_10_sub = np.load('images_Y10_test_150.npy')\n",
    "Y_test_sub = np.load('labels_test_150.npy')"
   ]
  },
  {
   "cell_type": "code",
   "execution_count": 9,
   "id": "121691e0",
   "metadata": {},
   "outputs": [],
   "source": [
    "# Load image label files\n",
    "Y_train = np.load('labels_train.npy')\n",
    "Y_test = np.load('labels_test.npy')\n",
    "Y_valid = np.load('labels_valid.npy')"
   ]
  },
  {
   "cell_type": "code",
   "execution_count": 10,
   "id": "91a582bc",
   "metadata": {},
   "outputs": [
    {
     "data": {
      "text/plain": [
       "(33557, 3, 100, 100)"
      ]
     },
     "execution_count": 10,
     "metadata": {},
     "output_type": "execute_result"
    }
   ],
   "source": [
    "# define full datasets by combining train + test + validation sets\n",
    "X_1_data = np.concatenate([X_train_1, X_test_1, X_valid_1], axis=0)\n",
    "np.shape(X_1_data)"
   ]
  },
  {
   "cell_type": "code",
   "execution_count": 11,
   "id": "f08ff327",
   "metadata": {},
   "outputs": [
    {
     "data": {
      "text/plain": [
       "(33557, 3, 100, 100)"
      ]
     },
     "execution_count": 11,
     "metadata": {},
     "output_type": "execute_result"
    }
   ],
   "source": [
    "X_10_data = np.concatenate([X_train_10, X_test_10, X_valid_10], axis=0)\n",
    "np.shape(X_10_data)"
   ]
  },
  {
   "cell_type": "code",
   "execution_count": 12,
   "id": "bcc843d3",
   "metadata": {},
   "outputs": [
    {
     "data": {
      "text/plain": [
       "(33557, 3)"
      ]
     },
     "execution_count": 12,
     "metadata": {},
     "output_type": "execute_result"
    }
   ],
   "source": [
    "Y_data = np.concatenate([Y_train, Y_test, Y_valid], axis=0)\n",
    "np.shape(Y_data)"
   ]
  },
  {
   "cell_type": "markdown",
   "id": "8fd31d1c",
   "metadata": {},
   "source": [
    "**Choosing batch size, epoch:**\n",
    "\n",
    "batch size: larger batch sizes result in faster progress in training, but don't always converge as fast. Smaller batch sizes train slower, but can converge faster. \n",
    "epoch: models improve with more epochs of training, to a point; will start to plateau in accuracy as they converge. "
   ]
  },
  {
   "cell_type": "code",
   "execution_count": 13,
   "id": "fa4304fd",
   "metadata": {},
   "outputs": [],
   "source": [
    "# training variables for model 1\n",
    "# 70:10:20 for training:valid:test\n",
    "NUM_TRAIN = 23487 # num train images\n",
    "NUM_TEST = 6715 # num test images\n",
    "NUM_VALIDATION = 3355 # num validation images\n",
    "shuffle = True\n",
    "NUM_EPOCH = 100\n",
    "batch_size = 128"
   ]
  },
  {
   "cell_type": "code",
   "execution_count": 14,
   "id": "06c24bfe",
   "metadata": {},
   "outputs": [],
   "source": [
    "# Shuffle data\n",
    "random.seed(5)\n",
    "idx = np.random.choice(len(X_1_data), size=len(X_1_data), replace=False)\n",
    "X_1_data = X_1_data[idx]\n",
    "X_10_data = X_10_data[idx]\n",
    "Y_data = Y_data[idx]"
   ]
  },
  {
   "cell_type": "code",
   "execution_count": 13,
   "id": "bd18931b",
   "metadata": {},
   "outputs": [
    {
     "name": "stdout",
     "output_type": "stream",
     "text": [
      "33557\n"
     ]
    }
   ],
   "source": [
    "# check data sizes\n",
    "NUM_TOTAL = NUM_TRAIN + NUM_TEST + NUM_VALIDATION\n",
    "print(NUM_TOTAL)\n",
    "assert NUM_TOTAL == len(X_train_1) + len(X_test_1) + len(X_valid_1), \"total training, test, validation samples not equal to total samples - exiting\"\n"
   ]
  },
  {
   "cell_type": "markdown",
   "id": "b52e6c93",
   "metadata": {},
   "source": [
    "### Exploratory Data Analysis"
   ]
  },
  {
   "cell_type": "code",
   "execution_count": 14,
   "id": "b3f6e22e",
   "metadata": {},
   "outputs": [],
   "source": [
    "# Y_train_df = pd.DataFrame(Y_train)\n",
    "# Y_test_df = pd.DataFrame(Y_test)\n",
    "# Y_valid_df = pd.DataFrame(Y_valid)"
   ]
  },
  {
   "cell_type": "code",
   "execution_count": 15,
   "id": "ec68bdc6",
   "metadata": {},
   "outputs": [],
   "source": [
    "#Y_train_df.info()\n",
    "#Y_test_df.info()\n",
    "#Y_valid_df.info()"
   ]
  },
  {
   "cell_type": "code",
   "execution_count": 16,
   "id": "f3285360",
   "metadata": {},
   "outputs": [],
   "source": [
    "#Y_train_df.value_counts()\n",
    "#Y_test_df.value_counts()\n",
    "#Y_valid_df.value_counts()"
   ]
  },
  {
   "cell_type": "code",
   "execution_count": 17,
   "id": "999e1fac",
   "metadata": {},
   "outputs": [],
   "source": [
    "#Y_train_df.describe()\n",
    "#Y_test_df.describe()\n",
    "#Y_valid_df.describe()"
   ]
  },
  {
   "cell_type": "markdown",
   "id": "060f73e6",
   "metadata": {},
   "source": [
    "Each image represents a series of pixels in a grid-like format with a value of brightness for each pixel."
   ]
  },
  {
   "cell_type": "code",
   "execution_count": 12,
   "id": "0e41c825",
   "metadata": {},
   "outputs": [
    {
     "name": "stdout",
     "output_type": "stream",
     "text": [
      "Data dimensions: \n",
      "Input data:  (33557, 3, 100, 100) (33557, 3)\n",
      "Training Set:  (23487, 3, 100, 100) (23487, 3)\n",
      "Test Set:  (6715, 3, 100, 100) (6715, 3)\n",
      "Validation Set:  (3355, 3, 100, 100) (3355, 3)\n"
     ]
    }
   ],
   "source": [
    "print( \"Data dimensions: \")\n",
    "# training on year 1\n",
    "print( \"Input data: \", np.shape(X_1_data), np.shape(Y_data)) # same for year 10\n",
    "print( \"Training Set: \", np.shape(X_train_1), np.shape(Y_train)) # same for year 10\n",
    "print( \"Test Set: \", np.shape(X_test_1), np.shape(Y_test)) # same for year 10\n",
    "print( \"Validation Set: \", np.shape(X_valid_1), np.shape(Y_valid)) # same for year 10"
   ]
  },
  {
   "cell_type": "code",
   "execution_count": 13,
   "id": "264f40ae",
   "metadata": {},
   "outputs": [
    {
     "name": "stdout",
     "output_type": "stream",
     "text": [
      "Subset Test Set:  (150, 3, 100, 100)\n"
     ]
    }
   ],
   "source": [
    "print(\"Subset Test Set: \", np.shape(X_test_1_sub))"
   ]
  },
  {
   "cell_type": "markdown",
   "id": "0c3fc583",
   "metadata": {},
   "source": [
    "```\n",
    "Multi-Class Classification\n",
    "3 columns: spiral (or '0'), elliptical ('1'), or a galaxy merger ('2’) - (num_classes – 1)\n",
    "No null values, min:0, max:1\n",
    "dtype: int64\n",
    "\n",
    "(year 1)\n",
    "Training set details:\n",
    "• 23487 total images\n",
    "• 10017 Spiral galaxies (mean: 0.426491, std: 0.494577)\n",
    "• 5705 Elliptical galaxies (mean: 0.242900, std: 0.428844)\n",
    "• 7765 Merger galaxies (mean: 0.330608, std: 0.470442)\n",
    "• Memory usage: 550.6 KB\n",
    "\n",
    "Test set details:\n",
    "• 6715 total images\n",
    "• 2863 Spiral galaxies (mean: 0.426359, std: 0.494584)\n",
    "• 1631 Elliptical galaxies (mean: 0.242889, std: 0.428861)\n",
    "• 2221 Merger galaxies (mean: 0.330752, std: 0.470519)\n",
    "• Memory usage: 157.5 KB\n",
    "\n",
    "Validation set details:\n",
    "• 3355 total images\n",
    "• 1432 Spiral galaxies (mean: 0.426826, std: 0.494690)\n",
    "• 815 Elliptical galaxies (mean: 0.242921, std: 0.428912)\n",
    "• 1108 Merger galaxies (mean: 0.330253, std: 0.470374)\n",
    "• Memory usage: 78.8 KB\n",
    "```"
   ]
  },
  {
   "cell_type": "code",
   "execution_count": 15,
   "id": "11cc5718",
   "metadata": {},
   "outputs": [],
   "source": [
    "# cast data types as floats\n",
    "X_train_1 = X_train_1.astype('float32')\n",
    "X_test_1 = X_test_1.astype('float32')\n",
    "X_valid_1 = X_valid_1.astype('float32')\n",
    "\n",
    "X_train_10 = X_train_10.astype('float32')\n",
    "X_test_10 = X_test_10.astype('float32')\n",
    "X_valid_10 = X_valid_10.astype('float32')\n",
    "\n",
    "X_test_1_sub = X_test_1_sub.astype('float32')\n",
    "X_test_10_sub = X_test_10_sub.astype('float32')"
   ]
  },
  {
   "cell_type": "markdown",
   "id": "7b9a4bb8",
   "metadata": {},
   "source": [
    "# Build deterministic CNN model:\n",
    "First build a standard deterministic CNN classifier model as a baseline model. CNN/ConvNet typically uses ~3 convolution layers: a convolutional layer, a pooling layer, and a fully connected layer. The layer setup is such that simpler patterns are recognized first, then increasingly complex patterns thereafter.\n",
    "\n",
    "Perform series of convolution + pooling operations, then a number of fully connected layers. \n",
    "\n",
    "**Convolutional Layer:** Contains most of the network's main computational load. Performs dot product between kernel (matrix 1) and restricted portion of the receptive field (matrix 2). Forward pass. Creates an activation/feature map, or 2D representation of the image.\n",
    "\n",
    "**Pooling Layer:** provides summary statistic of nearby outputs at various network output locations. Pooling operation performed individually on every slice of activation map. Max pooling is most popular.\n",
    "\n",
    "**Fully Connected Layer:** helps map the representation b/w input and the output. Matrix multiplication, followed by a bias effect. Helps to learn non-linear combinations of features.\n",
    "\n",
    "#### Steps:\n",
    "\n",
    "1) Train\n",
    "\n",
    "2) Validate on a holdout set generated from the original training data\n",
    "\n",
    "3) Evaluate on the test data"
   ]
  },
  {
   "cell_type": "code",
   "execution_count": 15,
   "id": "462147a1",
   "metadata": {},
   "outputs": [
    {
     "name": "stdout",
     "output_type": "stream",
     "text": [
      "Tensorflow Version:  2.8.0\n",
      "Tensorflow Probability Version:  0.16.0\n"
     ]
    }
   ],
   "source": [
    "print(\"Tensorflow Version: \", tf.__version__)\n",
    "print(\"Tensorflow Probability Version: \", tfp.__version__)"
   ]
  },
  {
   "cell_type": "markdown",
   "id": "02dbddad",
   "metadata": {},
   "source": [
    "#### Defining CNN model architecture:\n",
    "\n",
    "##### Activation functions:\n",
    "\n",
    "**-Sigmoid:** σ(κ) = 1/(1+e¯κ), takes real-value number & “squashes” into a range 0-1\n",
    "\n",
    "**-ReLU/'relu':** Rectified Linear Unit, calculates ƒ(κ)=max (0,κ), or the activation is simply threshold at 0. More reliable + faster than sigmoid, tanh. More non-linearity gives more power to the model\n",
    "\n",
    "**-Softmax/Normalized Exponential:** converts a vector of numbers into a vector of probabilities, where the probabilities of each value are proportional to the relative scale of each value in the vector.\n",
    "\n",
    "##### Keras layers:\n",
    "\n",
    "**Convolution2D():** 2D convolution layer (e.g. spatial convolution over images). \n",
    "\n",
    "-args: activation (activation function to use), \n",
    "\n",
    "**MaxPooling2D():** Max pooling operation for 2D spatial data\n",
    "\n",
    "-args: pool_size (window size over which to take the maximum), strides (Specifies how far the pooling window moves for each pooling step; sliding size of the kernel), padding (''valid\"- no padding, or ''same\"- padding evenly to the left/right or up/down of the input such that output has the same height/width dimension as the input), data_format (ordering of the dimensions in the inputs)\n",
    "\n",
    "data_format='channels_first': \n",
    "\n",
    "input: 4D tensor with shape (batch_size, channels, rows, cols)\n",
    "output: 4D tensor with shape (batch_size, channels, pooled_rows, pooled_cols).\n",
    "\n",
    "**Dense():** regular densely-connected neural network layer (describes a layer of neurons)\n",
    "\n",
    "-args: activation (activation function to use), kernel_regularizer (regularizer function applied to the kernel weights matrix)\n",
    "\n",
    "##### Regularization\n",
    "**Dropout:** Most popular regularization technique, prevents overfitting. At each iteration, neuron temporarily “dropped” with probability 'p'. This neuron is resampled with 'p' at every training step, so will be active at next step. Typically ~0.5 or 50%. Can be applied to input or hidden layer nodes, but not output nodes. \n",
    "\n",
    "**Batch Normalization:** explicitly forces the activations throughout a network to take on a Gaussian distribution at the beginning of training, applying a transformation that maintains mean output close to 0 and output standard deviation close to 1. BatchNorm layer inserted immediately after fully connected layers, or convolutional layers, and before non-linearities. Significantly more robust to bad initialization.\n",
    "\n",
    "##### Keras Early stopping\n",
    "**Early stopping:** Early stopping call back function can be used to monitor either accuracy or loss, stopping when there's either a loss increment, or accuracy decrement. Should monitor the thing that is more sensitive, which is usually loss function- will start seeing signs of overfitting in loss earlier. \n",
    "\n",
    "##### Keras Optimizers:  \n",
    "**Adam:** implements the Adam algorithm; learning rate of 0.001. Stochastic gradient descent method based on adaptive estimation of 1st-order and 2nd-order moments. Very performant.\n",
    "\n",
    "##### Loss function: \n",
    "**Categorical Cross-entropy:** Computes the cross-entropy loss between the labels and predictions. Used when adjusting model weights during training. Categorical cross-entropy is used with 'softmax' activation for multi-class classification problem, i.e. when true label values are one-hot encoded for 3-class classification problem.\n",
    "\n",
    "**Sparse Categorical Cross-entropy:** Same as above, but does not require one-hot encoding. Used when there are many labels.\n",
    "\n",
    "##### Additional techniques to potentially look at:\n",
    "**Cross validation:** (i.e. k-fold), partition the original training data set into k equal subsets, each called a fold (named f1, f2, …, fk, for i = 1 to i = k). Keep the fold fi as the Validation set, and keep all the remaining k-1 folds in the Cross validation training set. Train model using the cross validation training set; calculate accuracy by validating predicted results against the validation set. Estimate accuracy of model by averaging the accuracies derived in all the k cases of cross validation. Helps reduce overfitting problem."
   ]
  },
  {
   "cell_type": "code",
   "execution_count": 16,
   "id": "09808d8f",
   "metadata": {},
   "outputs": [
    {
     "name": "stdout",
     "output_type": "stream",
     "text": [
      "['Spiral', 'Elliptical', 'Merger']\n"
     ]
    }
   ],
   "source": [
    "class_names = ['Spiral', 'Elliptical', 'Merger']\n",
    "NUM_CLASSES = len(class_names)\n",
    "print(class_names)"
   ]
  },
  {
   "cell_type": "code",
   "execution_count": 3,
   "id": "8302c42b",
   "metadata": {},
   "outputs": [],
   "source": [
    "base_dir = '/Users/marinadunn/Desktop/Grad_School/Research/'\n",
    "train_dir = os.path.join(base_dir, 'train')\n",
    "validation_dir = os.path.join(base_dir, 'validation')\n",
    "test_dir = os.path.join(base_dir, 'test')\n",
    "\n",
    "f_model = base_dir + \"model.json\" # model data (architecture)\n",
    "f_history = base_dir + \"history.json\" # training history \n",
    "f_weights = base_dir + \"weights.h5\" # model data (final weights)\n",
    "f_best_weights = base_dir + \"best_weights.h5\" # model data (best weights, give highest validation accuracy)"
   ]
  },
  {
   "cell_type": "markdown",
   "id": "84ad99b2",
   "metadata": {},
   "source": [
    "### Model 1"
   ]
  },
  {
   "cell_type": "code",
   "execution_count": 33,
   "id": "0c8f9034",
   "metadata": {},
   "outputs": [
    {
     "name": "stdout",
     "output_type": "stream",
     "text": [
      "Metal device set to: Apple M1\n"
     ]
    },
    {
     "name": "stderr",
     "output_type": "stream",
     "text": [
      "2022-05-09 11:59:41.385733: I tensorflow/core/common_runtime/pluggable_device/pluggable_device_factory.cc:305] Could not identify NUMA node of platform GPU ID 0, defaulting to 0. Your kernel may not have been built with NUMA support.\n",
      "2022-05-09 11:59:41.386740: I tensorflow/core/common_runtime/pluggable_device/pluggable_device_factory.cc:271] Created TensorFlow device (/job:localhost/replica:0/task:0/device:GPU:0 with 0 MB memory) -> physical PluggableDevice (device: 0, name: METAL, pci bus id: <undefined>)\n"
     ]
    }
   ],
   "source": [
    "# Defining model layers, build with the Functional API\n",
    "data_shape = np.shape(X_1_data)\n",
    "#(channels, rows, cols)\n",
    "input_shape = (3, 100, 100)\n",
    "\n",
    "# Constraints for layer 1\n",
    "# input: tensors of shape (color_channels, image_height, image_width), ignoring batch size\n",
    "x = Input(shape=input_shape)\n",
    "#For CNN: Convolution typically uses 3x3 windows, stride 1 & with padding. Will try 5x5 window first to attempt tp catch more features, but try multiple\n",
    "c0 = Conv2D(8, (5, 5), activation='relu', strides=(1, 1), padding='same', data_format='channels_first', name='conv_1')(x)\n",
    "b0 = BatchNormalization()(c0)\n",
    "#For CNN: pooling typically uses 2x2 windows, stride 2 & no padding\n",
    "d0 = MaxPooling2D(pool_size=(2, 2), strides=None, padding='valid', data_format='channels_first', name='maxpool_1')(b0)\n",
    "e0 = Dropout(0.5)(d0)\n",
    "\n",
    "# Constraints for layer 2\n",
    "c1 = Conv2D(16, (3, 3), activation='relu', strides=(1, 1), padding='same', data_format='channels_first', name='conv_2')(e0)\n",
    "b1 = BatchNormalization()(c1)\n",
    "d1 = MaxPooling2D(pool_size=(2, 2), strides=None, padding='valid', data_format='channels_first', name='maxpool_2')(b1)\n",
    "e1 = Dropout(0.5)(d1)\n",
    "\n",
    "# Constraints for layer 3\n",
    "c2 = Conv2D(32, (3, 3), activation='relu', strides=(1, 1), padding='same', data_format='channels_first', name='conv_3')(e1)\n",
    "b2 = BatchNormalization()(c2)\n",
    "d2 = MaxPooling2D(pool_size=(2, 2), strides=None, padding='valid', data_format='channels_first', name='maxpool_3')(b2)\n",
    "e2 = Dropout(0.5)(d2)\n",
    "\n",
    "#flatten (or unroll) the 3D output to 1D\n",
    "f = Flatten()(e2)\n",
    "\n",
    "# hidden layer\n",
    "# Dense layer: takes 1D vector as input, current output is a 3D tensor; start simple, then change unit to try to increase performance\n",
    "z0 = Dense(512, activation='relu', kernel_regularizer=l2(0.0001), name='dense_1')(f)\n",
    "z1 = Dense(256, activation='relu', kernel_regularizer=l2(0.0001), name='dense_2')(z0)\n",
    "# use L2 regulization: take sum of all params squared & add it w/ square difference of actual output & predictions\n",
    "# weights not sparse, will get much better accuracy than L1\n",
    "z2 = Dense(64, activation='relu', kernel_regularizer=l2(0.0001), name='dense_3')(z1)\n",
    "z3 = Dense(32, activation='relu', kernel_regularizer=l2(0.0001), name='dense_4')(z2)\n",
    "# output layer must create 3 output values, one for each class\n",
    "# use “softmax” activation function to ensure output values are in range 0-1 & may be used as predicted probabilities\n",
    "y = Dense(NUM_CLASSES, activation='softmax', name='output')(z3)\n",
    "\n",
    "model = Model(inputs=x, outputs=y)"
   ]
  },
  {
   "cell_type": "code",
   "execution_count": 34,
   "id": "89459ff9",
   "metadata": {},
   "outputs": [
    {
     "name": "stdout",
     "output_type": "stream",
     "text": [
      "Model: \"model\"\n",
      "_________________________________________________________________\n",
      " Layer (type)                Output Shape              Param #   \n",
      "=================================================================\n",
      " input_1 (InputLayer)        [(None, 3, 100, 100)]     0         \n",
      "                                                                 \n",
      " conv_1 (Conv2D)             (None, 8, 100, 100)       608       \n",
      "                                                                 \n",
      " batch_normalization (BatchN  (None, 8, 100, 100)      400       \n",
      " ormalization)                                                   \n",
      "                                                                 \n",
      " maxpool_1 (MaxPooling2D)    (None, 8, 50, 50)         0         \n",
      "                                                                 \n",
      " dropout (Dropout)           (None, 8, 50, 50)         0         \n",
      "                                                                 \n",
      " conv_2 (Conv2D)             (None, 16, 50, 50)        1168      \n",
      "                                                                 \n",
      " batch_normalization_1 (Batc  (None, 16, 50, 50)       200       \n",
      " hNormalization)                                                 \n",
      "                                                                 \n",
      " maxpool_2 (MaxPooling2D)    (None, 16, 25, 25)        0         \n",
      "                                                                 \n",
      " dropout_1 (Dropout)         (None, 16, 25, 25)        0         \n",
      "                                                                 \n",
      " conv_3 (Conv2D)             (None, 32, 25, 25)        4640      \n",
      "                                                                 \n",
      " batch_normalization_2 (Batc  (None, 32, 25, 25)       100       \n",
      " hNormalization)                                                 \n",
      "                                                                 \n",
      " maxpool_3 (MaxPooling2D)    (None, 32, 12, 12)        0         \n",
      "                                                                 \n",
      " dropout_2 (Dropout)         (None, 32, 12, 12)        0         \n",
      "                                                                 \n",
      " flatten (Flatten)           (None, 4608)              0         \n",
      "                                                                 \n",
      " dense_1 (Dense)             (None, 512)               2359808   \n",
      "                                                                 \n",
      " dense_2 (Dense)             (None, 256)               131328    \n",
      "                                                                 \n",
      " dense_3 (Dense)             (None, 64)                16448     \n",
      "                                                                 \n",
      " dense_4 (Dense)             (None, 32)                2080      \n",
      "                                                                 \n",
      " output (Dense)              (None, 3)                 99        \n",
      "                                                                 \n",
      "=================================================================\n",
      "Total params: 2,516,879\n",
      "Trainable params: 2,516,529\n",
      "Non-trainable params: 350\n",
      "_________________________________________________________________\n"
     ]
    }
   ],
   "source": [
    "# Compile Model\n",
    "optimizer = 'adam'\n",
    "metrics = ['accuracy']\n",
    "# Multi-Class Cross-Entropy Loss\n",
    "loss = 'categorical_crossentropy' \n",
    "model.compile(loss=loss, optimizer=optimizer, metrics=metrics)\n",
    "model.summary()"
   ]
  },
  {
   "cell_type": "code",
   "execution_count": 38,
   "id": "5c851560",
   "metadata": {},
   "outputs": [],
   "source": [
    "\"\"\"\n",
    "monitor: value to be monitored by the function: validation loss or validation accuracy\n",
    "mode: mode in which change in the quantity monitored should be observed: ‘min’, ‘max’, or ‘auto’. \n",
    "For loss, value is ‘min’. For accuracy, value is ‘max’. ‘auto’: monitors with auto suitable mode\n",
    "patience: number of epochs for the training to be continued after the first halt for any improvement in the model\n",
    "verbose: integer value- 0, 1 or 2, selects the way in which progress is displayed while training\n",
    "Verbose = 1: A bar depicting the progress of training is displayed\n",
    "\"\"\"\n",
    "\n",
    "es = [EarlyStopping(monitor='val_loss', mode='min', verbose=1, patience=50),\n",
    "# Save best weights in order to maximize validation accuracy, only saves when the model is considered the \"best\"\n",
    "     ModelCheckpoint(filepath=f_best_weights, monitor='val_acc', mode='max', verbose=1, save_best_only=True)] "
   ]
  },
  {
   "cell_type": "code",
   "execution_count": 39,
   "id": "e0cf3cf9",
   "metadata": {},
   "outputs": [
    {
     "name": "stdout",
     "output_type": "stream",
     "text": [
      "Epoch 1/100\n",
      "184/184 [==============================] - ETA: 0s - loss: 1.0381 - accuracy: 0.5472WARNING:tensorflow:Can save best model only with val_acc available, skipping.\n",
      "184/184 [==============================] - 85s 461ms/step - loss: 1.0381 - accuracy: 0.5472 - val_loss: 1.2359 - val_accuracy: 0.4134\n",
      "Epoch 2/100\n",
      "184/184 [==============================] - ETA: 0s - loss: 0.9983 - accuracy: 0.5686WARNING:tensorflow:Can save best model only with val_acc available, skipping.\n",
      "184/184 [==============================] - 85s 461ms/step - loss: 0.9983 - accuracy: 0.5686 - val_loss: 1.1827 - val_accuracy: 0.4304\n",
      "Epoch 3/100\n",
      "184/184 [==============================] - ETA: 0s - loss: 0.9645 - accuracy: 0.5814WARNING:tensorflow:Can save best model only with val_acc available, skipping.\n",
      "184/184 [==============================] - 85s 462ms/step - loss: 0.9645 - accuracy: 0.5814 - val_loss: 1.0724 - val_accuracy: 0.5151\n",
      "Epoch 4/100\n",
      "184/184 [==============================] - ETA: 0s - loss: 0.9274 - accuracy: 0.6077WARNING:tensorflow:Can save best model only with val_acc available, skipping.\n",
      "184/184 [==============================] - 84s 459ms/step - loss: 0.9274 - accuracy: 0.6077 - val_loss: 1.1474 - val_accuracy: 0.4545\n",
      "Epoch 5/100\n",
      "184/184 [==============================] - ETA: 0s - loss: 0.8913 - accuracy: 0.6257WARNING:tensorflow:Can save best model only with val_acc available, skipping.\n",
      "184/184 [==============================] - 85s 462ms/step - loss: 0.8913 - accuracy: 0.6257 - val_loss: 1.0126 - val_accuracy: 0.5446\n",
      "Epoch 6/100\n",
      "184/184 [==============================] - ETA: 0s - loss: 0.8746 - accuracy: 0.6404WARNING:tensorflow:Can save best model only with val_acc available, skipping.\n",
      "184/184 [==============================] - 84s 459ms/step - loss: 0.8746 - accuracy: 0.6404 - val_loss: 0.9977 - val_accuracy: 0.5639\n",
      "Epoch 7/100\n",
      "184/184 [==============================] - ETA: 0s - loss: 0.8493 - accuracy: 0.6555WARNING:tensorflow:Can save best model only with val_acc available, skipping.\n",
      "184/184 [==============================] - 84s 458ms/step - loss: 0.8493 - accuracy: 0.6555 - val_loss: 0.8976 - val_accuracy: 0.6235\n",
      "Epoch 8/100\n",
      "184/184 [==============================] - ETA: 0s - loss: 0.8328 - accuracy: 0.6633WARNING:tensorflow:Can save best model only with val_acc available, skipping.\n",
      "184/184 [==============================] - 85s 460ms/step - loss: 0.8328 - accuracy: 0.6633 - val_loss: 0.9539 - val_accuracy: 0.5949\n",
      "Epoch 9/100\n",
      "184/184 [==============================] - ETA: 0s - loss: 0.8091 - accuracy: 0.6768WARNING:tensorflow:Can save best model only with val_acc available, skipping.\n",
      "184/184 [==============================] - 85s 459ms/step - loss: 0.8091 - accuracy: 0.6768 - val_loss: 0.8966 - val_accuracy: 0.6474\n",
      "Epoch 10/100\n",
      "184/184 [==============================] - ETA: 0s - loss: 0.7948 - accuracy: 0.6892WARNING:tensorflow:Can save best model only with val_acc available, skipping.\n",
      "184/184 [==============================] - 85s 459ms/step - loss: 0.7948 - accuracy: 0.6892 - val_loss: 0.9322 - val_accuracy: 0.6370\n",
      "Epoch 11/100\n",
      "184/184 [==============================] - ETA: 0s - loss: 0.7860 - accuracy: 0.6957WARNING:tensorflow:Can save best model only with val_acc available, skipping.\n",
      "184/184 [==============================] - 84s 459ms/step - loss: 0.7860 - accuracy: 0.6957 - val_loss: 0.8591 - val_accuracy: 0.6775\n",
      "Epoch 12/100\n",
      "184/184 [==============================] - ETA: 0s - loss: 0.7694 - accuracy: 0.7081WARNING:tensorflow:Can save best model only with val_acc available, skipping.\n",
      "184/184 [==============================] - 85s 460ms/step - loss: 0.7694 - accuracy: 0.7081 - val_loss: 0.9107 - val_accuracy: 0.6414\n",
      "Epoch 13/100\n",
      "184/184 [==============================] - ETA: 0s - loss: 0.7607 - accuracy: 0.7190WARNING:tensorflow:Can save best model only with val_acc available, skipping.\n",
      "184/184 [==============================] - 84s 459ms/step - loss: 0.7607 - accuracy: 0.7190 - val_loss: 0.8471 - val_accuracy: 0.6879\n",
      "Epoch 14/100\n",
      "184/184 [==============================] - ETA: 0s - loss: 0.7546 - accuracy: 0.7237WARNING:tensorflow:Can save best model only with val_acc available, skipping.\n",
      "184/184 [==============================] - 84s 458ms/step - loss: 0.7546 - accuracy: 0.7237 - val_loss: 0.9464 - val_accuracy: 0.6432\n",
      "Epoch 15/100\n",
      "184/184 [==============================] - ETA: 0s - loss: 0.7482 - accuracy: 0.7360WARNING:tensorflow:Can save best model only with val_acc available, skipping.\n",
      "184/184 [==============================] - 84s 456ms/step - loss: 0.7482 - accuracy: 0.7360 - val_loss: 0.8946 - val_accuracy: 0.6820\n",
      "Epoch 16/100\n",
      "184/184 [==============================] - ETA: 0s - loss: 0.7342 - accuracy: 0.7477WARNING:tensorflow:Can save best model only with val_acc available, skipping.\n",
      "184/184 [==============================] - 84s 456ms/step - loss: 0.7342 - accuracy: 0.7477 - val_loss: 0.9095 - val_accuracy: 0.6927\n",
      "Epoch 17/100\n",
      "184/184 [==============================] - ETA: 0s - loss: 0.7186 - accuracy: 0.7592WARNING:tensorflow:Can save best model only with val_acc available, skipping.\n",
      "184/184 [==============================] - 84s 456ms/step - loss: 0.7186 - accuracy: 0.7592 - val_loss: 0.9311 - val_accuracy: 0.6838\n",
      "Epoch 18/100\n",
      "184/184 [==============================] - ETA: 0s - loss: 0.7183 - accuracy: 0.7652WARNING:tensorflow:Can save best model only with val_acc available, skipping.\n",
      "184/184 [==============================] - 84s 456ms/step - loss: 0.7183 - accuracy: 0.7652 - val_loss: 0.9359 - val_accuracy: 0.6981\n",
      "Epoch 19/100\n",
      "184/184 [==============================] - ETA: 0s - loss: 0.7127 - accuracy: 0.7729WARNING:tensorflow:Can save best model only with val_acc available, skipping.\n",
      "184/184 [==============================] - 85s 461ms/step - loss: 0.7127 - accuracy: 0.7729 - val_loss: 0.8547 - val_accuracy: 0.7246\n",
      "Epoch 20/100\n",
      "184/184 [==============================] - ETA: 0s - loss: 0.6994 - accuracy: 0.7873WARNING:tensorflow:Can save best model only with val_acc available, skipping.\n",
      "184/184 [==============================] - 84s 458ms/step - loss: 0.6994 - accuracy: 0.7873 - val_loss: 0.8770 - val_accuracy: 0.7404\n",
      "Epoch 21/100\n",
      "184/184 [==============================] - ETA: 0s - loss: 0.6912 - accuracy: 0.7967WARNING:tensorflow:Can save best model only with val_acc available, skipping.\n",
      "184/184 [==============================] - 84s 458ms/step - loss: 0.6912 - accuracy: 0.7967 - val_loss: 0.9115 - val_accuracy: 0.7434\n",
      "Epoch 22/100\n",
      "184/184 [==============================] - ETA: 0s - loss: 0.6846 - accuracy: 0.8047WARNING:tensorflow:Can save best model only with val_acc available, skipping.\n",
      "184/184 [==============================] - 84s 458ms/step - loss: 0.6846 - accuracy: 0.8047 - val_loss: 0.9210 - val_accuracy: 0.7368\n",
      "Epoch 23/100\n",
      "184/184 [==============================] - ETA: 0s - loss: 0.6751 - accuracy: 0.8130WARNING:tensorflow:Can save best model only with val_acc available, skipping.\n",
      "184/184 [==============================] - 84s 459ms/step - loss: 0.6751 - accuracy: 0.8130 - val_loss: 0.9208 - val_accuracy: 0.7538\n",
      "Epoch 24/100\n",
      "184/184 [==============================] - ETA: 0s - loss: 0.6554 - accuracy: 0.8277WARNING:tensorflow:Can save best model only with val_acc available, skipping.\n",
      "184/184 [==============================] - 85s 460ms/step - loss: 0.6554 - accuracy: 0.8277 - val_loss: 0.9362 - val_accuracy: 0.7416\n",
      "Epoch 25/100\n",
      "184/184 [==============================] - ETA: 0s - loss: 0.6532 - accuracy: 0.8331WARNING:tensorflow:Can save best model only with val_acc available, skipping.\n",
      "184/184 [==============================] - 84s 458ms/step - loss: 0.6532 - accuracy: 0.8331 - val_loss: 0.9396 - val_accuracy: 0.7541\n",
      "Epoch 26/100\n",
      "184/184 [==============================] - ETA: 0s - loss: 0.6476 - accuracy: 0.8385WARNING:tensorflow:Can save best model only with val_acc available, skipping.\n",
      "184/184 [==============================] - 84s 458ms/step - loss: 0.6476 - accuracy: 0.8385 - val_loss: 0.8946 - val_accuracy: 0.7762\n",
      "Epoch 27/100\n",
      "184/184 [==============================] - ETA: 0s - loss: 0.6327 - accuracy: 0.8443WARNING:tensorflow:Can save best model only with val_acc available, skipping.\n"
     ]
    },
    {
     "name": "stdout",
     "output_type": "stream",
     "text": [
      "184/184 [==============================] - 83s 453ms/step - loss: 0.6327 - accuracy: 0.8443 - val_loss: 0.9160 - val_accuracy: 0.7714\n",
      "Epoch 28/100\n",
      "184/184 [==============================] - ETA: 0s - loss: 0.6286 - accuracy: 0.8507WARNING:tensorflow:Can save best model only with val_acc available, skipping.\n",
      "184/184 [==============================] - 84s 458ms/step - loss: 0.6286 - accuracy: 0.8507 - val_loss: 0.9730 - val_accuracy: 0.7458\n",
      "Epoch 29/100\n",
      "184/184 [==============================] - ETA: 0s - loss: 0.6151 - accuracy: 0.8577WARNING:tensorflow:Can save best model only with val_acc available, skipping.\n",
      "184/184 [==============================] - 84s 459ms/step - loss: 0.6151 - accuracy: 0.8577 - val_loss: 0.9290 - val_accuracy: 0.7744\n",
      "Epoch 30/100\n",
      "184/184 [==============================] - ETA: 0s - loss: 0.6092 - accuracy: 0.8646WARNING:tensorflow:Can save best model only with val_acc available, skipping.\n",
      "184/184 [==============================] - 84s 457ms/step - loss: 0.6092 - accuracy: 0.8646 - val_loss: 0.9200 - val_accuracy: 0.7809\n",
      "Epoch 31/100\n",
      "184/184 [==============================] - ETA: 0s - loss: 0.6075 - accuracy: 0.8664WARNING:tensorflow:Can save best model only with val_acc available, skipping.\n",
      "184/184 [==============================] - 84s 458ms/step - loss: 0.6075 - accuracy: 0.8664 - val_loss: 0.9539 - val_accuracy: 0.7836\n",
      "Epoch 32/100\n",
      "184/184 [==============================] - ETA: 0s - loss: 0.5944 - accuracy: 0.8726WARNING:tensorflow:Can save best model only with val_acc available, skipping.\n",
      "184/184 [==============================] - 85s 460ms/step - loss: 0.5944 - accuracy: 0.8726 - val_loss: 0.9478 - val_accuracy: 0.7917\n",
      "Epoch 33/100\n",
      "184/184 [==============================] - ETA: 0s - loss: 0.5869 - accuracy: 0.8791WARNING:tensorflow:Can save best model only with val_acc available, skipping.\n",
      "184/184 [==============================] - 85s 459ms/step - loss: 0.5869 - accuracy: 0.8791 - val_loss: 0.9540 - val_accuracy: 0.7827\n",
      "Epoch 34/100\n",
      "184/184 [==============================] - ETA: 0s - loss: 0.5923 - accuracy: 0.8764WARNING:tensorflow:Can save best model only with val_acc available, skipping.\n",
      "184/184 [==============================] - 84s 457ms/step - loss: 0.5923 - accuracy: 0.8764 - val_loss: 0.9380 - val_accuracy: 0.7958\n",
      "Epoch 35/100\n",
      "184/184 [==============================] - ETA: 0s - loss: 0.5829 - accuracy: 0.8860WARNING:tensorflow:Can save best model only with val_acc available, skipping.\n",
      "184/184 [==============================] - 84s 458ms/step - loss: 0.5829 - accuracy: 0.8860 - val_loss: 0.9054 - val_accuracy: 0.7967\n",
      "Epoch 36/100\n",
      "184/184 [==============================] - ETA: 0s - loss: 0.5710 - accuracy: 0.8888WARNING:tensorflow:Can save best model only with val_acc available, skipping.\n",
      "184/184 [==============================] - 84s 457ms/step - loss: 0.5710 - accuracy: 0.8888 - val_loss: 0.9257 - val_accuracy: 0.7842\n",
      "Epoch 37/100\n",
      "184/184 [==============================] - ETA: 0s - loss: 0.5659 - accuracy: 0.8946WARNING:tensorflow:Can save best model only with val_acc available, skipping.\n",
      "184/184 [==============================] - 85s 459ms/step - loss: 0.5659 - accuracy: 0.8946 - val_loss: 0.9517 - val_accuracy: 0.7890\n",
      "Epoch 38/100\n",
      "184/184 [==============================] - ETA: 0s - loss: 0.5611 - accuracy: 0.8966WARNING:tensorflow:Can save best model only with val_acc available, skipping.\n",
      "184/184 [==============================] - 85s 460ms/step - loss: 0.5611 - accuracy: 0.8966 - val_loss: 0.9245 - val_accuracy: 0.8095\n",
      "Epoch 39/100\n",
      "184/184 [==============================] - ETA: 0s - loss: 0.5536 - accuracy: 0.9000WARNING:tensorflow:Can save best model only with val_acc available, skipping.\n",
      "184/184 [==============================] - 85s 460ms/step - loss: 0.5536 - accuracy: 0.9000 - val_loss: 0.9014 - val_accuracy: 0.8060\n",
      "Epoch 40/100\n",
      "184/184 [==============================] - ETA: 0s - loss: 0.5456 - accuracy: 0.9035WARNING:tensorflow:Can save best model only with val_acc available, skipping.\n",
      "184/184 [==============================] - 85s 459ms/step - loss: 0.5456 - accuracy: 0.9035 - val_loss: 0.9305 - val_accuracy: 0.8027\n",
      "Epoch 41/100\n",
      "184/184 [==============================] - ETA: 0s - loss: 0.5396 - accuracy: 0.9079WARNING:tensorflow:Can save best model only with val_acc available, skipping.\n",
      "184/184 [==============================] - 84s 457ms/step - loss: 0.5396 - accuracy: 0.9079 - val_loss: 0.9536 - val_accuracy: 0.8030\n",
      "Epoch 42/100\n",
      "184/184 [==============================] - ETA: 0s - loss: 0.5347 - accuracy: 0.9098WARNING:tensorflow:Can save best model only with val_acc available, skipping.\n",
      "184/184 [==============================] - 85s 460ms/step - loss: 0.5347 - accuracy: 0.9098 - val_loss: 0.9206 - val_accuracy: 0.8188\n",
      "Epoch 43/100\n",
      "184/184 [==============================] - ETA: 0s - loss: 0.5290 - accuracy: 0.9146WARNING:tensorflow:Can save best model only with val_acc available, skipping.\n",
      "184/184 [==============================] - 84s 457ms/step - loss: 0.5290 - accuracy: 0.9146 - val_loss: 0.9107 - val_accuracy: 0.8215\n",
      "Epoch 44/100\n",
      "184/184 [==============================] - ETA: 0s - loss: 0.5237 - accuracy: 0.9155WARNING:tensorflow:Can save best model only with val_acc available, skipping.\n",
      "184/184 [==============================] - 84s 459ms/step - loss: 0.5237 - accuracy: 0.9155 - val_loss: 0.9402 - val_accuracy: 0.8089\n",
      "Epoch 45/100\n",
      "184/184 [==============================] - ETA: 0s - loss: 0.5241 - accuracy: 0.9155WARNING:tensorflow:Can save best model only with val_acc available, skipping.\n",
      "184/184 [==============================] - 84s 458ms/step - loss: 0.5241 - accuracy: 0.9155 - val_loss: 0.9745 - val_accuracy: 0.7967\n",
      "Epoch 46/100\n",
      "184/184 [==============================] - ETA: 0s - loss: 0.5118 - accuracy: 0.9212WARNING:tensorflow:Can save best model only with val_acc available, skipping.\n",
      "184/184 [==============================] - 84s 457ms/step - loss: 0.5118 - accuracy: 0.9212 - val_loss: 0.9854 - val_accuracy: 0.8075\n",
      "Epoch 47/100\n",
      "184/184 [==============================] - ETA: 0s - loss: 0.5234 - accuracy: 0.9174WARNING:tensorflow:Can save best model only with val_acc available, skipping.\n",
      "184/184 [==============================] - 84s 457ms/step - loss: 0.5234 - accuracy: 0.9174 - val_loss: 0.9285 - val_accuracy: 0.8095\n",
      "Epoch 48/100\n",
      "184/184 [==============================] - ETA: 0s - loss: 0.5090 - accuracy: 0.9228WARNING:tensorflow:Can save best model only with val_acc available, skipping.\n",
      "184/184 [==============================] - 84s 458ms/step - loss: 0.5090 - accuracy: 0.9228 - val_loss: 0.9622 - val_accuracy: 0.8098\n",
      "Epoch 49/100\n",
      "184/184 [==============================] - ETA: 0s - loss: 0.5091 - accuracy: 0.9243WARNING:tensorflow:Can save best model only with val_acc available, skipping.\n",
      "184/184 [==============================] - 84s 458ms/step - loss: 0.5091 - accuracy: 0.9243 - val_loss: 0.9455 - val_accuracy: 0.8194\n",
      "Epoch 50/100\n",
      "184/184 [==============================] - ETA: 0s - loss: 0.5132 - accuracy: 0.9214WARNING:tensorflow:Can save best model only with val_acc available, skipping.\n",
      "184/184 [==============================] - 84s 457ms/step - loss: 0.5132 - accuracy: 0.9214 - val_loss: 0.9513 - val_accuracy: 0.8092\n",
      "Epoch 51/100\n",
      "184/184 [==============================] - ETA: 0s - loss: 0.5003 - accuracy: 0.9273WARNING:tensorflow:Can save best model only with val_acc available, skipping.\n",
      "184/184 [==============================] - 84s 457ms/step - loss: 0.5003 - accuracy: 0.9273 - val_loss: 0.9622 - val_accuracy: 0.8072\n",
      "Epoch 52/100\n",
      "184/184 [==============================] - ETA: 0s - loss: 0.4967 - accuracy: 0.9284WARNING:tensorflow:Can save best model only with val_acc available, skipping.\n",
      "184/184 [==============================] - 85s 460ms/step - loss: 0.4967 - accuracy: 0.9284 - val_loss: 0.9816 - val_accuracy: 0.7973\n",
      "Epoch 53/100\n",
      "184/184 [==============================] - ETA: 0s - loss: 0.5042 - accuracy: 0.9273WARNING:tensorflow:Can save best model only with val_acc available, skipping.\n",
      "184/184 [==============================] - 84s 459ms/step - loss: 0.5042 - accuracy: 0.9273 - val_loss: 0.9647 - val_accuracy: 0.8036\n",
      "Epoch 54/100\n"
     ]
    },
    {
     "name": "stdout",
     "output_type": "stream",
     "text": [
      "184/184 [==============================] - ETA: 0s - loss: 0.4990 - accuracy: 0.9286WARNING:tensorflow:Can save best model only with val_acc available, skipping.\n",
      "184/184 [==============================] - 84s 458ms/step - loss: 0.4990 - accuracy: 0.9286 - val_loss: 0.9552 - val_accuracy: 0.8095\n",
      "Epoch 55/100\n",
      "184/184 [==============================] - ETA: 0s - loss: 0.4924 - accuracy: 0.9327WARNING:tensorflow:Can save best model only with val_acc available, skipping.\n",
      "184/184 [==============================] - 85s 460ms/step - loss: 0.4924 - accuracy: 0.9327 - val_loss: 0.9462 - val_accuracy: 0.8185\n",
      "Epoch 56/100\n",
      "184/184 [==============================] - ETA: 0s - loss: 0.4925 - accuracy: 0.9323WARNING:tensorflow:Can save best model only with val_acc available, skipping.\n",
      "184/184 [==============================] - 84s 458ms/step - loss: 0.4925 - accuracy: 0.9323 - val_loss: 0.9701 - val_accuracy: 0.8122\n",
      "Epoch 57/100\n",
      "184/184 [==============================] - ETA: 0s - loss: 0.4905 - accuracy: 0.9340WARNING:tensorflow:Can save best model only with val_acc available, skipping.\n",
      "184/184 [==============================] - 84s 457ms/step - loss: 0.4905 - accuracy: 0.9340 - val_loss: 0.9322 - val_accuracy: 0.8122\n",
      "Epoch 58/100\n",
      "184/184 [==============================] - ETA: 0s - loss: 0.4851 - accuracy: 0.9359WARNING:tensorflow:Can save best model only with val_acc available, skipping.\n",
      "184/184 [==============================] - 84s 459ms/step - loss: 0.4851 - accuracy: 0.9359 - val_loss: 0.9763 - val_accuracy: 0.8143\n",
      "Epoch 59/100\n",
      "184/184 [==============================] - ETA: 0s - loss: 0.4913 - accuracy: 0.9332WARNING:tensorflow:Can save best model only with val_acc available, skipping.\n",
      "184/184 [==============================] - 84s 459ms/step - loss: 0.4913 - accuracy: 0.9332 - val_loss: 0.9616 - val_accuracy: 0.8125\n",
      "Epoch 60/100\n",
      "184/184 [==============================] - ETA: 0s - loss: 0.4912 - accuracy: 0.9349WARNING:tensorflow:Can save best model only with val_acc available, skipping.\n",
      "184/184 [==============================] - 84s 459ms/step - loss: 0.4912 - accuracy: 0.9349 - val_loss: 0.9484 - val_accuracy: 0.8173\n",
      "Epoch 61/100\n",
      "184/184 [==============================] - ETA: 0s - loss: 0.4773 - accuracy: 0.9387WARNING:tensorflow:Can save best model only with val_acc available, skipping.\n",
      "184/184 [==============================] - 84s 458ms/step - loss: 0.4773 - accuracy: 0.9387 - val_loss: 0.9568 - val_accuracy: 0.8152\n",
      "Epoch 62/100\n",
      "184/184 [==============================] - ETA: 0s - loss: 0.4732 - accuracy: 0.9393WARNING:tensorflow:Can save best model only with val_acc available, skipping.\n",
      "184/184 [==============================] - 84s 458ms/step - loss: 0.4732 - accuracy: 0.9393 - val_loss: 0.9827 - val_accuracy: 0.8077\n",
      "Epoch 63/100\n",
      "184/184 [==============================] - ETA: 0s - loss: 0.4860 - accuracy: 0.9347WARNING:tensorflow:Can save best model only with val_acc available, skipping.\n",
      "184/184 [==============================] - 84s 458ms/step - loss: 0.4860 - accuracy: 0.9347 - val_loss: 0.9489 - val_accuracy: 0.8182\n",
      "Epoch 63: early stopping\n"
     ]
    }
   ],
   "source": [
    "# Train Model\n",
    "\n",
    "history = model.fit(\n",
    "                    X_train_1, Y_train,\n",
    "                    batch_size=batch_size,\n",
    "                    epochs=NUM_EPOCH,\n",
    "                    validation_data=(X_valid_1, Y_valid),                \n",
    "                    shuffle=shuffle,\n",
    "                    verbose=True,\n",
    "                    callbacks=es\n",
    "            )"
   ]
  },
  {
   "cell_type": "code",
   "execution_count": 40,
   "id": "cd4ce32d",
   "metadata": {},
   "outputs": [],
   "source": [
    "# Save data\n",
    "model.save_weights(f_weights, overwrite=True)\n",
    "open(f_model, 'w').write(model.to_json())\n",
    "\n",
    "#Saving history for future use\n",
    "with open(f_history, 'w') as f:\n",
    "    json.dump(history.history, f)"
   ]
  },
  {
   "cell_type": "code",
   "execution_count": 43,
   "id": "3e952f1f",
   "metadata": {},
   "outputs": [
    {
     "name": "stdout",
     "output_type": "stream",
     "text": [
      "Loaded model from disk\n"
     ]
    }
   ],
   "source": [
    "#loading history\n",
    "path = f_history\n",
    "if os.path.exists(path): # reload history if it exists\n",
    "        with codecs.open(path, 'r', encoding='utf-8') as f:\n",
    "             n = json.loads(f.read())\n",
    "                \n",
    "#loading model\n",
    "json_file = open(f_model, 'r')\n",
    "loaded_model_json = json_file.read()\n",
    "json_file.close()\n",
    "loaded_model = model_from_json(loaded_model_json)\n",
    "\n",
    "\n",
    "# load best weights into new model\n",
    "loaded_model.load_weights(f_weights)\n",
    "print(\"Loaded model from disk\")"
   ]
  },
  {
   "cell_type": "code",
   "execution_count": 44,
   "id": "6482c878",
   "metadata": {},
   "outputs": [
    {
     "name": "stdout",
     "output_type": "stream",
     "text": [
      "210/210 [==============================] - 5s 25ms/step - loss: 0.9943 - accuracy: 0.8158\n",
      "accuracy: 81.58%\n"
     ]
    }
   ],
   "source": [
    "# Evaluate the model on test data\n",
    "loaded_model.compile(loss=loss, optimizer=optimizer, metrics=metrics)\n",
    "score = loaded_model.evaluate(X_test_1, Y_test, verbose=True)\n",
    "print(\"%s: %.2f%%\" % (loaded_model.metrics_names[1], score[1]*100))"
   ]
  },
  {
   "cell_type": "code",
   "execution_count": 45,
   "id": "697352fc",
   "metadata": {},
   "outputs": [
    {
     "name": "stdout",
     "output_type": "stream",
     "text": [
      "5/5 [==============================] - 0s 35ms/step - loss: 0.8892 - accuracy: 0.8333\n",
      "accuracy: 83.33%\n"
     ]
    }
   ],
   "source": [
    "# Evaluate the model on test smaller subset\n",
    "score = loaded_model.evaluate(X_test_1_sub, Y_test_sub, verbose=True)\n",
    "print(\"%s: %.2f%%\" % (loaded_model.metrics_names[1], score[1]*100))"
   ]
  },
  {
   "cell_type": "code",
   "execution_count": 46,
   "id": "1edc620a",
   "metadata": {},
   "outputs": [
    {
     "data": {
      "text/plain": [
       "<matplotlib.legend.Legend at 0x288e6d940>"
      ]
     },
     "execution_count": 46,
     "metadata": {},
     "output_type": "execute_result"
    },
    {
     "data": {
      "image/png": "[encoded data removed]",
      "text/plain": [
       "<Figure size 432x288 with 1 Axes>"
      ]
     },
     "metadata": {
      "image/png": {
       "height": 279,
       "width": 424
      },
      "needs_background": "light"
     },
     "output_type": "display_data"
    }
   ],
   "source": [
    "# Visualize training results (Loss)\n",
    "\n",
    "# Accuracy\n",
    "acc = history.history['accuracy']\n",
    "val_acc = history.history['val_accuracy']\n",
    "\n",
    "# Loss\n",
    "loss = history.history['loss']\n",
    "val_loss = history.history['val_loss']\n",
    "\n",
    "epochs = list(range(len(loss)))\n",
    "\n",
    "#plot\n",
    "figsize=(6,4)\n",
    "fig, axis1 = plt.subplots(figsize=figsize)\n",
    "\n",
    "plot1_lacc = axis1.plot(epochs, acc, 'navy', label='accuracy')\n",
    "plot1_val_lacc = axis1.plot(epochs, val_acc, 'deepskyblue', label=\"Validation Accuracy\")\n",
    "\n",
    "plot1_loss = axis1.plot(epochs, loss, 'red', label='loss')\n",
    "plot1_val_loss = axis1.plot(epochs, val_loss, 'lightsalmon', label=\"Validation Loss\")\n",
    "\n",
    "\n",
    "plots = plot1_loss + plot1_val_loss\n",
    "labs = [l.get_label() for l in plots]\n",
    "\n",
    "axis1.set_xlabel('Epoch')\n",
    "axis1.set_ylabel('Loss/Accuracy')\n",
    "plt.title(\"Model 1 Loss/Accuracy History (Year 1 Images)\")\n",
    "plt.tight_layout()\n",
    "axis1.legend(loc='center right')"
   ]
  },
  {
   "cell_type": "code",
   "execution_count": 51,
   "id": "db0aad34",
   "metadata": {},
   "outputs": [],
   "source": [
    "# Evaluate for test set\n",
    "# predict\n",
    "prob = loaded_model.predict(X_test_1)\n",
    "pred = np.round(prob, 0).astype('int32')"
   ]
  },
  {
   "cell_type": "code",
   "execution_count": 57,
   "id": "12dfb429",
   "metadata": {},
   "outputs": [
    {
     "name": "stdout",
     "output_type": "stream",
     "text": [
      "('              precision    recall  f1-score   support\\n'\n",
      " '\\n'\n",
      " '      Spiral       0.86      0.88      0.87      2863\\n'\n",
      " '  Elliptical       0.80      0.73      0.76      1631\\n'\n",
      " '      Merger       0.78      0.78      0.78      2221\\n'\n",
      " '\\n'\n",
      " '   micro avg       0.82      0.81      0.82      6715\\n'\n",
      " '   macro avg       0.82      0.80      0.81      6715\\n'\n",
      " 'weighted avg       0.82      0.81      0.82      6715\\n'\n",
      " ' samples avg       0.81      0.81      0.81      6715\\n')\n"
     ]
    }
   ],
   "source": [
    "# Classification report\n",
    "from pprint import pprint\n",
    "classification_metrics = classification_report(Y_test, pred, target_names=class_names)\n",
    "pprint(classification_metrics)"
   ]
  },
  {
   "cell_type": "code",
   "execution_count": 59,
   "id": "4be29340",
   "metadata": {},
   "outputs": [],
   "source": [
    "categorical_test_labels = pd.DataFrame(Y_test).idxmax(axis=1)\n",
    "categorical_preds = pd.DataFrame(pred).idxmax(axis=1)\n",
    "confusion_matrix = confusion_matrix(categorical_test_labels, categorical_preds)\n",
    "\n",
    "def plot_confusion_matrix(cm, classes,\n",
    "   normalize=False,\n",
    "   title='Confusion matrix',\n",
    "   cmap=plt.cm.Blues):\n",
    "    plt.imshow(cm, interpolation='nearest', cmap=cmap)\n",
    "    plt.title(title)\n",
    "    plt.colorbar()\n",
    "    tick_marks = np.arange(len(classes))\n",
    "    plt.xticks(tick_marks, classes, rotation=45)\n",
    "    plt.yticks(tick_marks, classes)\n",
    " \n",
    "    fmt = '.2f' if normalize else 'd'\n",
    "    thresh = cm.max() / 2.\n",
    "    for i, j in itertools.product(range(cm.shape[0]), range(cm.shape[1])):\n",
    "        plt.text(j, i, format(cm[i, j], fmt), horizontalalignment=\"center\", \n",
    "                 color=\"white\" if cm[i, j] > thresh else \"black\")\n",
    " \n",
    "    plt.tight_layout()\n",
    "    plt.ylabel('True label')\n",
    "    plt.xlabel('Predicted label') "
   ]
  },
  {
   "cell_type": "code",
   "execution_count": 62,
   "id": "f526e9ce",
   "metadata": {},
   "outputs": [
    {
     "data": {
      "image/png": "[encoded data removed]",
      "text/plain": [
       "<Figure size 432x288 with 2 Axes>"
      ]
     },
     "metadata": {
      "image/png": {
       "height": 293,
       "width": 346
      },
      "needs_background": "light"
     },
     "output_type": "display_data"
    }
   ],
   "source": [
    "import itertools\n",
    "plot_confusion_matrix(confusion_matrix, class_names)"
   ]
  },
  {
   "cell_type": "code",
   "execution_count": 74,
   "id": "22e543f9",
   "metadata": {},
   "outputs": [
    {
     "name": "stdout",
     "output_type": "stream",
     "text": [
      "Accuracy: 0.811914\n",
      "Precision (samples): 0.811914\n",
      "Recall (samples): 0.811914\n",
      "F1 score (samples): 0.811914\n",
      "Precision (micro): 0.821951\n",
      "Recall (micro): 0.811914\n",
      "F1 score (micro): 0.816901\n",
      "Precision (weighted): 0.821131\n",
      "Recall (weighted): 0.811914\n",
      "F1 score (weighted): 0.816085\n"
     ]
    }
   ],
   "source": [
    "labels = [0, 1, 2]\n",
    "# accuracy: (tp + tn) / (p + n)\n",
    "accuracy = accuracy_score(Y_test, pred)\n",
    "print('Accuracy: %f' % accuracy)\n",
    "\n",
    "# precision tp / (tp + fp)\n",
    "precision = precision_score(Y_test, pred, labels=labels, average='samples')\n",
    "print('Precision (samples): %f' % precision)\n",
    "\n",
    "# recall: tp / (tp + fn)\n",
    "recall = recall_score(Y_test, pred, labels=labels, average='samples')\n",
    "print('Recall (samples): %f' % recall)\n",
    "\n",
    "# f1: 2 tp / (2 tp + fp + fn)\n",
    "f1 = f1_score(Y_test, pred, labels=labels, average='samples')\n",
    "print('F1 score (samples): %f' % f1)\n",
    "\n",
    "# precision tp / (tp + fp)\n",
    "precision = precision_score(Y_test, pred, labels=labels, average='micro')\n",
    "print('Precision (micro): %f' % precision)\n",
    "\n",
    "# recall: tp / (tp + fn)\n",
    "recall = recall_score(Y_test, pred, labels=labels, average='micro')\n",
    "print('Recall (micro): %f' % recall)\n",
    "\n",
    "# f1: 2 tp / (2 tp + fp + fn)\n",
    "f1 = f1_score(Y_test, pred, labels=labels, average='micro')\n",
    "print('F1 score (micro): %f' % f1)\n",
    "\n",
    "# precision tp / (tp + fp)\n",
    "precision = precision_score(Y_test, pred, labels=labels, average='weighted')\n",
    "print('Precision (weighted): %f' % precision)\n",
    "\n",
    "# recall: tp / (tp + fn)\n",
    "recall = recall_score(Y_test, pred, labels=labels, average='weighted')\n",
    "print('Recall (weighted): %f' % recall)\n",
    "\n",
    "# f1: 2 tp / (2 tp + fp + fn)\n",
    "f1 = f1_score(Y_test, pred, labels=labels, average='weighted')\n",
    "print('F1 score (weighted): %f' % f1)"
   ]
  },
  {
   "cell_type": "markdown",
   "id": "0e828e1d",
   "metadata": {},
   "source": [
    "### Model 2"
   ]
  },
  {
   "cell_type": "code",
   "execution_count": 17,
   "id": "855ef6bf",
   "metadata": {},
   "outputs": [],
   "source": [
    "NUM_EPOCH = 100\n",
    "batch_size = 16"
   ]
  },
  {
   "cell_type": "code",
   "execution_count": 18,
   "id": "6149b378",
   "metadata": {},
   "outputs": [
    {
     "name": "stdout",
     "output_type": "stream",
     "text": [
      "Metal device set to: Apple M1\n"
     ]
    },
    {
     "name": "stderr",
     "output_type": "stream",
     "text": [
      "2022-05-09 14:01:42.438041: I tensorflow/core/common_runtime/pluggable_device/pluggable_device_factory.cc:305] Could not identify NUMA node of platform GPU ID 0, defaulting to 0. Your kernel may not have been built with NUMA support.\n",
      "2022-05-09 14:01:42.439585: I tensorflow/core/common_runtime/pluggable_device/pluggable_device_factory.cc:271] Created TensorFlow device (/job:localhost/replica:0/task:0/device:GPU:0 with 0 MB memory) -> physical PluggableDevice (device: 0, name: METAL, pci bus id: <undefined>)\n"
     ]
    }
   ],
   "source": [
    "# Try 2:\n",
    "# Increased the number of Conv2D layers\n",
    "# Increased number of filters to try and learn more features\n",
    "# Added more Dense layers\n",
    "# Decrease batch size to 32\n",
    "\n",
    "data_shape = np.shape(X_1_data)\n",
    "input_shape = (3, 100, 100)\n",
    "\n",
    "# Constraints for layer 1\n",
    "x = Input(shape=input_shape)\n",
    "c0 = Conv2D(64, (5, 5), activation='relu', strides=(1, 1), padding='same', data_format='channels_first', name='conv_1')(x)\n",
    "b0 = BatchNormalization()(c0)\n",
    "d0 = MaxPooling2D(pool_size=(2, 2), strides=None, padding='valid', data_format='channels_first', name='maxpool_1')(b0)\n",
    "e0 = Dropout(0.5)(d0)\n",
    "\n",
    "# Constraints for layer 2\n",
    "c1 = Conv2D(128, (3, 3), activation='relu', strides=(1, 1), padding='same', data_format='channels_first', name='conv_2')(e0)\n",
    "b1 = BatchNormalization()(c1)\n",
    "d1 = MaxPooling2D(pool_size=(2, 2), strides=None, padding='valid', data_format='channels_first', name='maxpool_2')(b1)\n",
    "e1 = Dropout(0.5)(d1)\n",
    "\n",
    "# Constraints for layer 3\n",
    "c2 = Conv2D(256, (3, 3), activation='relu', strides=(1, 1), padding='same', data_format='channels_first', name='conv_3')(e1)\n",
    "b2 = BatchNormalization()(c2)\n",
    "d2 = MaxPooling2D(pool_size=(2, 2), strides=None, padding='valid', data_format='channels_first', name='maxpool_3')(b2)\n",
    "e2 = Dropout(0.5)(d2)\n",
    "\n",
    "# Constraints for layer 4\n",
    "c3 = Conv2D(512, (3, 3), activation='relu', strides=(1, 1), padding='same', data_format='channels_first', name='conv_4')(e2)\n",
    "b3 = BatchNormalization()(c3)\n",
    "d3 = MaxPooling2D(pool_size=(2, 2), strides=None, padding='valid', data_format='channels_first', name='maxpool_4')(b3)\n",
    "e3 = Dropout(0.5)(d3)\n",
    "\n",
    "# Constraints for layer 5\n",
    "c4 = Conv2D(512, (3, 3), activation='relu', strides=(1, 1), padding='same', data_format='channels_first', name='conv_5')(e3)\n",
    "b4 = BatchNormalization()(c4)\n",
    "d4 = MaxPooling2D(pool_size=(2, 2), strides=None, padding='valid', data_format='channels_first', name='maxpool_5')(b4)\n",
    "e4 = Dropout(0.5)(d4)\n",
    "\n",
    "# flatten (or unroll) the 3D output to 1D\n",
    "f = Flatten()(e4)\n",
    "\n",
    "# hidden layer\n",
    "z0 = Dense(512, activation='relu', kernel_regularizer=l2(0.0001), name='dense_1')(f)\n",
    "z1 = Dense(256, activation='relu', kernel_regularizer=l2(0.0001), name='dense_2')(z0)\n",
    "z2 = Dense(128, activation='relu', kernel_regularizer=l2(0.0001), name='dense_3')(z1)\n",
    "z3 = Dense(64, activation='relu', kernel_regularizer=l2(0.0001), name='dense_4')(z2)\n",
    "z4 = Dense(32, activation='relu', kernel_regularizer=l2(0.0001), name='dense_5')(z3)\n",
    "z5 = Dense(16, activation='relu', kernel_regularizer=l2(0.0001), name='dense_6')(z4)\n",
    "z6 = Dense(8, activation='relu', kernel_regularizer=l2(0.0001), name='dense_7')(z5)\n",
    "y = Dense(NUM_CLASSES, activation='softmax', name='output')(z6)\n",
    "\n",
    "model2 = Model(inputs=x, outputs=y)"
   ]
  },
  {
   "cell_type": "code",
   "execution_count": 19,
   "id": "9d07ef41",
   "metadata": {},
   "outputs": [
    {
     "name": "stdout",
     "output_type": "stream",
     "text": [
      "Model: \"model\"\n",
      "_________________________________________________________________\n",
      " Layer (type)                Output Shape              Param #   \n",
      "=================================================================\n",
      " input_1 (InputLayer)        [(None, 3, 100, 100)]     0         \n",
      "                                                                 \n",
      " conv_1 (Conv2D)             (None, 64, 100, 100)      4864      \n",
      "                                                                 \n",
      " batch_normalization (BatchN  (None, 64, 100, 100)     400       \n",
      " ormalization)                                                   \n",
      "                                                                 \n",
      " maxpool_1 (MaxPooling2D)    (None, 64, 50, 50)        0         \n",
      "                                                                 \n",
      " dropout (Dropout)           (None, 64, 50, 50)        0         \n",
      "                                                                 \n",
      " conv_2 (Conv2D)             (None, 128, 50, 50)       73856     \n",
      "                                                                 \n",
      " batch_normalization_1 (Batc  (None, 128, 50, 50)      200       \n",
      " hNormalization)                                                 \n",
      "                                                                 \n",
      " maxpool_2 (MaxPooling2D)    (None, 128, 25, 25)       0         \n",
      "                                                                 \n",
      " dropout_1 (Dropout)         (None, 128, 25, 25)       0         \n",
      "                                                                 \n",
      " conv_3 (Conv2D)             (None, 256, 25, 25)       295168    \n",
      "                                                                 \n",
      " batch_normalization_2 (Batc  (None, 256, 25, 25)      100       \n",
      " hNormalization)                                                 \n",
      "                                                                 \n",
      " maxpool_3 (MaxPooling2D)    (None, 256, 12, 12)       0         \n",
      "                                                                 \n",
      " dropout_2 (Dropout)         (None, 256, 12, 12)       0         \n",
      "                                                                 \n",
      " conv_4 (Conv2D)             (None, 512, 12, 12)       1180160   \n",
      "                                                                 \n",
      " batch_normalization_3 (Batc  (None, 512, 12, 12)      48        \n",
      " hNormalization)                                                 \n",
      "                                                                 \n",
      " maxpool_4 (MaxPooling2D)    (None, 512, 6, 6)         0         \n",
      "                                                                 \n",
      " dropout_3 (Dropout)         (None, 512, 6, 6)         0         \n",
      "                                                                 \n",
      " conv_5 (Conv2D)             (None, 512, 6, 6)         2359808   \n",
      "                                                                 \n",
      " batch_normalization_4 (Batc  (None, 512, 6, 6)        24        \n",
      " hNormalization)                                                 \n",
      "                                                                 \n",
      " maxpool_5 (MaxPooling2D)    (None, 512, 3, 3)         0         \n",
      "                                                                 \n",
      " dropout_4 (Dropout)         (None, 512, 3, 3)         0         \n",
      "                                                                 \n",
      " flatten (Flatten)           (None, 4608)              0         \n",
      "                                                                 \n",
      " dense_1 (Dense)             (None, 512)               2359808   \n",
      "                                                                 \n",
      " dense_2 (Dense)             (None, 256)               131328    \n",
      "                                                                 \n",
      " dense_3 (Dense)             (None, 128)               32896     \n",
      "                                                                 \n",
      " dense_4 (Dense)             (None, 64)                8256      \n",
      "                                                                 \n",
      " dense_5 (Dense)             (None, 32)                2080      \n",
      "                                                                 \n",
      " dense_6 (Dense)             (None, 16)                528       \n",
      "                                                                 \n",
      " dense_7 (Dense)             (None, 8)                 136       \n",
      "                                                                 \n",
      " output (Dense)              (None, 3)                 27        \n",
      "                                                                 \n",
      "=================================================================\n",
      "Total params: 6,449,687\n",
      "Trainable params: 6,449,301\n",
      "Non-trainable params: 386\n",
      "_________________________________________________________________\n"
     ]
    }
   ],
   "source": [
    "# Compile Model\n",
    "optimizer = 'adam'\n",
    "metrics = ['accuracy']\n",
    "loss = 'categorical_crossentropy' \n",
    "model2.compile(loss=loss, optimizer=optimizer, metrics=metrics)\n",
    "model2.summary()"
   ]
  },
  {
   "cell_type": "code",
   "execution_count": 20,
   "id": "e8b0e65a",
   "metadata": {},
   "outputs": [],
   "source": [
    "es = [EarlyStopping(monitor='val_loss', mode='min', verbose=1, patience=50),\n",
    "# Save best weights in order to maximize validation accuracy, only saves when the model is considered the \"best\"\n",
    "     ModelCheckpoint(filepath=base_dir + \"best_weights.h5\", monitor='val_acc', mode='max', verbose=1, save_best_only=True)] "
   ]
  },
  {
   "cell_type": "code",
   "execution_count": null,
   "id": "9a074d1d",
   "metadata": {},
   "outputs": [
    {
     "name": "stdout",
     "output_type": "stream",
     "text": [
      "Epoch 1/100\n"
     ]
    },
    {
     "name": "stderr",
     "output_type": "stream",
     "text": [
      "2022-05-09 14:18:01.648301: I tensorflow/core/grappler/optimizers/custom_graph_optimizer_registry.cc:113] Plugin optimizer for device_type GPU is enabled.\n"
     ]
    },
    {
     "name": "stdout",
     "output_type": "stream",
     "text": [
      "1468/1468 [==============================] - ETA: 0s - loss: 1.1130 - accuracy: 0.5029WARNING:tensorflow:Can save best model only with val_acc available, skipping.\n",
      "1468/1468 [==============================] - 297s 201ms/step - loss: 1.1130 - accuracy: 0.5029 - val_loss: 1.0248 - val_accuracy: 0.5437\n",
      "Epoch 2/100\n",
      "1468/1468 [==============================] - ETA: 0s - loss: 0.9870 - accuracy: 0.5426WARNING:tensorflow:Can save best model only with val_acc available, skipping.\n",
      "1468/1468 [==============================] - 292s 199ms/step - loss: 0.9870 - accuracy: 0.5426 - val_loss: 0.9596 - val_accuracy: 0.5756\n",
      "Epoch 3/100\n",
      "1468/1468 [==============================] - ETA: 0s - loss: 0.9177 - accuracy: 0.5724WARNING:tensorflow:Can save best model only with val_acc available, skipping.\n",
      "1468/1468 [==============================] - 295s 201ms/step - loss: 0.9177 - accuracy: 0.5724 - val_loss: 0.8916 - val_accuracy: 0.5860\n",
      "Epoch 4/100\n",
      "1468/1468 [==============================] - ETA: 0s - loss: 0.8808 - accuracy: 0.5903WARNING:tensorflow:Can save best model only with val_acc available, skipping.\n",
      "1468/1468 [==============================] - 297s 202ms/step - loss: 0.8808 - accuracy: 0.5903 - val_loss: 0.8768 - val_accuracy: 0.6003\n",
      "Epoch 5/100\n",
      " 598/1468 [===========>..................] - ETA: 2:50 - loss: 0.8524 - accuracy: 0.6057"
     ]
    }
   ],
   "source": [
    "# Train Model\n",
    "\n",
    "history = model2.fit(\n",
    "                    X_train_1, Y_train,\n",
    "                    batch_size=batch_size,\n",
    "                    epochs=NUM_EPOCH,\n",
    "                    validation_data=(X_valid_1, Y_valid),                \n",
    "                    shuffle=shuffle,\n",
    "                    verbose=True,\n",
    "                    callbacks=es\n",
    "            )"
   ]
  },
  {
   "cell_type": "code",
   "execution_count": null,
   "id": "1c2133cf",
   "metadata": {},
   "outputs": [],
   "source": [
    "# Evaluate the model on test data\n",
    "score = model2.evaluate(X_test_1, Y_test, verbose=True)\n",
    "print(\"%s: %.2f%%\" % (model2.metrics_names[1], score[1]*100))"
   ]
  },
  {
   "cell_type": "code",
   "execution_count": null,
   "id": "9e50a7c8",
   "metadata": {},
   "outputs": [],
   "source": [
    "# Evaluate the model on test smaller subset\n",
    "score = model2.evaluate(X_test_1_sub, Y_test_sub, verbose=True)\n",
    "print(\"%s: %.2f%%\" % (model2.metrics_names[1], score[1]*100))"
   ]
  },
  {
   "cell_type": "code",
   "execution_count": null,
   "id": "26b7d83b",
   "metadata": {},
   "outputs": [],
   "source": [
    "# Evaluate for test set\n",
    "# predict\n",
    "prob = loaded_model.predict(X_test_1)\n",
    "pred = np.round(prob, 0).astype('int32')"
   ]
  },
  {
   "cell_type": "code",
   "execution_count": null,
   "id": "26a59729",
   "metadata": {},
   "outputs": [],
   "source": [
    "labels = [0, 1, 2]\n",
    "# accuracy: (tp + tn) / (p + n)\n",
    "accuracy = accuracy_score(Y_test, pred)\n",
    "print('Accuracy: %f' % accuracy)\n",
    "\n",
    "# precision tp / (tp + fp)\n",
    "precision = precision_score(Y_test, pred, labels=labels, average='samples')\n",
    "print('Precision (samples): %f' % precision)\n",
    "\n",
    "# recall: tp / (tp + fn)\n",
    "recall = recall_score(Y_test, pred, labels=labels, average='samples')\n",
    "print('Recall (samples): %f' % recall)\n",
    "\n",
    "# f1: 2 tp / (2 tp + fp + fn)\n",
    "f1 = f1_score(Y_test, pred, labels=labels, average='samples')\n",
    "print('F1 score (samples): %f' % f1)\n",
    "\n",
    "# precision tp / (tp + fp)\n",
    "precision = precision_score(Y_test, pred, labels=labels, average='micro')\n",
    "print('Precision (micro): %f' % precision)\n",
    "\n",
    "# recall: tp / (tp + fn)\n",
    "recall = recall_score(Y_test, pred, labels=labels, average='micro')\n",
    "print('Recall (micro): %f' % recall)\n",
    "\n",
    "# f1: 2 tp / (2 tp + fp + fn)\n",
    "f1 = f1_score(Y_test, pred, labels=labels, average='micro')\n",
    "print('F1 score (micro): %f' % f1)\n",
    "\n",
    "# precision tp / (tp + fp)\n",
    "precision = precision_score(Y_test, pred, labels=labels, average='weighted')\n",
    "print('Precision (weighted): %f' % precision)\n",
    "\n",
    "# recall: tp / (tp + fn)\n",
    "recall = recall_score(Y_test, pred, labels=labels, average='weighted')\n",
    "print('Recall (weighted): %f' % recall)\n",
    "\n",
    "# f1: 2 tp / (2 tp + fp + fn)\n",
    "f1 = f1_score(Y_test, pred, labels=labels, average='weighted')\n",
    "print('F1 score (weighted): %f' % f1)"
   ]
  },
  {
   "cell_type": "code",
   "execution_count": null,
   "id": "98a427ec",
   "metadata": {},
   "outputs": [],
   "source": [
    "# # Save model 2 data if improved accuracy\n",
    "# model2.save_weights(f_weights, overwrite=True)\n",
    "# open(f_model, 'w').write(model2.to_json())\n",
    "\n",
    "# #Saving history for future use\n",
    "# with open(f_history, 'w') as f:\n",
    "#     json.dump(history.history, f)"
   ]
  },
  {
   "cell_type": "code",
   "execution_count": null,
   "id": "102e794f",
   "metadata": {},
   "outputs": [],
   "source": [
    "# #loading history\n",
    "# path = base_dir + 'model/history.json'\n",
    "# if os.path.exists(path): # reload history if it exists\n",
    "#         with codecs.open(path, 'r', encoding='utf-8') as f:\n",
    "#              n = json.loads(f.read())\n",
    "                \n",
    "# #loading model\n",
    "# json_file = open(f_model, 'r')\n",
    "# loaded_model_json = json_file.read()\n",
    "# json_file.close()\n",
    "# loaded_model = model_from_json(loaded_model_json)\n",
    "\n",
    "\n",
    "# # load best weights into new model\n",
    "# loaded_model.load_weights(f_best_weights)\n",
    "# print(\"Loaded model from disk\")"
   ]
  },
  {
   "cell_type": "markdown",
   "id": "3b0cf2fb",
   "metadata": {},
   "source": [
    "### Try VGG16"
   ]
  },
  {
   "cell_type": "code",
   "execution_count": null,
   "id": "993a8077",
   "metadata": {},
   "outputs": [],
   "source": [
    "vgg_model = VGG16(include_top=True, weights='imagenet')\n",
    "vgg_model.summary()"
   ]
  },
  {
   "cell_type": "code",
   "execution_count": null,
   "id": "480e77bd",
   "metadata": {},
   "outputs": [],
   "source": [
    "es = [EarlyStopping(monitor='val_loss', mode='min', verbose=1, patience=50),\n",
    "# Save best weights in order to maximize validation accuracy, only saves when the model is considered the \"best\"\n",
    "     ModelCheckpoint(filepath=base_dir + \"best_weights.h5\", monitor='val_acc', mode='max', verbose=1, save_best_only=True)] "
   ]
  },
  {
   "cell_type": "code",
   "execution_count": null,
   "id": "197e4b29",
   "metadata": {},
   "outputs": [],
   "source": [
    "# Train VGG Model\n",
    "history = vgg_model.fit(\n",
    "                    X_train_1, Y_train,\n",
    "                    batch_size=32,\n",
    "                    epochs=100,\n",
    "                    validation_data=(X_valid_1, Y_valid),                \n",
    "                    shuffle=shuffle,\n",
    "                    verbose=True,\n",
    "                    callbacks=es\n",
    "            )"
   ]
  },
  {
   "cell_type": "code",
   "execution_count": null,
   "id": "ae78fa93",
   "metadata": {},
   "outputs": [],
   "source": [
    "# Evaluate the model on test data\n",
    "score = vgg_model.evaluate(X_test_1, Y_test, verbose=True)\n",
    "print(\"%s: %.2f%%\" % (vgg_model.metrics_names[1], score[1]*100))"
   ]
  },
  {
   "cell_type": "code",
   "execution_count": null,
   "id": "57cdbd0c",
   "metadata": {},
   "outputs": [],
   "source": [
    "# Evaluate the model on test smaller subset\n",
    "score = vgg_model.evaluate(X_test_1_sub, Y_test_sub, verbose=True)\n",
    "print(\"%s: %.2f%%\" % (vgg_model.metrics_names[1], score[1]*100))"
   ]
  },
  {
   "cell_type": "markdown",
   "id": "6532be68",
   "metadata": {},
   "source": [
    "## Visualizing Feature/Activation Maps"
   ]
  },
  {
   "cell_type": "code",
   "execution_count": null,
   "id": "4b8333b8",
   "metadata": {},
   "outputs": [],
   "source": []
  },
  {
   "cell_type": "markdown",
   "id": "26d567d0",
   "metadata": {},
   "source": [
    "#### Visualize for VGG Model"
   ]
  },
  {
   "cell_type": "code",
   "execution_count": null,
   "id": "cdd985e5",
   "metadata": {},
   "outputs": [],
   "source": [
    "img_tensor = X_train_1\n",
    "img_tensor /= 255.\n",
    "print(img_tensor.shape)\n",
    "\n",
    "plt.imshow(img_tensor[0])\n",
    "plt.axis('off')\n",
    "plt.show()"
   ]
  },
  {
   "cell_type": "code",
   "execution_count": null,
   "id": "ff7082b3",
   "metadata": {},
   "outputs": [],
   "source": [
    "# Extracts the outputs of the top 8 layers:\n",
    "layer_outputs = [layer.output for layer in vgg.layers if 'conv1' in layer.name]\n",
    "activation_model = Model(inputs=vgg.input, outputs=layer_outputs)\n",
    "intermediate_activations = activation_model.predict(img_tensor)\n",
    "\n",
    "first_layer_activation = intermediate_activations[0]\n",
    "\n",
    "plt.imshow(first_layer_activation[0, :, :, 19], cmap='viridis')\n",
    "plt.axis('off')\n",
    "plt.show()"
   ]
  },
  {
   "cell_type": "code",
   "execution_count": null,
   "id": "ceec4544",
   "metadata": {},
   "outputs": [],
   "source": [
    "layer_names = ['block1_conv1', 'block2_conv1', 'block3_conv1', 'block4_conv1', 'block5_conv1']\n",
    "\n",
    "layer_outputs = [layer.output for layer in vgg.layers if layer.name in layer_names]\n",
    "activation_model = Model(inputs=vgg.input, outputs=layer_outputs)\n",
    "intermediate_activations = activation_model.predict(img_tensor)\n",
    "\n",
    "images_per_row = 8\n",
    "max_images = 8\n",
    "# Now let's display our feature maps\n",
    "for layer_name, layer_activation in zip(layer_names, intermediate_activations):\n",
    "    # This is the number of features in the feature map\n",
    "    n_features = layer_activation.shape[-1]\n",
    "    n_features = min(n_features, max_images)\n",
    "\n",
    "    # The feature map has shape (1, size, size, n_features)\n",
    "    size = layer_activation.shape[1]\n",
    "\n",
    "    # We will tile the activation channels in this matrix\n",
    "    n_cols = n_features // images_per_row\n",
    "    display_grid = np.zeros((size * n_cols, images_per_row * size))\n",
    "\n",
    "    # We'll tile each filter into this big horizontal grid\n",
    "    for col in range(n_cols):\n",
    "        for row in range(images_per_row):\n",
    "            channel_image = layer_activation[0,\n",
    "                                             :, :,\n",
    "                                             col * images_per_row + row]\n",
    "            # Post-process the feature to make it visually palatable\n",
    "            channel_image -= channel_image.mean()\n",
    "            channel_image /= channel_image.std()\n",
    "            channel_image *= 64\n",
    "            channel_image += 128\n",
    "            channel_image = np.clip(channel_image, 0, 255).astype('uint8')\n",
    "            display_grid[col * size : (col + 1) * size,\n",
    "                         row * size : (row + 1) * size] = channel_image\n",
    "\n",
    "    # Display the grid\n",
    "    scale = 2. / size\n",
    "    plt.figure(figsize=(scale * display_grid.shape[1],\n",
    "                        scale * display_grid.shape[0]))\n",
    "    plt.axis('off')\n",
    "    plt.title(layer_name)\n",
    "    plt.grid(False)\n",
    "    plt.imshow(display_grid, aspect='auto', cmap='viridis')\n",
    "    \n",
    "plt.show()"
   ]
  },
  {
   "cell_type": "markdown",
   "id": "e7b9563e",
   "metadata": {},
   "source": [
    "#### Visualize for Model 2"
   ]
  },
  {
   "cell_type": "code",
   "execution_count": null,
   "id": "5c01894e",
   "metadata": {},
   "outputs": [],
   "source": [
    "# Extracts the outputs of all layers except the input layer\n",
    "layer_outputs = [layer.output for layer in model2.layers[1:]] \n",
    "# Creates a model that will return these outputs, given the model input\n",
    "activation_model = models.Model(inputs=model2.input, outputs=layer_outputs) \n",
    "\n",
    "# returns the values of the layer activations in original model\n",
    "# Returns a list of Numpy arrays: one array per layer activation\n",
    "activations = activation_model.predict(X_test_1) "
   ]
  },
  {
   "cell_type": "code",
   "execution_count": null,
   "id": "b529ed15",
   "metadata": {},
   "outputs": [],
   "source": [
    "# activation maps for all 8 filters in the first convolutional layer\n",
    "fig1=plt.figure(figsize=(10,1.5))  \n",
    "for i in range(8):\n",
    "    plt.subplot(1, 8, i + 1)\n",
    "    layer_activation = activations[0]\n",
    "    plt.imshow(layer_activation[1649, i, :, :], cmap='viridis', aspect='auto')\n",
    "    plt.axis(\"off\")\n",
    "    plt.subplots_adjust(hspace=0, wspace=0)\n",
    "\n",
    "# activation maps for all 16 filters in the second convolutional layer    \n",
    "fig2=plt.figure(figsize=(10,3))  \n",
    "for i in range(16):\n",
    "    plt.subplot(2, 8, i + 1)\n",
    "    layer_activation = activations[4]\n",
    "    plt.imshow(layer_activation[1649, i, :, :], cmap='viridis', aspect='auto')\n",
    "    plt.axis(\"off\")\n",
    "    plt.subplots_adjust(hspace=0, wspace=0)\n",
    "    \n",
    "# activation maps for all 32 filters in the third convolutional layer\n",
    "fig3=plt.figure(figsize=(10,6))  \n",
    "for i in range(32):\n",
    "    plt.subplot(4, 8, i + 1)\n",
    "    layer_activation = activations[8]\n",
    "    plt.imshow(layer_activation[1649, i, :, :], cmap='viridis', aspect='auto')\n",
    "    plt.axis(\"off\")\n",
    "    plt.subplots_adjust(hspace=0, wspace=0)"
   ]
  },
  {
   "cell_type": "markdown",
   "id": "2f0648c2",
   "metadata": {},
   "source": [
    "## Dense Layer Visualization"
   ]
  },
  {
   "cell_type": "code",
   "execution_count": null,
   "id": "3f5542d8",
   "metadata": {},
   "outputs": [],
   "source": [
    "#Utility to search for layer index by name. \n",
    "# Alternatively we can specify this as -1 since it corresponds to the last layer.\n",
    "layer_idx = utils.find_layer_idx(model, 'predictions')\n",
    "\n",
    "# Swap softmax with linear\n",
    "model.layers[layer_idx].activation = activations.linear\n",
    "model = utils.apply_modifications(model)"
   ]
  },
  {
   "cell_type": "markdown",
   "id": "ca8ba588",
   "metadata": {},
   "source": [
    "## Visualizing Example images"
   ]
  },
  {
   "cell_type": "code",
   "execution_count": null,
   "id": "e7493ce1",
   "metadata": {},
   "outputs": [],
   "source": [
    "# Example Images\n",
    "\n",
    "for i in range(len(Y_test)):\n",
    "    if (Y_test[i] == 1 and pred[i,0] == 1): # and other Y_test vs pred combinations TP=(1,1), FP=(0,1), TN=(0,0), FN=(1,0)\n",
    "        print (i)\n",
    "        print(Y_test[i],pred[i])\n",
    "        "
   ]
  },
  {
   "cell_type": "code",
   "execution_count": null,
   "id": "f11ba988",
   "metadata": {},
   "outputs": [],
   "source": [
    "#print output probabilities for the chosen TP, FP, TN, FN examples\n",
    "\n",
    "print(prob[84],prob[1370],prob[2031],prob[3003]) # TP examples\n",
    "print(prob[560],prob[1228],prob[2878],prob[3026]) # FP examples\n",
    "print(prob[564],prob[1056],prob[2083],prob[3063]) # TN examples\n",
    "print(prob[465],prob[1546],prob[2241],prob[3037]) # FN examples"
   ]
  },
  {
   "cell_type": "code",
   "execution_count": null,
   "id": "e04fef89",
   "metadata": {},
   "outputs": [],
   "source": [
    "# plot examples\n",
    "tp1 = X_test_1[84,1]\n",
    "tp2 = X_test_1[1370,1]\n",
    "tp3 = X_test_1[2031,1]\n",
    "tp4 = X_test_1[3003,1]\n",
    "\n",
    "fp1 = X_test_1[560,1]\n",
    "fp2 = X_test_1[1228,1]\n",
    "fp3 = X_test_1[2878,1]\n",
    "fp4 = X_test_1[3026,1]\n",
    "\n",
    "tn1 = X_test_1[564,1]\n",
    "tn2 = X_test_1[1056,1]\n",
    "tn3 = X_test_1[2083,1]\n",
    "tn4 = X_test_1[3063,1]\n",
    "\n",
    "fn1 = X_test_1[465,1]\n",
    "fn2 = X_test_1[1546,1]\n",
    "fn3 = X_test_1[2241,1]\n",
    "fn4 = X_test_1[3037,1]\n",
    "\n",
    "examples = [tp1, tp2, tp3, tp4, fp1, fp2, fp3, fp4, tn1, tn2, tn3, tn4, fn1, fn2, fn3, fn4]\n",
    "\n",
    "fig1=plt.figure(figsize=(8,8))\n",
    "\n",
    "for i, image in enumerate(examples):\n",
    "    fig1.suptitle('From top row to bottom: TP, FP, TN, FN', fontsize=20)\n",
    "    plt.subplot(4, 4, i + 1)\n",
    "    plt.axis(\"off\")\n",
    "    plt.imshow(image, aspect='auto', cmap='viridis')\n",
    "plt.subplots_adjust(hspace=0, wspace=0)\n",
    "plt.show()"
   ]
  },
  {
   "cell_type": "markdown",
   "id": "8340dbd9",
   "metadata": {},
   "source": [
    "### Data Augmentation ?"
   ]
  },
  {
   "cell_type": "code",
   "execution_count": null,
   "id": "18850785",
   "metadata": {},
   "outputs": [],
   "source": [
    "# validation data should not be augmented!\n",
    "# data_augmentation = tf.keras.Sequential([\n",
    "#   tf.keras.layers.RandomFlip('horizontal'),\n",
    "#   tf.keras.layers.RandomRotation(0.2),\n",
    "# ])"
   ]
  },
  {
   "cell_type": "markdown",
   "id": "8464b29b",
   "metadata": {},
   "source": [
    "### Fine Tuning - Transfer Learning on year 10 data"
   ]
  },
  {
   "cell_type": "code",
   "execution_count": null,
   "id": "eb995596",
   "metadata": {},
   "outputs": [],
   "source": [
    "# Evaluate the model on year 10 test data\n",
    "score = model2.evaluate(X_test_10, Y_test, verbose=True)\n",
    "print(\"%s: %.2f%%\" % (model2.metrics_names[1], score[1]*100))"
   ]
  },
  {
   "cell_type": "code",
   "execution_count": null,
   "id": "0a20ef3e",
   "metadata": {},
   "outputs": [],
   "source": [
    "import tensorflow_hub as hub\n",
    "\n",
    "print(\"Building model with\", model2)\n",
    "data_shape = np.shape(X_10_data)\n",
    "input_shape = (3, 100, 100)\n",
    "\n",
    "x = Input(shape=input_shape)\n",
    "c0 = hub.KerasLayer(model2, trainable=False)(x)  # use pre-define weights, not random\n",
    "b0 = Dropout(0.5)(c0)\n",
    "y = Dense(3, activation='relu', kernel_regularizer=l2(0.0001))(b0)\n",
    "\n",
    "model = Model(inputs=x, outputs=y)\n",
    "model.compile(loss=loss, optimizer=optimizer, metrics=metrics)\n",
    "model.summary()"
   ]
  },
  {
   "cell_type": "code",
   "execution_count": null,
   "id": "e63011f1",
   "metadata": {},
   "outputs": [],
   "source": [
    "# Train Model with year 1 data on year 10 data\n",
    "\n",
    "history = model.fit(\n",
    "                    X_train_1, Y_train,\n",
    "                    batch_size=batch_size,\n",
    "                    epochs=NUM_EPOCH,\n",
    "                    validation_data=(X_valid_1, Y_valid),                \n",
    "                    shuffle=shuffle,\n",
    "                    verbose=True,\n",
    "                    callbacks=es\n",
    "            )"
   ]
  },
  {
   "cell_type": "markdown",
   "id": "84c726e8",
   "metadata": {},
   "source": [
    "# Probabilistic CNN model\n",
    "Add probabilistic layer to end of model"
   ]
  },
  {
   "cell_type": "code",
   "execution_count": null,
   "id": "1c43810d",
   "metadata": {},
   "outputs": [],
   "source": [
    "from tensorflow_probability.layers import OneHotCategorical"
   ]
  },
  {
   "cell_type": "code",
   "execution_count": null,
   "id": "84f89251",
   "metadata": {},
   "outputs": [],
   "source": [
    "# define probabalistic model architecture\n",
    "data_shape = np.shape(X_1_data)\n",
    "input_shape = (3, 100, 100)\n",
    "\n",
    "# Constraints for layer 1\n",
    "x = Input(shape=input_shape)\n",
    "c0 = Conv2D(64, (5, 5), activation='relu', strides=(1, 1), padding='same', data_format='channels_first', name='conv_1')(x)\n",
    "b0 = BatchNormalization()(c0)\n",
    "d0 = MaxPooling2D(pool_size=(2, 2), strides=None, padding='valid', data_format='channels_first', name='maxpool_1')(b0)\n",
    "e0 = Dropout(0.5)(d0)\n",
    "\n",
    "# Constraints for layer 2\n",
    "c1 = Conv2D(128, (3, 3), activation='relu', strides=(1, 1), padding='same', data_format='channels_first', name='conv_2')(e0)\n",
    "b1 = BatchNormalization()(c1)\n",
    "d1 = MaxPooling2D(pool_size=(2, 2), strides=None, padding='valid', data_format='channels_first', name='maxpool_2')(b1)\n",
    "e1 = Dropout(0.5)(d1)\n",
    "\n",
    "# Constraints for layer 3\n",
    "c2 = Conv2D(256, (3, 3), activation='relu', strides=(1, 1), padding='same', data_format='channels_first', name='conv_3')(e1)\n",
    "b2 = BatchNormalization()(c2)\n",
    "d2 = MaxPooling2D(pool_size=(2, 2), strides=None, padding='valid', data_format='channels_first', name='maxpool_3')(b2)\n",
    "e2 = Dropout(0.5)(d2)\n",
    "\n",
    "# Constraints for layer 4\n",
    "c3 = Conv2D(512, (3, 3), activation='relu', strides=(1, 1), padding='same', data_format='channels_first', name='conv_3')(e2)\n",
    "b3 = BatchNormalization()(c3)\n",
    "d3 = MaxPooling2D(pool_size=(2, 2), strides=None, padding='valid', data_format='channels_first', name='maxpool_3')(b3)\n",
    "e3 = Dropout(0.5)(d3)\n",
    "\n",
    "# Constraints for layer 5\n",
    "c4 = Conv2D(512, (3, 3), activation='relu', strides=(1, 1), padding='same', data_format='channels_first', name='conv_3')(e3)\n",
    "b4 = BatchNormalization()(c4)\n",
    "d4 = MaxPooling2D(pool_size=(2, 2), strides=None, padding='valid', data_format='channels_first', name='maxpool_3')(b4)\n",
    "e4 = Dropout(0.5)(d4)\n",
    "\n",
    "# flatten (or unroll) the 3D output to 1D\n",
    "f = Flatten()(e4)\n",
    "\n",
    "# hidden layer\n",
    "z0 = Dense(512, activation='relu', kernel_regularizer=l2(0.0001), name='dense_1')(f)\n",
    "z1 = Dense(256, activation='relu', kernel_regularizer=l2(0.0001), name='dense_2')(z0)\n",
    "z2 = Dense(128, activation='relu', kernel_regularizer=l2(0.0001), name='dense_3')(z1)\n",
    "z3 = Dense(64, activation='relu', kernel_regularizer=l2(0.0001), name='dense_3')(z2)\n",
    "z4 = Dense(32, activation='relu', kernel_regularizer=l2(0.0001), name='dense_4')(z3)\n",
    "z5 = Dense(16, activation='relu', kernel_regularizer=l2(0.0001), name='dense_3')(z4)\n",
    "z6 = Dense(8, activation='relu', kernel_regularizer=l2(0.0001), name='dense_3')(z5)\n",
    "\n",
    "y = Dense(tfpl.OneHotCategorical.params_size(10)),\n",
    "    tfpl.OneHotCategorical(10, convert_to_tensor_fn=tfd.Distribution.mode)(z6)"
   ]
  },
  {
   "cell_type": "code",
   "execution_count": null,
   "id": "248b52a1",
   "metadata": {},
   "outputs": [],
   "source": [
    "model = Model(inputs=x, outputs=y)\n",
    "model.compile(loss=loss, optimizer=optimizer, metrics=metrics)\n",
    "model.summary()"
   ]
  },
  {
   "cell_type": "code",
   "execution_count": null,
   "id": "fffdab24",
   "metadata": {},
   "outputs": [],
   "source": []
  },
  {
   "cell_type": "code",
   "execution_count": null,
   "id": "78260c16",
   "metadata": {},
   "outputs": [],
   "source": [
    "# Look at probabilistic model predictions: probabilities the model assigns to each \n",
    "# class instead of its single prediction\n",
    "\n",
    "def analyse_model_prediction(data, true_labels, model, image_num, run_ensemble=False):\n",
    "    if run_ensemble:\n",
    "        ensemble_size = 200\n",
    "    else:\n",
    "        ensemble_size = 1\n",
    "    image = data[image_num]\n",
    "    true_label = true_labels[image_num, 0]\n",
    "    predicted_probabilities = np.empty(shape=(ensemble_size, 10))\n",
    "    for i in range(ensemble_size):\n",
    "        predicted_probabilities[i] = model(image[np.newaxis, :]).mean().numpy()[0]\n",
    "    model_prediction = model(image[np.newaxis, :])\n",
    "    fig, (ax1, ax2) = plt.subplots(nrows=1, ncols=2, figsize=(10, 2),\n",
    "                                   gridspec_kw={'width_ratios': [2, 4]})\n",
    "    \n",
    "    # Show the image and the true label\n",
    "    ax1.imshow(image[..., 0], cmap='gray')\n",
    "    ax1.axis('off')\n",
    "    ax1.set_title('True label: {}'.format(str(true_label)))\n",
    "    \n",
    "    # Show a 95% prediction interval of model predicted probabilities\n",
    "    pct_2p5 = np.array([np.percentile(predicted_probabilities[:, i], 2.5) for i in range(10)])\n",
    "    pct_97p5 = np.array([np.percentile(predicted_probabilities[:, i], 97.5) for i in range(10)])    \n",
    "    bar = ax2.bar(np.arange(10), pct_97p5, color='red')\n",
    "    bar[int(true_label)].set_color('green')\n",
    "    ax2.bar(np.arange(10), pct_2p5-0.02, color='white', linewidth=1, edgecolor='white')\n",
    "    ax2.set_xticks(np.arange(10))\n",
    "    ax2.set_ylim([0, 1])\n",
    "    ax2.set_ylabel('Probability')\n",
    "    ax2.set_title('Model estimated probabilities')\n",
    "    plt.show()"
   ]
  },
  {
   "cell_type": "code",
   "execution_count": null,
   "id": "7b4b0f65",
   "metadata": {},
   "outputs": [],
   "source": [
    "analyse_model_prediction(x_test, y_test, probabilistic_model, i)"
   ]
  },
  {
   "cell_type": "markdown",
   "id": "7585163e",
   "metadata": {},
   "source": [
    "### BNN"
   ]
  },
  {
   "cell_type": "code",
   "execution_count": null,
   "id": "0045a6eb",
   "metadata": {},
   "outputs": [],
   "source": [
    "\n",
    "# model = tf.keras.models.Sequential([\n",
    "    \n",
    "#     tfp.layers.Convolution2DFlipout(\n",
    "#         6, kernel_size=5, padding='SAME', \n",
    "#         kernel_divergence_fn=kl_divergence_function, \n",
    "#         activation=tf.nn.relu),\n",
    "    \n",
    "#     tf.keras.layers.MaxPooling2D(\n",
    "#         pool_size=[2, 2], strides=[2, 2],\n",
    "#         padding='SAME'),\n",
    "\n",
    "#     tfp.layers.Convolution2DFlipout(\n",
    "#         16, kernel_size=5, padding='SAME', \n",
    "#         kernel_divergence_fn=kl_divergence_function, \n",
    "#         activation=tf.nn.relu),\n",
    "    \n",
    "#     tf.keras.layers.MaxPooling2D(\n",
    "#         pool_size=[2, 2], strides=[2, 2],\n",
    "#         padding='SAME'),\n",
    "    \n",
    "#     tfp.layers.Convolution2DFlipout(\n",
    "#         120, kernel_size=5, padding='SAME', \n",
    "#         kernel_divergence_fn=kl_divergence_function, \n",
    "#         activation=tf.nn.relu),\n",
    "    \n",
    "#     tf.keras.layers.Flatten(),\n",
    "    \n",
    "#     tfp.layers.DenseFlipout(\n",
    "#         84, kernel_divergence_fn=kl_divergence_function,\n",
    "#         activation=tf.nn.relu),\n",
    "    \n",
    "#     tfp.layers.DenseFlipout(\n",
    "#         NUM_CLASSES, kernel_divergence_fn=kl_divergence_function, \n",
    "#         activation=tf.nn.softmax)\n",
    "# ]\n",
    "# )"
   ]
  },
  {
   "cell_type": "code",
   "execution_count": null,
   "id": "a68026e9",
   "metadata": {},
   "outputs": [],
   "source": [
    "# # model inputs\n",
    "# FEATURE_NAMES = [\n",
    "#     \"Spiral\",\n",
    "#     \"Elliptical\",\n",
    "#     \"Merger\"\n",
    "# ]\n",
    "\n",
    "\n",
    "# def create_model_inputs():\n",
    "#     inputs = {}\n",
    "#     for feature_name in FEATURE_NAMES:\n",
    "#         inputs[feature_name] = layers.Input(\n",
    "#             name=feature_name, shape=(1,), dtype=tf.int64\n",
    "#         )\n",
    "#     return inputs"
   ]
  },
  {
   "cell_type": "code",
   "execution_count": null,
   "id": "6ab51d31",
   "metadata": {},
   "outputs": [],
   "source": [
    "# def run_experiment(model, loss, train_dataset, test_dataset):\n",
    "\n",
    "#     model.compile(\n",
    "#         optimizer=keras.optimizers.RMSprop(learning_rate=learning_rate),\n",
    "#         loss=loss,\n",
    "#         metrics=[keras.metrics.RootMeanSquaredError()],\n",
    "#     )\n",
    "\n",
    "#     print(\"Start training the model...\")\n",
    "#     model.fit(train_dataset, epochs=num_epochs, validation_data=test_dataset)\n",
    "#     print(\"Model training finished.\")\n",
    "#     _, rmse = model.evaluate(train_dataset, verbose=0)\n",
    "#     print(f\"Train RMSE: {round(rmse, 3)}\")\n",
    "\n",
    "#     print(\"Evaluating model performance...\")\n",
    "#     _, rmse = model.evaluate(test_dataset, verbose=0)\n",
    "#     print(f\"Test RMSE: {round(rmse, 3)}\")"
   ]
  },
  {
   "cell_type": "code",
   "execution_count": null,
   "id": "75fd7344",
   "metadata": {},
   "outputs": [],
   "source": []
  }
 ],
 "metadata": {
  "kernelspec": {
   "display_name": "Python (research_env)",
   "language": "python",
   "name": "research_env"
  },
  "language_info": {
   "codemirror_mode": {
    "name": "ipython",
    "version": 3
   },
   "file_extension": ".py",
   "mimetype": "text/x-python",
   "name": "python",
   "nbconvert_exporter": "python",
   "pygments_lexer": "ipython3",
   "version": "3.9.10"
  },
  "widgets": {
   "application/vnd.jupyter.widget-state+json": {
    "state": {},
    "version_major": 2,
    "version_minor": 0
   }
  }
 },
 "nbformat": 4,
 "nbformat_minor": 5
}
